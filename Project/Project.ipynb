{
 "cells": [
  {
   "cell_type": "code",
   "execution_count": 1,
   "metadata": {
    "colab": {
     "base_uri": "https://localhost:8080/"
    },
    "id": "vYnm4nm-er8N",
    "outputId": "3666aa3a-0e51-46c4-c153-79ad71902518"
   },
   "outputs": [
    {
     "name": "stdout",
     "output_type": "stream",
     "text": [
      "Looking in indexes: https://pypi.org/simple, https://us-python.pkg.dev/colab-wheels/public/simple/\n",
      "Collecting noisereduce\n",
      "  Downloading noisereduce-2.0.1-py3-none-any.whl (15 kB)\n",
      "Requirement already satisfied: librosa in /usr/local/lib/python3.7/dist-packages (from noisereduce) (0.8.1)\n",
      "Requirement already satisfied: tqdm in /usr/local/lib/python3.7/dist-packages (from noisereduce) (4.64.0)\n",
      "Requirement already satisfied: numpy in /usr/local/lib/python3.7/dist-packages (from noisereduce) (1.21.6)\n",
      "Requirement already satisfied: matplotlib in /usr/local/lib/python3.7/dist-packages (from noisereduce) (3.2.2)\n",
      "Requirement already satisfied: scipy in /usr/local/lib/python3.7/dist-packages (from noisereduce) (1.4.1)\n",
      "Requirement already satisfied: audioread>=2.0.0 in /usr/local/lib/python3.7/dist-packages (from librosa->noisereduce) (2.1.9)\n",
      "Requirement already satisfied: joblib>=0.14 in /usr/local/lib/python3.7/dist-packages (from librosa->noisereduce) (1.1.0)\n",
      "Requirement already satisfied: decorator>=3.0.0 in /usr/local/lib/python3.7/dist-packages (from librosa->noisereduce) (4.4.2)\n",
      "Requirement already satisfied: soundfile>=0.10.2 in /usr/local/lib/python3.7/dist-packages (from librosa->noisereduce) (0.10.3.post1)\n",
      "Requirement already satisfied: resampy>=0.2.2 in /usr/local/lib/python3.7/dist-packages (from librosa->noisereduce) (0.2.2)\n",
      "Requirement already satisfied: packaging>=20.0 in /usr/local/lib/python3.7/dist-packages (from librosa->noisereduce) (21.3)\n",
      "Requirement already satisfied: numba>=0.43.0 in /usr/local/lib/python3.7/dist-packages (from librosa->noisereduce) (0.51.2)\n",
      "Requirement already satisfied: scikit-learn!=0.19.0,>=0.14.0 in /usr/local/lib/python3.7/dist-packages (from librosa->noisereduce) (1.0.2)\n",
      "Requirement already satisfied: pooch>=1.0 in /usr/local/lib/python3.7/dist-packages (from librosa->noisereduce) (1.6.0)\n",
      "Requirement already satisfied: setuptools in /usr/local/lib/python3.7/dist-packages (from numba>=0.43.0->librosa->noisereduce) (57.4.0)\n",
      "Requirement already satisfied: llvmlite<0.35,>=0.34.0.dev0 in /usr/local/lib/python3.7/dist-packages (from numba>=0.43.0->librosa->noisereduce) (0.34.0)\n",
      "Requirement already satisfied: pyparsing!=3.0.5,>=2.0.2 in /usr/local/lib/python3.7/dist-packages (from packaging>=20.0->librosa->noisereduce) (3.0.9)\n",
      "Requirement already satisfied: appdirs>=1.3.0 in /usr/local/lib/python3.7/dist-packages (from pooch>=1.0->librosa->noisereduce) (1.4.4)\n",
      "Requirement already satisfied: requests>=2.19.0 in /usr/local/lib/python3.7/dist-packages (from pooch>=1.0->librosa->noisereduce) (2.23.0)\n",
      "Requirement already satisfied: urllib3!=1.25.0,!=1.25.1,<1.26,>=1.21.1 in /usr/local/lib/python3.7/dist-packages (from requests>=2.19.0->pooch>=1.0->librosa->noisereduce) (1.24.3)\n",
      "Requirement already satisfied: idna<3,>=2.5 in /usr/local/lib/python3.7/dist-packages (from requests>=2.19.0->pooch>=1.0->librosa->noisereduce) (2.10)\n",
      "Requirement already satisfied: certifi>=2017.4.17 in /usr/local/lib/python3.7/dist-packages (from requests>=2.19.0->pooch>=1.0->librosa->noisereduce) (2022.6.15)\n",
      "Requirement already satisfied: chardet<4,>=3.0.2 in /usr/local/lib/python3.7/dist-packages (from requests>=2.19.0->pooch>=1.0->librosa->noisereduce) (3.0.4)\n",
      "Requirement already satisfied: six>=1.3 in /usr/local/lib/python3.7/dist-packages (from resampy>=0.2.2->librosa->noisereduce) (1.15.0)\n",
      "Requirement already satisfied: threadpoolctl>=2.0.0 in /usr/local/lib/python3.7/dist-packages (from scikit-learn!=0.19.0,>=0.14.0->librosa->noisereduce) (3.1.0)\n",
      "Requirement already satisfied: cffi>=1.0 in /usr/local/lib/python3.7/dist-packages (from soundfile>=0.10.2->librosa->noisereduce) (1.15.0)\n",
      "Requirement already satisfied: pycparser in /usr/local/lib/python3.7/dist-packages (from cffi>=1.0->soundfile>=0.10.2->librosa->noisereduce) (2.21)\n",
      "Requirement already satisfied: cycler>=0.10 in /usr/local/lib/python3.7/dist-packages (from matplotlib->noisereduce) (0.11.0)\n",
      "Requirement already satisfied: python-dateutil>=2.1 in /usr/local/lib/python3.7/dist-packages (from matplotlib->noisereduce) (2.8.2)\n",
      "Requirement already satisfied: kiwisolver>=1.0.1 in /usr/local/lib/python3.7/dist-packages (from matplotlib->noisereduce) (1.4.3)\n",
      "Requirement already satisfied: typing-extensions in /usr/local/lib/python3.7/dist-packages (from kiwisolver>=1.0.1->matplotlib->noisereduce) (4.1.1)\n",
      "Installing collected packages: noisereduce\n",
      "Successfully installed noisereduce-2.0.1\n"
     ]
    }
   ],
   "source": [
    "!pip install noisereduce"
   ]
  },
  {
   "cell_type": "code",
   "execution_count": 3,
   "metadata": {
    "colab": {
     "base_uri": "https://localhost:8080/"
    },
    "id": "8Y8-Q7RnO5CD",
    "outputId": "35041d07-7cc2-49cb-fa69-4006a35c96aa"
   },
   "outputs": [
    {
     "name": "stdout",
     "output_type": "stream",
     "text": [
      "Looking in indexes: https://pypi.org/simple, https://us-python.pkg.dev/colab-wheels/public/simple/\n",
      "Requirement already satisfied: librosa in /usr/local/lib/python3.7/dist-packages (0.8.1)\n",
      "Requirement already satisfied: pooch>=1.0 in /usr/local/lib/python3.7/dist-packages (from librosa) (1.6.0)\n",
      "Requirement already satisfied: numba>=0.43.0 in /usr/local/lib/python3.7/dist-packages (from librosa) (0.51.2)\n",
      "Requirement already satisfied: packaging>=20.0 in /usr/local/lib/python3.7/dist-packages (from librosa) (21.3)\n",
      "Requirement already satisfied: scipy>=1.0.0 in /usr/local/lib/python3.7/dist-packages (from librosa) (1.4.1)\n",
      "Requirement already satisfied: audioread>=2.0.0 in /usr/local/lib/python3.7/dist-packages (from librosa) (2.1.9)\n",
      "Requirement already satisfied: resampy>=0.2.2 in /usr/local/lib/python3.7/dist-packages (from librosa) (0.2.2)\n",
      "Requirement already satisfied: scikit-learn!=0.19.0,>=0.14.0 in /usr/local/lib/python3.7/dist-packages (from librosa) (1.0.2)\n",
      "Requirement already satisfied: joblib>=0.14 in /usr/local/lib/python3.7/dist-packages (from librosa) (1.1.0)\n",
      "Requirement already satisfied: soundfile>=0.10.2 in /usr/local/lib/python3.7/dist-packages (from librosa) (0.10.3.post1)\n",
      "Requirement already satisfied: decorator>=3.0.0 in /usr/local/lib/python3.7/dist-packages (from librosa) (4.4.2)\n",
      "Requirement already satisfied: numpy>=1.15.0 in /usr/local/lib/python3.7/dist-packages (from librosa) (1.21.6)\n",
      "Requirement already satisfied: setuptools in /usr/local/lib/python3.7/dist-packages (from numba>=0.43.0->librosa) (57.4.0)\n",
      "Requirement already satisfied: llvmlite<0.35,>=0.34.0.dev0 in /usr/local/lib/python3.7/dist-packages (from numba>=0.43.0->librosa) (0.34.0)\n",
      "Requirement already satisfied: pyparsing!=3.0.5,>=2.0.2 in /usr/local/lib/python3.7/dist-packages (from packaging>=20.0->librosa) (3.0.9)\n",
      "Requirement already satisfied: appdirs>=1.3.0 in /usr/local/lib/python3.7/dist-packages (from pooch>=1.0->librosa) (1.4.4)\n",
      "Requirement already satisfied: requests>=2.19.0 in /usr/local/lib/python3.7/dist-packages (from pooch>=1.0->librosa) (2.23.0)\n",
      "Requirement already satisfied: idna<3,>=2.5 in /usr/local/lib/python3.7/dist-packages (from requests>=2.19.0->pooch>=1.0->librosa) (2.10)\n",
      "Requirement already satisfied: certifi>=2017.4.17 in /usr/local/lib/python3.7/dist-packages (from requests>=2.19.0->pooch>=1.0->librosa) (2022.6.15)\n",
      "Requirement already satisfied: chardet<4,>=3.0.2 in /usr/local/lib/python3.7/dist-packages (from requests>=2.19.0->pooch>=1.0->librosa) (3.0.4)\n",
      "Requirement already satisfied: urllib3!=1.25.0,!=1.25.1,<1.26,>=1.21.1 in /usr/local/lib/python3.7/dist-packages (from requests>=2.19.0->pooch>=1.0->librosa) (1.24.3)\n",
      "Requirement already satisfied: six>=1.3 in /usr/local/lib/python3.7/dist-packages (from resampy>=0.2.2->librosa) (1.15.0)\n",
      "Requirement already satisfied: threadpoolctl>=2.0.0 in /usr/local/lib/python3.7/dist-packages (from scikit-learn!=0.19.0,>=0.14.0->librosa) (3.1.0)\n",
      "Requirement already satisfied: cffi>=1.0 in /usr/local/lib/python3.7/dist-packages (from soundfile>=0.10.2->librosa) (1.15.0)\n",
      "Requirement already satisfied: pycparser in /usr/local/lib/python3.7/dist-packages (from cffi>=1.0->soundfile>=0.10.2->librosa) (2.21)\n"
     ]
    }
   ],
   "source": [
    "!pip install librosa"
   ]
  },
  {
   "cell_type": "code",
   "execution_count": 46,
   "metadata": {
    "id": "DR0G2-0jnh00"
   },
   "outputs": [],
   "source": [
    "from scipy.io import wavfile\n",
    "import scipy\n",
    "import os\n",
    "from IPython.display import Audio, display\n",
    "import noisereduce as nr\n",
    "from scipy.fft import fft, fftfreq\n",
    "from scipy.signal import butter, sosfiltfilt\n",
    "import matplotlib.pyplot as plt\n",
    "import numpy as np\n",
    "import glob\n",
    "from sklearn.preprocessing import StandardScaler\n",
    "from sklearn.decomposition import PCA\n",
    "from sklearn.pipeline import Pipeline\n",
    "from sklearn.model_selection import GridSearchCV, RandomizedSearchCV\n",
    "from sklearn.svm import SVC\n",
    "from sklearn.ensemble import RandomForestClassifier\n",
    "from sklearn.neighbors import KNeighborsClassifier\n",
    "from sklearn.naive_bayes import GaussianNB\n",
    "from sklearn.linear_model import LogisticRegression\n",
    "from sklearn.cluster import KMeans\n",
    "from sklearn.metrics import classification_report\n",
    "from sklearn.metrics import accuracy_score, confusion_matrix, ConfusionMatrixDisplay\n",
    "from sklearn.feature_selection import SelectKBest\n",
    "from sklearn.feature_selection import chi2\n",
    "import pandas as pd\n",
    "import pickle\n",
    "import librosa\n",
    "import random"
   ]
  },
  {
   "cell_type": "markdown",
   "metadata": {
    "id": "2eLGVnD3Md38"
   },
   "source": [
    "# PHASE 1"
   ]
  },
  {
   "cell_type": "code",
   "execution_count": 14,
   "metadata": {
    "id": "Uy9jrlUVpkoe"
   },
   "outputs": [],
   "source": [
    "def noise_reduction(path):\n",
    "  rate, audio = wavfile.read(path)\n",
    "  sos = butter(10, [75, 3500], analog=False,fs=rate, btype='band', output='sos')\n",
    "  filtered = sosfiltfilt(sos, audio)\n",
    "  wave = nr.reduce_noise(y = filtered, sr=rate,stationary=True,n_fft=256)\n",
    "  return wave"
   ]
  },
  {
   "cell_type": "code",
   "execution_count": 12,
   "metadata": {
    "id": "BkVA9BMysIoO"
   },
   "outputs": [],
   "source": [
    "def silence_trim(wave):\n",
    "  start = 0\n",
    "  end = len(wave)\n",
    "  #print(abs(max(wave[50:-50]))) #ignore unwanted picks at the end and beginning\n",
    "  for idx, point in enumerate(wave):\n",
    "    #first sample which is greater than 0.1*max is the start point\n",
    "    if abs(point) > 0.1*abs(max(wave[50:-50])): \n",
    "      if idx > 100:\n",
    "        start = idx\n",
    "        break\n",
    "\n",
    "  # Reverse the array for trimming the end\n",
    "  for idx, point in enumerate(wave[::-1]):\n",
    "    #last sample which is greater than 0.1*max is the end point\n",
    "    if abs(point) > 0.1*abs(max(wave[50:-50])):\n",
    "      if idx > 200:\n",
    "        end = len(wave) - idx\n",
    "        break\n",
    "  trimmed = wave[start:end]\n",
    "  return trimmed"
   ]
  },
  {
   "cell_type": "code",
   "execution_count": 13,
   "metadata": {
    "id": "TUNMZTu9KPhF"
   },
   "outputs": [],
   "source": [
    "def preprocess(root, padd=0):\n",
    "  X = [] #list to save trimmed signals with different length\n",
    "  y = [] #list to assign labels according to subdirectory\n",
    "\n",
    "  for i in range(10):\n",
    "    path = os.path.join(root,str(i))\n",
    "    for file in glob.glob(os.path.join(path,'*.wav')):\n",
    "      wave = noise_reduction(file)\n",
    "      trimmed = silence_trim(wave)\n",
    "      X.append(trimmed.tolist())\n",
    "      y.append(i)\n",
    "\n",
    "  length = len(max(X,key=len)) #padding train data with max length\n",
    "  if(padd != 0): #padding test data with maximum length of \"train\" data\n",
    "    length = padd\n",
    "  print(length)\n",
    "  print()\n",
    "  X_pad = np. zeros((len(X),length)) #2D array for equal size train(test) data\n",
    "  for j in range(len(X)):\n",
    "    audio = np.asarray(X[j]) #convert list back to numpy\n",
    "    #print(audio.shape[0])\n",
    "    #pad the end of signal with zeros\n",
    "    audio = np.pad(audio,(0,length-audio.shape[0]),'constant',constant_values=(0,0))\n",
    "    X_pad[j] = audio\n",
    "\n",
    "  y = np.asarray(y)\n",
    "\n",
    "  return X_pad,y, length\n"
   ]
  },
  {
   "cell_type": "code",
   "execution_count": 31,
   "metadata": {
    "id": "htni17yoJIG8"
   },
   "outputs": [],
   "source": [
    "root = os.getcwd()\n",
    "dataset_path = os.path.join(root,'Dataset')\n",
    "phase1_path = os.path.join(root,'Phase_1')\n",
    "phase2a_path = os.path.join(root,'Phase_2a')\n",
    "phase2b_path = os.path.join(root,'Phase_2b')\n",
    "phase3_path = os.path.join(root,'Phase_3')\n",
    "train_path = os.path.join(dataset_path,'train')\n",
    "test_path = os.path.join(dataset_path,'test')"
   ]
  },
  {
   "cell_type": "code",
   "execution_count": null,
   "metadata": {
    "colab": {
     "base_uri": "https://localhost:8080/"
    },
    "id": "msuZmPdannTB",
    "outputId": "4714b376-6948-4441-d8d6-75fcc0a9381f"
   },
   "outputs": [
    {
     "name": "stdout",
     "output_type": "stream",
     "text": [
      "4783\n",
      "\n",
      "(2000, 4783)\n",
      "(2000,)\n",
      "4783\n",
      "\n",
      "(500, 4783)\n",
      "(500,)\n"
     ]
    }
   ],
   "source": [
    "X_train,y_train,len_train = preprocess(train_path)\n",
    "np.save(os.path.join(phase1_path,'phase1_Xtrain.npy'),X_train)\n",
    "np.save(os.path.join(phase1_path,'phase1_ytrain.npy'),y_train)\n",
    "print(X_train.shape)\n",
    "print(y_train.shape)\n",
    "\n",
    "X_test,y_test,len_test = preprocess(test_path,len_train)\n",
    "np.save(os.path.join(phase1_path,'phase1_Xtest.npy'),X_test)\n",
    "np.save(os.path.join(phase1_path,'phase1_ytest.npy'),y_test)\n",
    "print(X_test.shape)\n",
    "print(y_test.shape)\n",
    "\n",
    "# fig = plt.figure(figsize=(14, 45))\n",
    "# for i in range(X_train.shape[0]):\n",
    "#     time = np.linspace(0., X_train.shape[1]/8000, X_train.shape[1])\n",
    "#     ax = fig.add_subplot(X_train.shape[0],1,i+1)\n",
    "#     plt.grid(axis = 'y')\n",
    "#     plt.plot(time,X_train[i])\n",
    "# plt.show()"
   ]
  },
  {
   "cell_type": "markdown",
   "metadata": {
    "id": "iObenSTVJfZO"
   },
   "source": [
    "# PHASE 2 a"
   ]
  },
  {
   "cell_type": "markdown",
   "metadata": {
    "id": "xNJlamUkJiTU"
   },
   "source": [
    "## الف)"
   ]
  },
  {
   "cell_type": "code",
   "execution_count": 7,
   "metadata": {
    "colab": {
     "base_uri": "https://localhost:8080/"
    },
    "id": "2ZZF9eCvJhtH",
    "outputId": "0c464756-0d56-4ecc-a504-cac8bc1c4918"
   },
   "outputs": [
    {
     "name": "stdout",
     "output_type": "stream",
     "text": [
      "(2000, 4783)\n",
      "(2000,)\n"
     ]
    }
   ],
   "source": [
    "X_train = np.load(os.path.join(phase1_path,'phase1_Xtrain.npy'))\n",
    "y_train = np.load(os.path.join(phase1_path,'phase1_ytrain.npy'))\n",
    "print(X_train.shape)\n",
    "print(y_train.shape)\n"
   ]
  },
  {
   "cell_type": "code",
   "execution_count": 8,
   "metadata": {
    "colab": {
     "base_uri": "https://localhost:8080/"
    },
    "id": "00g8wuUQg33D",
    "outputId": "4a9621eb-e696-42d4-f157-430fd501cad6"
   },
   "outputs": [
    {
     "name": "stdout",
     "output_type": "stream",
     "text": [
      "(500, 4783)\n",
      "(500,)\n"
     ]
    }
   ],
   "source": [
    "X_test = np.load(os.path.join(phase1_path,'phase1_Xtest.npy'))\n",
    "y_test = np.load(os.path.join(phase1_path,'phase1_ytest.npy'))\n",
    "print(X_test.shape)\n",
    "print(y_test.shape)"
   ]
  },
  {
   "cell_type": "code",
   "execution_count": 9,
   "metadata": {
    "id": "l3GZFfv-CXYK"
   },
   "outputs": [],
   "source": [
    "scalar = StandardScaler()\n",
    "X_train_scale = scalar.fit_transform(X_train)\n",
    "X_test_scale = scalar.transform(X_test)"
   ]
  },
  {
   "cell_type": "code",
   "execution_count": 40,
   "metadata": {
    "id": "u2Zlzv6CKlQ5"
   },
   "outputs": [],
   "source": [
    "pca = PCA() #n_components = n_samples = 2000 \n",
    "pca.fit(X_train_scale);\n",
    "evr = pca.explained_variance_ratio_ #how much information each feature holds compared to others"
   ]
  },
  {
   "cell_type": "code",
   "execution_count": 41,
   "metadata": {
    "colab": {
     "base_uri": "https://localhost:8080/"
    },
    "id": "6E4pZJM8sYgV",
    "outputId": "26403b5f-66ff-43d0-8cde-734dac667e27"
   },
   "outputs": [
    {
     "name": "stdout",
     "output_type": "stream",
     "text": [
      "[0.13719439 0.67818515 0.80013019 0.86458341 0.90434454 0.93085616\n",
      " 0.94914157 0.96219883 0.97174105 0.97883095 0.98410242 0.98805202\n",
      " 0.99104354 0.99330342 0.99502232 0.99633506 0.99733359 0.99808029\n",
      " 0.99862994 0.99903372 0.99932738 0.99954077 0.99968975 0.999794\n",
      " 0.99986508 0.99991269 0.99994439 0.99996577 0.99997954 0.99998819\n",
      " 0.99999348 0.99999659 0.99999834 0.99999925 0.9999997  0.99999989\n",
      " 0.99999997 0.99999999 1.         1.        ]\n",
      "(2000,)\n"
     ]
    }
   ],
   "source": [
    "print(evr.cumsum()[0:2000:50])\n",
    "print(evr.shape)"
   ]
  },
  {
   "cell_type": "code",
   "execution_count": 46,
   "metadata": {
    "colab": {
     "base_uri": "https://localhost:8080/",
     "height": 388
    },
    "id": "irP6wX9ehEzb",
    "outputId": "3cbb6825-a2e9-4128-bcec-df8ed08580b2"
   },
   "outputs": [
    {
     "data": {
      "image/png": "[encoded data removed]",
      "text/plain": [
       "<Figure size 720x432 with 1 Axes>"
      ]
     },
     "metadata": {
      "needs_background": "light"
     },
     "output_type": "display_data"
    }
   ],
   "source": [
    "#cumulative plot to choose an optimum n_components with least omitted data\n",
    "fig = plt.figure(figsize=(10,6))\n",
    "plt.plot(range(1, X_train.shape[0]+1), evr.cumsum(), marker='o',markersize=1)\n",
    "plt.xlabel('Number of Components')\n",
    "plt.ylabel('Cumulative Explained Variance')\n",
    "plt.grid()\n",
    "plt.show()"
   ]
  },
  {
   "cell_type": "code",
   "execution_count": 10,
   "metadata": {
    "colab": {
     "base_uri": "https://localhost:8080/"
    },
    "id": "om9uCcA3r4KW",
    "outputId": "d9c33ba3-5c9b-45d0-9db6-da9116f6eb13"
   },
   "outputs": [
    {
     "name": "stdout",
     "output_type": "stream",
     "text": [
      "(2000, 300)\n"
     ]
    }
   ],
   "source": [
    "pca = PCA(n_components=300)\n",
    "X_train_pca = pca.fit_transform(X_train_scale)\n",
    "X_test_pca = pca.transform(X_test_scale)\n",
    "print(X_train_pca.shape)"
   ]
  },
  {
   "cell_type": "code",
   "execution_count": 12,
   "metadata": {
    "colab": {
     "base_uri": "https://localhost:8080/",
     "height": 1000
    },
    "id": "eYSJ8nbcB9Ph",
    "outputId": "a6d98878-9246-4981-a9f6-192af77f563f"
   },
   "outputs": [
    {
     "name": "stdout",
     "output_type": "stream",
     "text": [
      "Fitting 5 folds for each of 50 candidates, totalling 250 fits\n"
     ]
    },
    {
     "data": {
      "text/html": [
       "\n",
       "  <div id=\"df-9a91fe1d-2492-489f-af14-426cbd579548\">\n",
       "    <div class=\"colab-df-container\">\n",
       "      <div>\n",
       "<style scoped>\n",
       "    .dataframe tbody tr th:only-of-type {\n",
       "        vertical-align: middle;\n",
       "    }\n",
       "\n",
       "    .dataframe tbody tr th {\n",
       "        vertical-align: top;\n",
       "    }\n",
       "\n",
       "    .dataframe thead th {\n",
       "        text-align: right;\n",
       "    }\n",
       "</style>\n",
       "<table border=\"1\" class=\"dataframe\">\n",
       "  <thead>\n",
       "    <tr style=\"text-align: right;\">\n",
       "      <th></th>\n",
       "      <th>parameters</th>\n",
       "      <th>validation_score</th>\n",
       "      <th>train_score</th>\n",
       "      <th>rank</th>\n",
       "    </tr>\n",
       "  </thead>\n",
       "  <tbody>\n",
       "    <tr>\n",
       "      <th>0</th>\n",
       "      <td>{'n_estimators': 300, 'min_samples_split': 12,...</td>\n",
       "      <td>0.3055</td>\n",
       "      <td>0.992125</td>\n",
       "      <td>41</td>\n",
       "    </tr>\n",
       "    <tr>\n",
       "      <th>1</th>\n",
       "      <td>{'n_estimators': 300, 'min_samples_split': 12,...</td>\n",
       "      <td>0.2965</td>\n",
       "      <td>0.990500</td>\n",
       "      <td>49</td>\n",
       "    </tr>\n",
       "    <tr>\n",
       "      <th>2</th>\n",
       "      <td>{'n_estimators': 400, 'min_samples_split': 10,...</td>\n",
       "      <td>0.3205</td>\n",
       "      <td>0.996000</td>\n",
       "      <td>6</td>\n",
       "    </tr>\n",
       "    <tr>\n",
       "      <th>3</th>\n",
       "      <td>{'n_estimators': 400, 'min_samples_split': 10,...</td>\n",
       "      <td>0.3105</td>\n",
       "      <td>0.990750</td>\n",
       "      <td>29</td>\n",
       "    </tr>\n",
       "    <tr>\n",
       "      <th>4</th>\n",
       "      <td>{'n_estimators': 300, 'min_samples_split': 10,...</td>\n",
       "      <td>0.3140</td>\n",
       "      <td>0.990625</td>\n",
       "      <td>19</td>\n",
       "    </tr>\n",
       "    <tr>\n",
       "      <th>5</th>\n",
       "      <td>{'n_estimators': 500, 'min_samples_split': 12,...</td>\n",
       "      <td>0.3160</td>\n",
       "      <td>0.994125</td>\n",
       "      <td>11</td>\n",
       "    </tr>\n",
       "    <tr>\n",
       "      <th>6</th>\n",
       "      <td>{'n_estimators': 300, 'min_samples_split': 8, ...</td>\n",
       "      <td>0.3100</td>\n",
       "      <td>0.997375</td>\n",
       "      <td>30</td>\n",
       "    </tr>\n",
       "    <tr>\n",
       "      <th>7</th>\n",
       "      <td>{'n_estimators': 300, 'min_samples_split': 10,...</td>\n",
       "      <td>0.3060</td>\n",
       "      <td>0.997125</td>\n",
       "      <td>39</td>\n",
       "    </tr>\n",
       "    <tr>\n",
       "      <th>8</th>\n",
       "      <td>{'n_estimators': 400, 'min_samples_split': 8, ...</td>\n",
       "      <td>0.3240</td>\n",
       "      <td>0.997750</td>\n",
       "      <td>3</td>\n",
       "    </tr>\n",
       "    <tr>\n",
       "      <th>9</th>\n",
       "      <td>{'n_estimators': 500, 'min_samples_split': 8, ...</td>\n",
       "      <td>0.3250</td>\n",
       "      <td>0.994500</td>\n",
       "      <td>1</td>\n",
       "    </tr>\n",
       "    <tr>\n",
       "      <th>10</th>\n",
       "      <td>{'n_estimators': 400, 'min_samples_split': 12,...</td>\n",
       "      <td>0.3160</td>\n",
       "      <td>0.995750</td>\n",
       "      <td>11</td>\n",
       "    </tr>\n",
       "    <tr>\n",
       "      <th>11</th>\n",
       "      <td>{'n_estimators': 300, 'min_samples_split': 12,...</td>\n",
       "      <td>0.3060</td>\n",
       "      <td>0.992125</td>\n",
       "      <td>37</td>\n",
       "    </tr>\n",
       "    <tr>\n",
       "      <th>12</th>\n",
       "      <td>{'n_estimators': 300, 'min_samples_split': 12,...</td>\n",
       "      <td>0.3055</td>\n",
       "      <td>0.992750</td>\n",
       "      <td>41</td>\n",
       "    </tr>\n",
       "    <tr>\n",
       "      <th>13</th>\n",
       "      <td>{'n_estimators': 300, 'min_samples_split': 10,...</td>\n",
       "      <td>0.2930</td>\n",
       "      <td>0.991875</td>\n",
       "      <td>50</td>\n",
       "    </tr>\n",
       "    <tr>\n",
       "      <th>14</th>\n",
       "      <td>{'n_estimators': 500, 'min_samples_split': 10,...</td>\n",
       "      <td>0.3055</td>\n",
       "      <td>0.990500</td>\n",
       "      <td>41</td>\n",
       "    </tr>\n",
       "    <tr>\n",
       "      <th>15</th>\n",
       "      <td>{'n_estimators': 300, 'min_samples_split': 10,...</td>\n",
       "      <td>0.3010</td>\n",
       "      <td>0.994125</td>\n",
       "      <td>47</td>\n",
       "    </tr>\n",
       "    <tr>\n",
       "      <th>16</th>\n",
       "      <td>{'n_estimators': 300, 'min_samples_split': 8, ...</td>\n",
       "      <td>0.3045</td>\n",
       "      <td>0.991250</td>\n",
       "      <td>44</td>\n",
       "    </tr>\n",
       "    <tr>\n",
       "      <th>17</th>\n",
       "      <td>{'n_estimators': 400, 'min_samples_split': 10,...</td>\n",
       "      <td>0.3130</td>\n",
       "      <td>0.991250</td>\n",
       "      <td>21</td>\n",
       "    </tr>\n",
       "    <tr>\n",
       "      <th>18</th>\n",
       "      <td>{'n_estimators': 400, 'min_samples_split': 12,...</td>\n",
       "      <td>0.3130</td>\n",
       "      <td>0.993625</td>\n",
       "      <td>21</td>\n",
       "    </tr>\n",
       "    <tr>\n",
       "      <th>19</th>\n",
       "      <td>{'n_estimators': 500, 'min_samples_split': 12,...</td>\n",
       "      <td>0.3165</td>\n",
       "      <td>0.993250</td>\n",
       "      <td>10</td>\n",
       "    </tr>\n",
       "    <tr>\n",
       "      <th>20</th>\n",
       "      <td>{'n_estimators': 500, 'min_samples_split': 10,...</td>\n",
       "      <td>0.3075</td>\n",
       "      <td>0.995750</td>\n",
       "      <td>34</td>\n",
       "    </tr>\n",
       "    <tr>\n",
       "      <th>21</th>\n",
       "      <td>{'n_estimators': 300, 'min_samples_split': 10,...</td>\n",
       "      <td>0.3160</td>\n",
       "      <td>0.997250</td>\n",
       "      <td>11</td>\n",
       "    </tr>\n",
       "    <tr>\n",
       "      <th>22</th>\n",
       "      <td>{'n_estimators': 500, 'min_samples_split': 12,...</td>\n",
       "      <td>0.3145</td>\n",
       "      <td>0.995500</td>\n",
       "      <td>18</td>\n",
       "    </tr>\n",
       "    <tr>\n",
       "      <th>23</th>\n",
       "      <td>{'n_estimators': 400, 'min_samples_split': 12,...</td>\n",
       "      <td>0.3155</td>\n",
       "      <td>0.992875</td>\n",
       "      <td>16</td>\n",
       "    </tr>\n",
       "    <tr>\n",
       "      <th>24</th>\n",
       "      <td>{'n_estimators': 400, 'min_samples_split': 10,...</td>\n",
       "      <td>0.3110</td>\n",
       "      <td>0.994000</td>\n",
       "      <td>28</td>\n",
       "    </tr>\n",
       "    <tr>\n",
       "      <th>25</th>\n",
       "      <td>{'n_estimators': 400, 'min_samples_split': 10,...</td>\n",
       "      <td>0.3040</td>\n",
       "      <td>0.990875</td>\n",
       "      <td>45</td>\n",
       "    </tr>\n",
       "    <tr>\n",
       "      <th>26</th>\n",
       "      <td>{'n_estimators': 500, 'min_samples_split': 10,...</td>\n",
       "      <td>0.3080</td>\n",
       "      <td>0.995500</td>\n",
       "      <td>32</td>\n",
       "    </tr>\n",
       "    <tr>\n",
       "      <th>27</th>\n",
       "      <td>{'n_estimators': 400, 'min_samples_split': 8, ...</td>\n",
       "      <td>0.3250</td>\n",
       "      <td>0.998500</td>\n",
       "      <td>1</td>\n",
       "    </tr>\n",
       "    <tr>\n",
       "      <th>28</th>\n",
       "      <td>{'n_estimators': 500, 'min_samples_split': 12,...</td>\n",
       "      <td>0.3070</td>\n",
       "      <td>0.992250</td>\n",
       "      <td>35</td>\n",
       "    </tr>\n",
       "    <tr>\n",
       "      <th>29</th>\n",
       "      <td>{'n_estimators': 300, 'min_samples_split': 8, ...</td>\n",
       "      <td>0.3155</td>\n",
       "      <td>0.997625</td>\n",
       "      <td>16</td>\n",
       "    </tr>\n",
       "    <tr>\n",
       "      <th>30</th>\n",
       "      <td>{'n_estimators': 300, 'min_samples_split': 12,...</td>\n",
       "      <td>0.3160</td>\n",
       "      <td>0.995250</td>\n",
       "      <td>11</td>\n",
       "    </tr>\n",
       "    <tr>\n",
       "      <th>31</th>\n",
       "      <td>{'n_estimators': 300, 'min_samples_split': 8, ...</td>\n",
       "      <td>0.3130</td>\n",
       "      <td>0.991000</td>\n",
       "      <td>21</td>\n",
       "    </tr>\n",
       "    <tr>\n",
       "      <th>32</th>\n",
       "      <td>{'n_estimators': 300, 'min_samples_split': 12,...</td>\n",
       "      <td>0.3005</td>\n",
       "      <td>0.990500</td>\n",
       "      <td>48</td>\n",
       "    </tr>\n",
       "    <tr>\n",
       "      <th>33</th>\n",
       "      <td>{'n_estimators': 400, 'min_samples_split': 12,...</td>\n",
       "      <td>0.3090</td>\n",
       "      <td>0.995250</td>\n",
       "      <td>31</td>\n",
       "    </tr>\n",
       "    <tr>\n",
       "      <th>34</th>\n",
       "      <td>{'n_estimators': 500, 'min_samples_split': 12,...</td>\n",
       "      <td>0.3120</td>\n",
       "      <td>0.995375</td>\n",
       "      <td>26</td>\n",
       "    </tr>\n",
       "    <tr>\n",
       "      <th>35</th>\n",
       "      <td>{'n_estimators': 500, 'min_samples_split': 8, ...</td>\n",
       "      <td>0.3220</td>\n",
       "      <td>0.998250</td>\n",
       "      <td>5</td>\n",
       "    </tr>\n",
       "    <tr>\n",
       "      <th>36</th>\n",
       "      <td>{'n_estimators': 500, 'min_samples_split': 8, ...</td>\n",
       "      <td>0.3235</td>\n",
       "      <td>0.998250</td>\n",
       "      <td>4</td>\n",
       "    </tr>\n",
       "    <tr>\n",
       "      <th>37</th>\n",
       "      <td>{'n_estimators': 500, 'min_samples_split': 8, ...</td>\n",
       "      <td>0.3195</td>\n",
       "      <td>0.990750</td>\n",
       "      <td>7</td>\n",
       "    </tr>\n",
       "    <tr>\n",
       "      <th>38</th>\n",
       "      <td>{'n_estimators': 500, 'min_samples_split': 8, ...</td>\n",
       "      <td>0.3140</td>\n",
       "      <td>0.998625</td>\n",
       "      <td>20</td>\n",
       "    </tr>\n",
       "    <tr>\n",
       "      <th>39</th>\n",
       "      <td>{'n_estimators': 300, 'min_samples_split': 10,...</td>\n",
       "      <td>0.3115</td>\n",
       "      <td>0.994125</td>\n",
       "      <td>27</td>\n",
       "    </tr>\n",
       "    <tr>\n",
       "      <th>40</th>\n",
       "      <td>{'n_estimators': 400, 'min_samples_split': 8, ...</td>\n",
       "      <td>0.3060</td>\n",
       "      <td>0.991125</td>\n",
       "      <td>39</td>\n",
       "    </tr>\n",
       "    <tr>\n",
       "      <th>41</th>\n",
       "      <td>{'n_estimators': 300, 'min_samples_split': 12,...</td>\n",
       "      <td>0.3025</td>\n",
       "      <td>0.993875</td>\n",
       "      <td>46</td>\n",
       "    </tr>\n",
       "    <tr>\n",
       "      <th>42</th>\n",
       "      <td>{'n_estimators': 400, 'min_samples_split': 12,...</td>\n",
       "      <td>0.3060</td>\n",
       "      <td>0.992375</td>\n",
       "      <td>37</td>\n",
       "    </tr>\n",
       "    <tr>\n",
       "      <th>43</th>\n",
       "      <td>{'n_estimators': 500, 'min_samples_split': 10,...</td>\n",
       "      <td>0.3130</td>\n",
       "      <td>0.994125</td>\n",
       "      <td>21</td>\n",
       "    </tr>\n",
       "    <tr>\n",
       "      <th>44</th>\n",
       "      <td>{'n_estimators': 500, 'min_samples_split': 12,...</td>\n",
       "      <td>0.3070</td>\n",
       "      <td>0.995625</td>\n",
       "      <td>35</td>\n",
       "    </tr>\n",
       "    <tr>\n",
       "      <th>45</th>\n",
       "      <td>{'n_estimators': 500, 'min_samples_split': 12,...</td>\n",
       "      <td>0.3170</td>\n",
       "      <td>0.996000</td>\n",
       "      <td>9</td>\n",
       "    </tr>\n",
       "    <tr>\n",
       "      <th>46</th>\n",
       "      <td>{'n_estimators': 300, 'min_samples_split': 12,...</td>\n",
       "      <td>0.3120</td>\n",
       "      <td>0.992875</td>\n",
       "      <td>25</td>\n",
       "    </tr>\n",
       "    <tr>\n",
       "      <th>47</th>\n",
       "      <td>{'n_estimators': 400, 'min_samples_split': 8, ...</td>\n",
       "      <td>0.3160</td>\n",
       "      <td>0.994625</td>\n",
       "      <td>11</td>\n",
       "    </tr>\n",
       "    <tr>\n",
       "      <th>48</th>\n",
       "      <td>{'n_estimators': 500, 'min_samples_split': 8, ...</td>\n",
       "      <td>0.3080</td>\n",
       "      <td>0.991000</td>\n",
       "      <td>32</td>\n",
       "    </tr>\n",
       "    <tr>\n",
       "      <th>49</th>\n",
       "      <td>{'n_estimators': 400, 'min_samples_split': 12,...</td>\n",
       "      <td>0.3185</td>\n",
       "      <td>0.994500</td>\n",
       "      <td>8</td>\n",
       "    </tr>\n",
       "  </tbody>\n",
       "</table>\n",
       "</div>\n",
       "      <button class=\"colab-df-convert\" onclick=\"convertToInteractive('df-9a91fe1d-2492-489f-af14-426cbd579548')\"\n",
       "              title=\"Convert this dataframe to an interactive table.\"\n",
       "              style=\"display:none;\">\n",
       "        \n",
       "  <svg xmlns=\"http://www.w3.org/2000/svg\" height=\"24px\"viewBox=\"0 0 24 24\"\n",
       "       width=\"24px\">\n",
       "    <path d=\"M0 0h24v24H0V0z\" fill=\"none\"/>\n",
       "    <path d=\"M18.56 5.44l.94 2.06.94-2.06 2.06-.94-2.06-.94-.94-2.06-.94 2.06-2.06.94zm-11 1L8.5 8.5l.94-2.06 2.06-.94-2.06-.94L8.5 2.5l-.94 2.06-2.06.94zm10 10l.94 2.06.94-2.06 2.06-.94-2.06-.94-.94-2.06-.94 2.06-2.06.94z\"/><path d=\"M17.41 7.96l-1.37-1.37c-.4-.4-.92-.59-1.43-.59-.52 0-1.04.2-1.43.59L10.3 9.45l-7.72 7.72c-.78.78-.78 2.05 0 2.83L4 21.41c.39.39.9.59 1.41.59.51 0 1.02-.2 1.41-.59l7.78-7.78 2.81-2.81c.8-.78.8-2.07 0-2.86zM5.41 20L4 18.59l7.72-7.72 1.47 1.35L5.41 20z\"/>\n",
       "  </svg>\n",
       "      </button>\n",
       "      \n",
       "  <style>\n",
       "    .colab-df-container {\n",
       "      display:flex;\n",
       "      flex-wrap:wrap;\n",
       "      gap: 12px;\n",
       "    }\n",
       "\n",
       "    .colab-df-convert {\n",
       "      background-color: #E8F0FE;\n",
       "      border: none;\n",
       "      border-radius: 50%;\n",
       "      cursor: pointer;\n",
       "      display: none;\n",
       "      fill: #1967D2;\n",
       "      height: 32px;\n",
       "      padding: 0 0 0 0;\n",
       "      width: 32px;\n",
       "    }\n",
       "\n",
       "    .colab-df-convert:hover {\n",
       "      background-color: #E2EBFA;\n",
       "      box-shadow: 0px 1px 2px rgba(60, 64, 67, 0.3), 0px 1px 3px 1px rgba(60, 64, 67, 0.15);\n",
       "      fill: #174EA6;\n",
       "    }\n",
       "\n",
       "    [theme=dark] .colab-df-convert {\n",
       "      background-color: #3B4455;\n",
       "      fill: #D2E3FC;\n",
       "    }\n",
       "\n",
       "    [theme=dark] .colab-df-convert:hover {\n",
       "      background-color: #434B5C;\n",
       "      box-shadow: 0px 1px 3px 1px rgba(0, 0, 0, 0.15);\n",
       "      filter: drop-shadow(0px 1px 2px rgba(0, 0, 0, 0.3));\n",
       "      fill: #FFFFFF;\n",
       "    }\n",
       "  </style>\n",
       "\n",
       "      <script>\n",
       "        const buttonEl =\n",
       "          document.querySelector('#df-9a91fe1d-2492-489f-af14-426cbd579548 button.colab-df-convert');\n",
       "        buttonEl.style.display =\n",
       "          google.colab.kernel.accessAllowed ? 'block' : 'none';\n",
       "\n",
       "        async function convertToInteractive(key) {\n",
       "          const element = document.querySelector('#df-9a91fe1d-2492-489f-af14-426cbd579548');\n",
       "          const dataTable =\n",
       "            await google.colab.kernel.invokeFunction('convertToInteractive',\n",
       "                                                     [key], {});\n",
       "          if (!dataTable) return;\n",
       "\n",
       "          const docLinkHtml = 'Like what you see? Visit the ' +\n",
       "            '<a target=\"_blank\" href=https://colab.research.google.com/notebooks/data_table.ipynb>data table notebook</a>'\n",
       "            + ' to learn more about interactive tables.';\n",
       "          element.innerHTML = '';\n",
       "          dataTable['output_type'] = 'display_data';\n",
       "          await google.colab.output.renderOutput(dataTable, element);\n",
       "          const docLink = document.createElement('div');\n",
       "          docLink.innerHTML = docLinkHtml;\n",
       "          element.appendChild(docLink);\n",
       "        }\n",
       "      </script>\n",
       "    </div>\n",
       "  </div>\n",
       "  "
      ],
      "text/plain": [
       "                                           parameters  validation_score  \\\n",
       "0   {'n_estimators': 300, 'min_samples_split': 12,...            0.3055   \n",
       "1   {'n_estimators': 300, 'min_samples_split': 12,...            0.2965   \n",
       "2   {'n_estimators': 400, 'min_samples_split': 10,...            0.3205   \n",
       "3   {'n_estimators': 400, 'min_samples_split': 10,...            0.3105   \n",
       "4   {'n_estimators': 300, 'min_samples_split': 10,...            0.3140   \n",
       "5   {'n_estimators': 500, 'min_samples_split': 12,...            0.3160   \n",
       "6   {'n_estimators': 300, 'min_samples_split': 8, ...            0.3100   \n",
       "7   {'n_estimators': 300, 'min_samples_split': 10,...            0.3060   \n",
       "8   {'n_estimators': 400, 'min_samples_split': 8, ...            0.3240   \n",
       "9   {'n_estimators': 500, 'min_samples_split': 8, ...            0.3250   \n",
       "10  {'n_estimators': 400, 'min_samples_split': 12,...            0.3160   \n",
       "11  {'n_estimators': 300, 'min_samples_split': 12,...            0.3060   \n",
       "12  {'n_estimators': 300, 'min_samples_split': 12,...            0.3055   \n",
       "13  {'n_estimators': 300, 'min_samples_split': 10,...            0.2930   \n",
       "14  {'n_estimators': 500, 'min_samples_split': 10,...            0.3055   \n",
       "15  {'n_estimators': 300, 'min_samples_split': 10,...            0.3010   \n",
       "16  {'n_estimators': 300, 'min_samples_split': 8, ...            0.3045   \n",
       "17  {'n_estimators': 400, 'min_samples_split': 10,...            0.3130   \n",
       "18  {'n_estimators': 400, 'min_samples_split': 12,...            0.3130   \n",
       "19  {'n_estimators': 500, 'min_samples_split': 12,...            0.3165   \n",
       "20  {'n_estimators': 500, 'min_samples_split': 10,...            0.3075   \n",
       "21  {'n_estimators': 300, 'min_samples_split': 10,...            0.3160   \n",
       "22  {'n_estimators': 500, 'min_samples_split': 12,...            0.3145   \n",
       "23  {'n_estimators': 400, 'min_samples_split': 12,...            0.3155   \n",
       "24  {'n_estimators': 400, 'min_samples_split': 10,...            0.3110   \n",
       "25  {'n_estimators': 400, 'min_samples_split': 10,...            0.3040   \n",
       "26  {'n_estimators': 500, 'min_samples_split': 10,...            0.3080   \n",
       "27  {'n_estimators': 400, 'min_samples_split': 8, ...            0.3250   \n",
       "28  {'n_estimators': 500, 'min_samples_split': 12,...            0.3070   \n",
       "29  {'n_estimators': 300, 'min_samples_split': 8, ...            0.3155   \n",
       "30  {'n_estimators': 300, 'min_samples_split': 12,...            0.3160   \n",
       "31  {'n_estimators': 300, 'min_samples_split': 8, ...            0.3130   \n",
       "32  {'n_estimators': 300, 'min_samples_split': 12,...            0.3005   \n",
       "33  {'n_estimators': 400, 'min_samples_split': 12,...            0.3090   \n",
       "34  {'n_estimators': 500, 'min_samples_split': 12,...            0.3120   \n",
       "35  {'n_estimators': 500, 'min_samples_split': 8, ...            0.3220   \n",
       "36  {'n_estimators': 500, 'min_samples_split': 8, ...            0.3235   \n",
       "37  {'n_estimators': 500, 'min_samples_split': 8, ...            0.3195   \n",
       "38  {'n_estimators': 500, 'min_samples_split': 8, ...            0.3140   \n",
       "39  {'n_estimators': 300, 'min_samples_split': 10,...            0.3115   \n",
       "40  {'n_estimators': 400, 'min_samples_split': 8, ...            0.3060   \n",
       "41  {'n_estimators': 300, 'min_samples_split': 12,...            0.3025   \n",
       "42  {'n_estimators': 400, 'min_samples_split': 12,...            0.3060   \n",
       "43  {'n_estimators': 500, 'min_samples_split': 10,...            0.3130   \n",
       "44  {'n_estimators': 500, 'min_samples_split': 12,...            0.3070   \n",
       "45  {'n_estimators': 500, 'min_samples_split': 12,...            0.3170   \n",
       "46  {'n_estimators': 300, 'min_samples_split': 12,...            0.3120   \n",
       "47  {'n_estimators': 400, 'min_samples_split': 8, ...            0.3160   \n",
       "48  {'n_estimators': 500, 'min_samples_split': 8, ...            0.3080   \n",
       "49  {'n_estimators': 400, 'min_samples_split': 12,...            0.3185   \n",
       "\n",
       "    train_score  rank  \n",
       "0      0.992125    41  \n",
       "1      0.990500    49  \n",
       "2      0.996000     6  \n",
       "3      0.990750    29  \n",
       "4      0.990625    19  \n",
       "5      0.994125    11  \n",
       "6      0.997375    30  \n",
       "7      0.997125    39  \n",
       "8      0.997750     3  \n",
       "9      0.994500     1  \n",
       "10     0.995750    11  \n",
       "11     0.992125    37  \n",
       "12     0.992750    41  \n",
       "13     0.991875    50  \n",
       "14     0.990500    41  \n",
       "15     0.994125    47  \n",
       "16     0.991250    44  \n",
       "17     0.991250    21  \n",
       "18     0.993625    21  \n",
       "19     0.993250    10  \n",
       "20     0.995750    34  \n",
       "21     0.997250    11  \n",
       "22     0.995500    18  \n",
       "23     0.992875    16  \n",
       "24     0.994000    28  \n",
       "25     0.990875    45  \n",
       "26     0.995500    32  \n",
       "27     0.998500     1  \n",
       "28     0.992250    35  \n",
       "29     0.997625    16  \n",
       "30     0.995250    11  \n",
       "31     0.991000    21  \n",
       "32     0.990500    48  \n",
       "33     0.995250    31  \n",
       "34     0.995375    26  \n",
       "35     0.998250     5  \n",
       "36     0.998250     4  \n",
       "37     0.990750     7  \n",
       "38     0.998625    20  \n",
       "39     0.994125    27  \n",
       "40     0.991125    39  \n",
       "41     0.993875    46  \n",
       "42     0.992375    37  \n",
       "43     0.994125    21  \n",
       "44     0.995625    35  \n",
       "45     0.996000     9  \n",
       "46     0.992875    25  \n",
       "47     0.994625    11  \n",
       "48     0.991000    32  \n",
       "49     0.994500     8  "
      ]
     },
     "execution_count": 12,
     "metadata": {},
     "output_type": "execute_result"
    }
   ],
   "source": [
    "param_grid = {\n",
    "    'max_depth': [20, 30, 40, 50, 60],\n",
    "    'min_samples_leaf': [3, 4, 5, 6],\n",
    "    'min_samples_split': [8, 10, 12],\n",
    "    'n_estimators': [300, 400, 500],\n",
    "    'max_features': [70, 90, 110, 130, 150]\n",
    "}\n",
    "\n",
    "rf = RandomForestClassifier()\n",
    "\n",
    "clf = RandomizedSearchCV(estimator = rf, param_distributions = param_grid,\n",
    "                         cv = 5, scoring='accuracy', n_iter=50, n_jobs = -1,\n",
    "                   verbose=2, random_state=0,return_train_score=True)\n",
    "clf.fit(X_train_pca, y_train)\n",
    "pd.DataFrame({'parameters': clf.cv_results_[\"params\"],\n",
    "              'validation_score': clf.cv_results_[\"mean_test_score\"],\n",
    "              'train_score': clf.cv_results_[\"mean_train_score\"],\n",
    "              'rank': clf.cv_results_[\"rank_test_score\"]})"
   ]
  },
  {
   "cell_type": "code",
   "execution_count": 18,
   "metadata": {
    "id": "xbOyLeN0S3pL"
   },
   "outputs": [],
   "source": [
    "df = pd.DataFrame({'parameters': clf.cv_results_[\"params\"],\n",
    "              'validation_score': clf.cv_results_[\"mean_test_score\"],\n",
    "              'train_score': clf.cv_results_[\"mean_train_score\"],\n",
    "              'rank': clf.cv_results_[\"rank_test_score\"]})\n",
    "df_path = os.path.join(phase2a_path,'cv_result_phase2a_pca300.csv')\n",
    "df.to_csv(df_path, index=False)"
   ]
  },
  {
   "cell_type": "markdown",
   "metadata": {
    "id": "Hg52x7Eibneq"
   },
   "source": [
    "# ب)"
   ]
  },
  {
   "cell_type": "code",
   "execution_count": 13,
   "metadata": {
    "colab": {
     "base_uri": "https://localhost:8080/"
    },
    "id": "51UlghKQf5ca",
    "outputId": "b7a45cc7-69eb-47ab-ab11-5eebfdc7ce2d"
   },
   "outputs": [
    {
     "name": "stdout",
     "output_type": "stream",
     "text": [
      "{'n_estimators': 500, 'min_samples_split': 8, 'min_samples_leaf': 5, 'max_features': 110, 'max_depth': 30}\n",
      "\n",
      "0.352\n",
      "\n",
      "              precision    recall  f1-score   support\n",
      "\n",
      "           0       0.42      0.86      0.56        50\n",
      "           1       0.28      0.14      0.19        50\n",
      "           2       0.29      0.34      0.31        50\n",
      "           3       0.23      0.16      0.19        50\n",
      "           4       0.31      0.16      0.21        50\n",
      "           5       0.30      0.12      0.17        50\n",
      "           6       0.62      0.48      0.54        50\n",
      "           7       0.43      0.36      0.39        50\n",
      "           8       0.31      0.42      0.36        50\n",
      "           9       0.28      0.48      0.36        50\n",
      "\n",
      "    accuracy                           0.35       500\n",
      "   macro avg       0.35      0.35      0.33       500\n",
      "weighted avg       0.35      0.35      0.33       500\n",
      "\n",
      "\n"
     ]
    }
   ],
   "source": [
    "print(clf.best_params_)\n",
    "y_pred = clf.predict(X_test_pca)\n",
    "print(accuracy_score(y_test,y_pred))\n",
    "print(classification_report(y_test, y_pred))"
   ]
  },
  {
   "cell_type": "code",
   "execution_count": 14,
   "metadata": {
    "colab": {
     "base_uri": "https://localhost:8080/",
     "height": 279
    },
    "id": "3p2jXqzKvs0i",
    "outputId": "3560131f-a737-4f2b-ccb3-d60b4e140623"
   },
   "outputs": [
    {
     "data": {
      "image/png": "[encoded data removed]",
      "text/plain": [
       "<Figure size 432x288 with 2 Axes>"
      ]
     },
     "metadata": {
      "needs_background": "light"
     },
     "output_type": "display_data"
    }
   ],
   "source": [
    "cm = confusion_matrix(y_test, y_pred, labels=clf.classes_)\n",
    "disp = ConfusionMatrixDisplay(confusion_matrix=cm,\n",
    "                             display_labels=clf.classes_)\n",
    "disp.plot()\n",
    "plt.show()"
   ]
  },
  {
   "cell_type": "code",
   "execution_count": 15,
   "metadata": {
    "id": "aQ2D-HkCvs2g"
   },
   "outputs": [],
   "source": [
    "model_path = os.path.join(phase2a_path,'Model_Phase2a.pkl')\n",
    "with open(model_path, 'wb') as f:\n",
    "    pickle.dump(clf, f)"
   ]
  },
  {
   "cell_type": "markdown",
   "metadata": {
    "id": "nm2yF035bx0B"
   },
   "source": [
    "# پ)"
   ]
  },
  {
   "cell_type": "code",
   "execution_count": 26,
   "metadata": {
    "colab": {
     "base_uri": "https://localhost:8080/"
    },
    "id": "r5gtCkGNanL-",
    "outputId": "66071a6d-93d0-4bea-d2cb-46bb6fa104bf"
   },
   "outputs": [
    {
     "name": "stdout",
     "output_type": "stream",
     "text": [
      "4783\n",
      "\n",
      "(500, 4783)\n",
      "accuracy on test data:  0.36\n"
     ]
    }
   ],
   "source": [
    "def predict_phase2a(test_path, phase1_path, phase2a_path, len_train, n_pca):\n",
    "  #load train data\n",
    "  X_train = np.load(os.path.join(phase1_path,'phase1_Xtrain.npy'))\n",
    "  y_train = np.load(os.path.join(phase1_path,'phase1_ytrain.npy'))\n",
    "  #load raw test data from directory and peprocess it\n",
    "  X_test,y_test,len_test = preprocess(test_path,len_train)\n",
    "  print(X_test.shape)\n",
    "  #normalize train and test data\n",
    "  scalar = StandardScaler()\n",
    "  X_train_scale = scalar.fit_transform(X_train)\n",
    "  X_test_scale = scalar.transform(X_test)\n",
    "  #PCA dimension reduction\n",
    "  pca = PCA(n_components=n_pca)\n",
    "  X_train_pca = pca.fit_transform(X_train_scale)\n",
    "  X_test_pca = pca.transform(X_test_scale)\n",
    "  #load model\n",
    "  model_path = os.path.join(phase2a_path,'Model_Phase2a.pkl')\n",
    "  with open(model_path, 'rb') as f: \n",
    "    clf = pickle.load(f)\n",
    "  #predict test labels\n",
    "  y_pred = clf.predict(X_test_pca)\n",
    "  np.save(os.path.join(phase2a_path,'phase2a_predicted.npy'),y_pred)\n",
    "\n",
    "\n",
    "  return accuracy_score(y_test,y_pred)\n",
    "\n",
    "\n",
    "root = os.getcwd()\n",
    "phase1_path = os.path.join(root,'Phase_1')\n",
    "phase2a_path = os.path.join(root,'Phase_2a')\n",
    "test_path = os.path.join(dataset_path,'test')\n",
    "\n",
    "length = 4783\n",
    "n_pca = 300\n",
    "\n",
    "acc = predict_phase2a(test_path,phase1_path, phase2a_path, length, n_pca)\n",
    "print(\"accuracy on test data: \", acc)"
   ]
  },
  {
   "cell_type": "markdown",
   "metadata": {
    "id": "fm3MfZSzMSNH"
   },
   "source": [
    "# PHASE 2 b"
   ]
  },
  {
   "cell_type": "markdown",
   "metadata": {
    "id": "-awFiezWMhFa"
   },
   "source": [
    "# ب)"
   ]
  },
  {
   "cell_type": "code",
   "execution_count": 27,
   "metadata": {
    "colab": {
     "base_uri": "https://localhost:8080/"
    },
    "id": "dJ_2sYHvMTpp",
    "outputId": "b1c928ce-7587-41f3-96a7-0739870e9a33"
   },
   "outputs": [
    {
     "name": "stdout",
     "output_type": "stream",
     "text": [
      "(2000, 64, 64)\n",
      "(500, 64, 64)\n"
     ]
    }
   ],
   "source": [
    "X_spec_train = np.zeros([X_train.shape[0],64,64])\n",
    "X_spec_test = np.zeros([X_test.shape[0],64,64])\n",
    "print(X_spec_train.shape)\n",
    "print(X_spec_test.shape)"
   ]
  },
  {
   "cell_type": "code",
   "execution_count": 33,
   "metadata": {
    "colab": {
     "base_uri": "https://localhost:8080/"
    },
    "id": "t_MJS6jpNGyw",
    "outputId": "b121b082-1fb2-4432-aaf3-58c16601d2cb"
   },
   "outputs": [
    {
     "name": "stdout",
     "output_type": "stream",
     "text": [
      "(2000, 64, 64)\n",
      "(500, 64, 64)\n"
     ]
    }
   ],
   "source": [
    "#calculate STFT in dBs for train and test data\n",
    "for i in range(X_train.shape[0]):\n",
    "  S = np.abs(librosa.stft(X_train[i], n_fft=127, hop_length=(X_train.shape[1]//64)+1))\n",
    "  stft = librosa.amplitude_to_db(S, ref=np.max)\n",
    "  X_spec_train[i] = stft\n",
    "\n",
    "for i in range(X_test.shape[0]):\n",
    "  S = np.abs(librosa.stft(X_test[i], n_fft=127, hop_length=(X_test.shape[1]//64)+1))\n",
    "  stft = librosa.amplitude_to_db(S, ref=np.max)\n",
    "  X_spec_test[i] = stft\n",
    "\n",
    "print(X_spec_train.shape)\n",
    "print(X_spec_test.shape)"
   ]
  },
  {
   "cell_type": "code",
   "execution_count": 35,
   "metadata": {
    "colab": {
     "base_uri": "https://localhost:8080/"
    },
    "id": "ERx6pOw0FjbR",
    "outputId": "c70f449f-0823-41e7-f3d3-e2d541900f83"
   },
   "outputs": [
    {
     "name": "stdout",
     "output_type": "stream",
     "text": [
      "[[-37.56699095 -41.33253548 -41.13076953 ... -80.         -80.\n",
      "  -80.        ]\n",
      " [-40.19573066 -29.41185743 -42.47777123 ... -80.         -80.\n",
      "  -80.        ]\n",
      " [-27.57715178 -25.76810513 -21.07824497 ... -80.         -80.\n",
      "  -80.        ]\n",
      " ...\n",
      " [-43.61651235 -80.         -80.         ... -80.         -80.\n",
      "  -80.        ]\n",
      " [-43.64276129 -80.         -80.         ... -80.         -80.\n",
      "  -80.        ]\n",
      " [-43.66893608 -80.         -80.         ... -80.         -80.\n",
      "  -80.        ]]\n",
      "[[-72.19445425 -70.56029025 -59.18859196 ... -80.         -80.\n",
      "  -80.        ]\n",
      " [-54.60986863 -54.28457342 -49.78824169 ... -80.         -80.\n",
      "  -80.        ]\n",
      " [-58.87650015 -39.48575608 -33.46106522 ... -80.         -80.\n",
      "  -80.        ]\n",
      " ...\n",
      " [-49.54921077 -80.         -80.         ... -80.         -80.\n",
      "  -80.        ]\n",
      " [-49.29076155 -80.         -80.         ... -80.         -80.\n",
      "  -80.        ]\n",
      " [-49.35716059 -80.         -80.         ... -80.         -80.\n",
      "  -80.        ]]\n"
     ]
    }
   ],
   "source": [
    "print(X_spec_test[0])\n",
    "print(X_spec_test[1])"
   ]
  },
  {
   "cell_type": "markdown",
   "metadata": {
    "id": "jMQaincgOzn9"
   },
   "source": [
    "# پ)"
   ]
  },
  {
   "cell_type": "code",
   "execution_count": 36,
   "metadata": {
    "colab": {
     "base_uri": "https://localhost:8080/"
    },
    "id": "ffc0ZultOzCi",
    "outputId": "aa8eb3cf-3a6d-40ba-f08c-10b291fceb2b"
   },
   "outputs": [
    {
     "name": "stdout",
     "output_type": "stream",
     "text": [
      "(2000, 4096)\n",
      "(500, 4096)\n"
     ]
    }
   ],
   "source": [
    "X_spec_train = X_spec_train.reshape(X_train.shape[0],-1,order='F')\n",
    "X_spec_test = X_spec_test.reshape(X_test.shape[0],-1,order='F')\n",
    "print(X_spec_train.shape)\n",
    "print(X_spec_test.shape)"
   ]
  },
  {
   "cell_type": "code",
   "execution_count": 39,
   "metadata": {
    "colab": {
     "base_uri": "https://localhost:8080/"
    },
    "id": "7-V6EBDnG6WL",
    "outputId": "5c80c9aa-130c-4fe1-980d-ca5196a888c6"
   },
   "outputs": [
    {
     "name": "stdout",
     "output_type": "stream",
     "text": [
      "[-37.56699095 -40.19573066 -27.57715178 ... -80.         -80.\n",
      " -80.        ]\n",
      "[-72.19445425 -54.60986863 -58.87650015 ... -80.         -80.\n",
      " -80.        ]\n"
     ]
    }
   ],
   "source": [
    "print(X_spec_test[0])\n",
    "print(X_spec_test[1])"
   ]
  },
  {
   "cell_type": "code",
   "execution_count": 41,
   "metadata": {
    "id": "V4GFtmEnG-sH"
   },
   "outputs": [],
   "source": [
    "np.save(os.path.join(phase2b_path,'phase2b_Xtrain_spec.npy'),X_spec_train)\n",
    "np.save(os.path.join(phase2b_path,'phase2b_Xtest_spec.npy'),X_spec_test)"
   ]
  },
  {
   "cell_type": "markdown",
   "metadata": {
    "id": "eCX0jPFQQcpD"
   },
   "source": [
    "# ت)"
   ]
  },
  {
   "cell_type": "code",
   "execution_count": 4,
   "metadata": {
    "colab": {
     "base_uri": "https://localhost:8080/"
    },
    "id": "uGyMvnlS8XnT",
    "outputId": "ec2c8c45-f466-4682-b738-931d35920662"
   },
   "outputs": [
    {
     "name": "stdout",
     "output_type": "stream",
     "text": [
      "(2000, 4096)\n",
      "(500, 4096)\n"
     ]
    }
   ],
   "source": [
    "X_spec_train = np.load(os.path.join(phase2b_path,'phase2b_Xtrain_spec.npy'))\n",
    "X_spec_test = np.load(os.path.join(phase2b_path,'phase2b_Xtest_spec.npy'))\n",
    "\n",
    "y_train = np.load(os.path.join(phase1_path,'phase1_ytrain.npy'))\n",
    "y_test = np.load(os.path.join(phase1_path,'phase1_ytest.npy'))\n",
    "\n",
    "print(X_spec_train.shape)\n",
    "print(X_spec_test.shape)"
   ]
  },
  {
   "cell_type": "code",
   "execution_count": 5,
   "metadata": {
    "id": "70dMUG15Kp6H"
   },
   "outputs": [],
   "source": [
    "scalar = StandardScaler()\n",
    "X_spec_train_scale = scalar.fit_transform(X_spec_train)\n",
    "X_spec_test_scale = scalar.transform(X_spec_test)"
   ]
  },
  {
   "cell_type": "code",
   "execution_count": 43,
   "metadata": {
    "id": "syXe6neqRGiF"
   },
   "outputs": [],
   "source": [
    "pca = PCA() #n_components = n_samples = 2000 \n",
    "pca.fit(X_spec_train_scale);\n",
    "evr = pca.explained_variance_ratio_ #how much information each feature holds compared to others"
   ]
  },
  {
   "cell_type": "code",
   "execution_count": 44,
   "metadata": {
    "colab": {
     "base_uri": "https://localhost:8080/"
    },
    "id": "aKJLIlNhROrI",
    "outputId": "5a073cbe-0532-4636-e237-bd7b17ba23da"
   },
   "outputs": [
    {
     "name": "stdout",
     "output_type": "stream",
     "text": [
      "[0.17894446 0.880033   0.95214072 0.9703748  0.97786611 0.98235088\n",
      " 0.98555505 0.9880103  0.98995283 0.9915301  0.99283747 0.9939371\n",
      " 0.99487439 0.9956736  0.99635867 0.99694611 0.99745274 0.99788834\n",
      " 0.99826242 0.9985813  0.9988521  0.9990813  0.99927296 0.99943249\n",
      " 0.99956395 0.99967085 0.9997567  0.99982454 0.99987705 0.9999167\n",
      " 0.99994583 0.99996656 0.99998062 0.9999896  0.999995   0.99999791\n",
      " 0.99999929 0.99999983 0.99999998 1.        ]\n",
      "(2000,)\n"
     ]
    }
   ],
   "source": [
    "print(evr.cumsum()[0:2000:50])\n",
    "print(evr.shape)"
   ]
  },
  {
   "cell_type": "code",
   "execution_count": 45,
   "metadata": {
    "colab": {
     "base_uri": "https://localhost:8080/",
     "height": 388
    },
    "id": "8Xb5BTqvRTuA",
    "outputId": "9690ba98-09c6-4573-9008-8e0563c2402f"
   },
   "outputs": [
    {
     "data": {
      "image/png": "[encoded data removed]",
      "text/plain": [
       "<Figure size 720x432 with 1 Axes>"
      ]
     },
     "metadata": {
      "needs_background": "light"
     },
     "output_type": "display_data"
    }
   ],
   "source": [
    "#cumulative plot to choose an optimum n_components with least omitted data\n",
    "fig = plt.figure(figsize=(10,6))\n",
    "plt.plot(range(1, X_train.shape[0]+1), evr.cumsum(), marker='o',markersize=1)\n",
    "plt.xlabel('Number of Components')\n",
    "plt.ylabel('Cumulative Explained Variance')\n",
    "plt.grid()\n",
    "plt.show()"
   ]
  },
  {
   "cell_type": "code",
   "execution_count": 11,
   "metadata": {
    "colab": {
     "base_uri": "https://localhost:8080/"
    },
    "id": "tyCJ_BfoRmJa",
    "outputId": "68556331-671e-4b54-9825-99194dac96b4"
   },
   "outputs": [
    {
     "name": "stdout",
     "output_type": "stream",
     "text": [
      "(2000, 300)\n"
     ]
    }
   ],
   "source": [
    "pca = PCA(n_components=300)\n",
    "X_spec_train_pca = pca.fit_transform(X_spec_train_scale)\n",
    "X_spec_test_pca = pca.transform(X_spec_test_scale)\n",
    "print(X_spec_train_pca.shape)"
   ]
  },
  {
   "cell_type": "markdown",
   "metadata": {
    "id": "3noI-9WrsIw-"
   },
   "source": [
    "## Hyperparameter tuning with PCA dimension reduction"
   ]
  },
  {
   "cell_type": "code",
   "execution_count": 13,
   "metadata": {
    "colab": {
     "base_uri": "https://localhost:8080/",
     "height": 694
    },
    "id": "1bkxxaEoSUfx",
    "outputId": "be62f64f-1113-4648-b62b-56f8f7944ed7"
   },
   "outputs": [
    {
     "name": "stdout",
     "output_type": "stream",
     "text": [
      "Fitting 5 folds for each of 20 candidates, totalling 100 fits\n"
     ]
    },
    {
     "data": {
      "text/html": [
       "\n",
       "  <div id=\"df-6019e3d6-a5ea-4cde-8295-c2fc45e973b7\">\n",
       "    <div class=\"colab-df-container\">\n",
       "      <div>\n",
       "<style scoped>\n",
       "    .dataframe tbody tr th:only-of-type {\n",
       "        vertical-align: middle;\n",
       "    }\n",
       "\n",
       "    .dataframe tbody tr th {\n",
       "        vertical-align: top;\n",
       "    }\n",
       "\n",
       "    .dataframe thead th {\n",
       "        text-align: right;\n",
       "    }\n",
       "</style>\n",
       "<table border=\"1\" class=\"dataframe\">\n",
       "  <thead>\n",
       "    <tr style=\"text-align: right;\">\n",
       "      <th></th>\n",
       "      <th>parameters</th>\n",
       "      <th>validation_score</th>\n",
       "      <th>train_score</th>\n",
       "      <th>rank</th>\n",
       "    </tr>\n",
       "  </thead>\n",
       "  <tbody>\n",
       "    <tr>\n",
       "      <th>0</th>\n",
       "      <td>{'n_estimators': 300, 'min_samples_split': 12,...</td>\n",
       "      <td>0.7710</td>\n",
       "      <td>0.985250</td>\n",
       "      <td>15</td>\n",
       "    </tr>\n",
       "    <tr>\n",
       "      <th>1</th>\n",
       "      <td>{'n_estimators': 300, 'min_samples_split': 12,...</td>\n",
       "      <td>0.7675</td>\n",
       "      <td>0.979875</td>\n",
       "      <td>18</td>\n",
       "    </tr>\n",
       "    <tr>\n",
       "      <th>2</th>\n",
       "      <td>{'n_estimators': 400, 'min_samples_split': 10,...</td>\n",
       "      <td>0.7825</td>\n",
       "      <td>0.994875</td>\n",
       "      <td>5</td>\n",
       "    </tr>\n",
       "    <tr>\n",
       "      <th>3</th>\n",
       "      <td>{'n_estimators': 400, 'min_samples_split': 10,...</td>\n",
       "      <td>0.7805</td>\n",
       "      <td>0.983500</td>\n",
       "      <td>6</td>\n",
       "    </tr>\n",
       "    <tr>\n",
       "      <th>4</th>\n",
       "      <td>{'n_estimators': 300, 'min_samples_split': 10,...</td>\n",
       "      <td>0.7865</td>\n",
       "      <td>0.983500</td>\n",
       "      <td>2</td>\n",
       "    </tr>\n",
       "    <tr>\n",
       "      <th>5</th>\n",
       "      <td>{'n_estimators': 500, 'min_samples_split': 12,...</td>\n",
       "      <td>0.7800</td>\n",
       "      <td>0.991875</td>\n",
       "      <td>7</td>\n",
       "    </tr>\n",
       "    <tr>\n",
       "      <th>6</th>\n",
       "      <td>{'n_estimators': 300, 'min_samples_split': 8, ...</td>\n",
       "      <td>0.7765</td>\n",
       "      <td>0.995500</td>\n",
       "      <td>11</td>\n",
       "    </tr>\n",
       "    <tr>\n",
       "      <th>7</th>\n",
       "      <td>{'n_estimators': 300, 'min_samples_split': 10,...</td>\n",
       "      <td>0.7885</td>\n",
       "      <td>0.996500</td>\n",
       "      <td>1</td>\n",
       "    </tr>\n",
       "    <tr>\n",
       "      <th>8</th>\n",
       "      <td>{'n_estimators': 400, 'min_samples_split': 8, ...</td>\n",
       "      <td>0.7840</td>\n",
       "      <td>0.997000</td>\n",
       "      <td>4</td>\n",
       "    </tr>\n",
       "    <tr>\n",
       "      <th>9</th>\n",
       "      <td>{'n_estimators': 500, 'min_samples_split': 8, ...</td>\n",
       "      <td>0.7795</td>\n",
       "      <td>0.989875</td>\n",
       "      <td>8</td>\n",
       "    </tr>\n",
       "    <tr>\n",
       "      <th>10</th>\n",
       "      <td>{'n_estimators': 400, 'min_samples_split': 12,...</td>\n",
       "      <td>0.7745</td>\n",
       "      <td>0.992875</td>\n",
       "      <td>12</td>\n",
       "    </tr>\n",
       "    <tr>\n",
       "      <th>11</th>\n",
       "      <td>{'n_estimators': 300, 'min_samples_split': 12,...</td>\n",
       "      <td>0.7845</td>\n",
       "      <td>0.986000</td>\n",
       "      <td>3</td>\n",
       "    </tr>\n",
       "    <tr>\n",
       "      <th>12</th>\n",
       "      <td>{'n_estimators': 300, 'min_samples_split': 12,...</td>\n",
       "      <td>0.7720</td>\n",
       "      <td>0.985875</td>\n",
       "      <td>13</td>\n",
       "    </tr>\n",
       "    <tr>\n",
       "      <th>13</th>\n",
       "      <td>{'n_estimators': 300, 'min_samples_split': 10,...</td>\n",
       "      <td>0.7650</td>\n",
       "      <td>0.979750</td>\n",
       "      <td>20</td>\n",
       "    </tr>\n",
       "    <tr>\n",
       "      <th>14</th>\n",
       "      <td>{'n_estimators': 500, 'min_samples_split': 10,...</td>\n",
       "      <td>0.7695</td>\n",
       "      <td>0.980500</td>\n",
       "      <td>16</td>\n",
       "    </tr>\n",
       "    <tr>\n",
       "      <th>15</th>\n",
       "      <td>{'n_estimators': 300, 'min_samples_split': 10,...</td>\n",
       "      <td>0.7695</td>\n",
       "      <td>0.989250</td>\n",
       "      <td>16</td>\n",
       "    </tr>\n",
       "    <tr>\n",
       "      <th>16</th>\n",
       "      <td>{'n_estimators': 300, 'min_samples_split': 8, ...</td>\n",
       "      <td>0.7675</td>\n",
       "      <td>0.978000</td>\n",
       "      <td>18</td>\n",
       "    </tr>\n",
       "    <tr>\n",
       "      <th>17</th>\n",
       "      <td>{'n_estimators': 400, 'min_samples_split': 10,...</td>\n",
       "      <td>0.7775</td>\n",
       "      <td>0.980625</td>\n",
       "      <td>10</td>\n",
       "    </tr>\n",
       "    <tr>\n",
       "      <th>18</th>\n",
       "      <td>{'n_estimators': 400, 'min_samples_split': 12,...</td>\n",
       "      <td>0.7795</td>\n",
       "      <td>0.991250</td>\n",
       "      <td>8</td>\n",
       "    </tr>\n",
       "    <tr>\n",
       "      <th>19</th>\n",
       "      <td>{'n_estimators': 500, 'min_samples_split': 12,...</td>\n",
       "      <td>0.7715</td>\n",
       "      <td>0.985625</td>\n",
       "      <td>14</td>\n",
       "    </tr>\n",
       "  </tbody>\n",
       "</table>\n",
       "</div>\n",
       "      <button class=\"colab-df-convert\" onclick=\"convertToInteractive('df-6019e3d6-a5ea-4cde-8295-c2fc45e973b7')\"\n",
       "              title=\"Convert this dataframe to an interactive table.\"\n",
       "              style=\"display:none;\">\n",
       "        \n",
       "  <svg xmlns=\"http://www.w3.org/2000/svg\" height=\"24px\"viewBox=\"0 0 24 24\"\n",
       "       width=\"24px\">\n",
       "    <path d=\"M0 0h24v24H0V0z\" fill=\"none\"/>\n",
       "    <path d=\"M18.56 5.44l.94 2.06.94-2.06 2.06-.94-2.06-.94-.94-2.06-.94 2.06-2.06.94zm-11 1L8.5 8.5l.94-2.06 2.06-.94-2.06-.94L8.5 2.5l-.94 2.06-2.06.94zm10 10l.94 2.06.94-2.06 2.06-.94-2.06-.94-.94-2.06-.94 2.06-2.06.94z\"/><path d=\"M17.41 7.96l-1.37-1.37c-.4-.4-.92-.59-1.43-.59-.52 0-1.04.2-1.43.59L10.3 9.45l-7.72 7.72c-.78.78-.78 2.05 0 2.83L4 21.41c.39.39.9.59 1.41.59.51 0 1.02-.2 1.41-.59l7.78-7.78 2.81-2.81c.8-.78.8-2.07 0-2.86zM5.41 20L4 18.59l7.72-7.72 1.47 1.35L5.41 20z\"/>\n",
       "  </svg>\n",
       "      </button>\n",
       "      \n",
       "  <style>\n",
       "    .colab-df-container {\n",
       "      display:flex;\n",
       "      flex-wrap:wrap;\n",
       "      gap: 12px;\n",
       "    }\n",
       "\n",
       "    .colab-df-convert {\n",
       "      background-color: #E8F0FE;\n",
       "      border: none;\n",
       "      border-radius: 50%;\n",
       "      cursor: pointer;\n",
       "      display: none;\n",
       "      fill: #1967D2;\n",
       "      height: 32px;\n",
       "      padding: 0 0 0 0;\n",
       "      width: 32px;\n",
       "    }\n",
       "\n",
       "    .colab-df-convert:hover {\n",
       "      background-color: #E2EBFA;\n",
       "      box-shadow: 0px 1px 2px rgba(60, 64, 67, 0.3), 0px 1px 3px 1px rgba(60, 64, 67, 0.15);\n",
       "      fill: #174EA6;\n",
       "    }\n",
       "\n",
       "    [theme=dark] .colab-df-convert {\n",
       "      background-color: #3B4455;\n",
       "      fill: #D2E3FC;\n",
       "    }\n",
       "\n",
       "    [theme=dark] .colab-df-convert:hover {\n",
       "      background-color: #434B5C;\n",
       "      box-shadow: 0px 1px 3px 1px rgba(0, 0, 0, 0.15);\n",
       "      filter: drop-shadow(0px 1px 2px rgba(0, 0, 0, 0.3));\n",
       "      fill: #FFFFFF;\n",
       "    }\n",
       "  </style>\n",
       "\n",
       "      <script>\n",
       "        const buttonEl =\n",
       "          document.querySelector('#df-6019e3d6-a5ea-4cde-8295-c2fc45e973b7 button.colab-df-convert');\n",
       "        buttonEl.style.display =\n",
       "          google.colab.kernel.accessAllowed ? 'block' : 'none';\n",
       "\n",
       "        async function convertToInteractive(key) {\n",
       "          const element = document.querySelector('#df-6019e3d6-a5ea-4cde-8295-c2fc45e973b7');\n",
       "          const dataTable =\n",
       "            await google.colab.kernel.invokeFunction('convertToInteractive',\n",
       "                                                     [key], {});\n",
       "          if (!dataTable) return;\n",
       "\n",
       "          const docLinkHtml = 'Like what you see? Visit the ' +\n",
       "            '<a target=\"_blank\" href=https://colab.research.google.com/notebooks/data_table.ipynb>data table notebook</a>'\n",
       "            + ' to learn more about interactive tables.';\n",
       "          element.innerHTML = '';\n",
       "          dataTable['output_type'] = 'display_data';\n",
       "          await google.colab.output.renderOutput(dataTable, element);\n",
       "          const docLink = document.createElement('div');\n",
       "          docLink.innerHTML = docLinkHtml;\n",
       "          element.appendChild(docLink);\n",
       "        }\n",
       "      </script>\n",
       "    </div>\n",
       "  </div>\n",
       "  "
      ],
      "text/plain": [
       "                                           parameters  validation_score  \\\n",
       "0   {'n_estimators': 300, 'min_samples_split': 12,...            0.7710   \n",
       "1   {'n_estimators': 300, 'min_samples_split': 12,...            0.7675   \n",
       "2   {'n_estimators': 400, 'min_samples_split': 10,...            0.7825   \n",
       "3   {'n_estimators': 400, 'min_samples_split': 10,...            0.7805   \n",
       "4   {'n_estimators': 300, 'min_samples_split': 10,...            0.7865   \n",
       "5   {'n_estimators': 500, 'min_samples_split': 12,...            0.7800   \n",
       "6   {'n_estimators': 300, 'min_samples_split': 8, ...            0.7765   \n",
       "7   {'n_estimators': 300, 'min_samples_split': 10,...            0.7885   \n",
       "8   {'n_estimators': 400, 'min_samples_split': 8, ...            0.7840   \n",
       "9   {'n_estimators': 500, 'min_samples_split': 8, ...            0.7795   \n",
       "10  {'n_estimators': 400, 'min_samples_split': 12,...            0.7745   \n",
       "11  {'n_estimators': 300, 'min_samples_split': 12,...            0.7845   \n",
       "12  {'n_estimators': 300, 'min_samples_split': 12,...            0.7720   \n",
       "13  {'n_estimators': 300, 'min_samples_split': 10,...            0.7650   \n",
       "14  {'n_estimators': 500, 'min_samples_split': 10,...            0.7695   \n",
       "15  {'n_estimators': 300, 'min_samples_split': 10,...            0.7695   \n",
       "16  {'n_estimators': 300, 'min_samples_split': 8, ...            0.7675   \n",
       "17  {'n_estimators': 400, 'min_samples_split': 10,...            0.7775   \n",
       "18  {'n_estimators': 400, 'min_samples_split': 12,...            0.7795   \n",
       "19  {'n_estimators': 500, 'min_samples_split': 12,...            0.7715   \n",
       "\n",
       "    train_score  rank  \n",
       "0      0.985250    15  \n",
       "1      0.979875    18  \n",
       "2      0.994875     5  \n",
       "3      0.983500     6  \n",
       "4      0.983500     2  \n",
       "5      0.991875     7  \n",
       "6      0.995500    11  \n",
       "7      0.996500     1  \n",
       "8      0.997000     4  \n",
       "9      0.989875     8  \n",
       "10     0.992875    12  \n",
       "11     0.986000     3  \n",
       "12     0.985875    13  \n",
       "13     0.979750    20  \n",
       "14     0.980500    16  \n",
       "15     0.989250    16  \n",
       "16     0.978000    18  \n",
       "17     0.980625    10  \n",
       "18     0.991250     8  \n",
       "19     0.985625    14  "
      ]
     },
     "execution_count": 13,
     "metadata": {},
     "output_type": "execute_result"
    }
   ],
   "source": [
    "param_grid = {\n",
    "    'max_depth': [20, 30, 40, 50, 60],\n",
    "    'min_samples_leaf': [3, 4, 5, 6],\n",
    "    'min_samples_split': [8, 10, 12],\n",
    "    'n_estimators': [300, 400, 500],\n",
    "    'max_features': [70, 90, 110, 130, 150]\n",
    "}\n",
    "\n",
    "rf = RandomForestClassifier()\n",
    "\n",
    "clf = RandomizedSearchCV(estimator = rf, param_distributions = param_grid,\n",
    "                         cv = 5, scoring='accuracy', n_iter=20, n_jobs = -1,\n",
    "                   verbose=2, random_state=0,return_train_score=True)\n",
    "clf.fit(X_spec_train_pca, y_train)\n",
    "pd.DataFrame({'parameters': clf.cv_results_[\"params\"],\n",
    "              'validation_score': clf.cv_results_[\"mean_test_score\"],\n",
    "              'train_score': clf.cv_results_[\"mean_train_score\"],\n",
    "              'rank': clf.cv_results_[\"rank_test_score\"]})"
   ]
  },
  {
   "cell_type": "code",
   "execution_count": 14,
   "metadata": {
    "id": "b-a4uIclSmKr"
   },
   "outputs": [],
   "source": [
    "df = pd.DataFrame({'parameters': clf.cv_results_[\"params\"],\n",
    "              'validation_score': clf.cv_results_[\"mean_test_score\"],\n",
    "              'train_score': clf.cv_results_[\"mean_train_score\"],\n",
    "              'rank': clf.cv_results_[\"rank_test_score\"]})\n",
    "df_path = os.path.join(phase2b_path,'cv_result_phase2b_pca300_RandomForest.csv')\n",
    "df.to_csv(df_path, index=False)"
   ]
  },
  {
   "cell_type": "code",
   "execution_count": 15,
   "metadata": {
    "colab": {
     "base_uri": "https://localhost:8080/"
    },
    "id": "_Q3iocM57x19",
    "outputId": "af00e9fd-b222-4c4b-d5de-9c683bb0bee8"
   },
   "outputs": [
    {
     "name": "stdout",
     "output_type": "stream",
     "text": [
      "{'n_estimators': 300, 'min_samples_split': 10, 'min_samples_leaf': 3, 'max_features': 90, 'max_depth': 40}\n",
      "0.774\n",
      "              precision    recall  f1-score   support\n",
      "\n",
      "           0       0.80      0.90      0.85        50\n",
      "           1       0.91      0.82      0.86        50\n",
      "           2       0.84      0.76      0.80        50\n",
      "           3       0.74      0.78      0.76        50\n",
      "           4       0.77      0.74      0.76        50\n",
      "           5       0.77      0.72      0.74        50\n",
      "           6       0.76      0.88      0.81        50\n",
      "           7       0.69      0.66      0.67        50\n",
      "           8       0.79      0.68      0.73        50\n",
      "           9       0.70      0.80      0.75        50\n",
      "\n",
      "    accuracy                           0.77       500\n",
      "   macro avg       0.78      0.77      0.77       500\n",
      "weighted avg       0.78      0.77      0.77       500\n",
      "\n"
     ]
    }
   ],
   "source": [
    "print(clf.best_params_)\n",
    "y_pred = clf.predict(X_spec_test_pca)\n",
    "print(accuracy_score(y_test,y_pred))\n",
    "print(classification_report(y_test, y_pred))"
   ]
  },
  {
   "cell_type": "code",
   "execution_count": 16,
   "metadata": {
    "colab": {
     "base_uri": "https://localhost:8080/",
     "height": 283
    },
    "id": "XUh9N-Ck8Gkv",
    "outputId": "ac9bbd92-1da3-4946-8134-b9334aa1ebe3"
   },
   "outputs": [
    {
     "data": {
      "image/png": "[encoded data removed]",
      "text/plain": [
       "<Figure size 432x288 with 2 Axes>"
      ]
     },
     "metadata": {
      "needs_background": "light"
     },
     "output_type": "display_data"
    }
   ],
   "source": [
    "cm = confusion_matrix(y_test, y_pred, labels=clf.classes_)\n",
    "disp = ConfusionMatrixDisplay(confusion_matrix=cm,\n",
    "                             display_labels=clf.classes_)\n",
    "disp.plot()\n",
    "plt.show()"
   ]
  },
  {
   "cell_type": "markdown",
   "metadata": {
    "id": "ZLbT7Pnoruin"
   },
   "source": [
    "## Hyperparameter tuning without PCA dimension reduction"
   ]
  },
  {
   "cell_type": "code",
   "execution_count": 17,
   "metadata": {
    "colab": {
     "base_uri": "https://localhost:8080/",
     "height": 694
    },
    "id": "qswEu-W4SBOV",
    "outputId": "65029a93-4c37-4f93-8dce-ed0e0a01737d"
   },
   "outputs": [
    {
     "name": "stdout",
     "output_type": "stream",
     "text": [
      "Fitting 5 folds for each of 20 candidates, totalling 100 fits\n"
     ]
    },
    {
     "data": {
      "text/html": [
       "\n",
       "  <div id=\"df-2af6d1d5-7b3b-418c-b1bd-00e629bf5f55\">\n",
       "    <div class=\"colab-df-container\">\n",
       "      <div>\n",
       "<style scoped>\n",
       "    .dataframe tbody tr th:only-of-type {\n",
       "        vertical-align: middle;\n",
       "    }\n",
       "\n",
       "    .dataframe tbody tr th {\n",
       "        vertical-align: top;\n",
       "    }\n",
       "\n",
       "    .dataframe thead th {\n",
       "        text-align: right;\n",
       "    }\n",
       "</style>\n",
       "<table border=\"1\" class=\"dataframe\">\n",
       "  <thead>\n",
       "    <tr style=\"text-align: right;\">\n",
       "      <th></th>\n",
       "      <th>parameters</th>\n",
       "      <th>validation_score</th>\n",
       "      <th>train_score</th>\n",
       "      <th>rank</th>\n",
       "    </tr>\n",
       "  </thead>\n",
       "  <tbody>\n",
       "    <tr>\n",
       "      <th>0</th>\n",
       "      <td>{'n_estimators': 400, 'min_samples_split': 10,...</td>\n",
       "      <td>0.8805</td>\n",
       "      <td>0.992500</td>\n",
       "      <td>1</td>\n",
       "    </tr>\n",
       "    <tr>\n",
       "      <th>1</th>\n",
       "      <td>{'n_estimators': 400, 'min_samples_split': 12,...</td>\n",
       "      <td>0.8705</td>\n",
       "      <td>0.979000</td>\n",
       "      <td>7</td>\n",
       "    </tr>\n",
       "    <tr>\n",
       "      <th>2</th>\n",
       "      <td>{'n_estimators': 500, 'min_samples_split': 12,...</td>\n",
       "      <td>0.8760</td>\n",
       "      <td>0.991125</td>\n",
       "      <td>3</td>\n",
       "    </tr>\n",
       "    <tr>\n",
       "      <th>3</th>\n",
       "      <td>{'n_estimators': 400, 'min_samples_split': 10,...</td>\n",
       "      <td>0.8690</td>\n",
       "      <td>0.981125</td>\n",
       "      <td>11</td>\n",
       "    </tr>\n",
       "    <tr>\n",
       "      <th>4</th>\n",
       "      <td>{'n_estimators': 300, 'min_samples_split': 10,...</td>\n",
       "      <td>0.8635</td>\n",
       "      <td>0.981500</td>\n",
       "      <td>20</td>\n",
       "    </tr>\n",
       "    <tr>\n",
       "      <th>5</th>\n",
       "      <td>{'n_estimators': 400, 'min_samples_split': 12,...</td>\n",
       "      <td>0.8725</td>\n",
       "      <td>0.984375</td>\n",
       "      <td>5</td>\n",
       "    </tr>\n",
       "    <tr>\n",
       "      <th>6</th>\n",
       "      <td>{'n_estimators': 500, 'min_samples_split': 12,...</td>\n",
       "      <td>0.8640</td>\n",
       "      <td>0.982125</td>\n",
       "      <td>18</td>\n",
       "    </tr>\n",
       "    <tr>\n",
       "      <th>7</th>\n",
       "      <td>{'n_estimators': 500, 'min_samples_split': 10,...</td>\n",
       "      <td>0.8695</td>\n",
       "      <td>0.987125</td>\n",
       "      <td>10</td>\n",
       "    </tr>\n",
       "    <tr>\n",
       "      <th>8</th>\n",
       "      <td>{'n_estimators': 500, 'min_samples_split': 10,...</td>\n",
       "      <td>0.8730</td>\n",
       "      <td>0.986625</td>\n",
       "      <td>4</td>\n",
       "    </tr>\n",
       "    <tr>\n",
       "      <th>9</th>\n",
       "      <td>{'n_estimators': 400, 'min_samples_split': 12,...</td>\n",
       "      <td>0.8645</td>\n",
       "      <td>0.981250</td>\n",
       "      <td>17</td>\n",
       "    </tr>\n",
       "    <tr>\n",
       "      <th>10</th>\n",
       "      <td>{'n_estimators': 300, 'min_samples_split': 10,...</td>\n",
       "      <td>0.8680</td>\n",
       "      <td>0.981000</td>\n",
       "      <td>12</td>\n",
       "    </tr>\n",
       "    <tr>\n",
       "      <th>11</th>\n",
       "      <td>{'n_estimators': 500, 'min_samples_split': 12,...</td>\n",
       "      <td>0.8680</td>\n",
       "      <td>0.983375</td>\n",
       "      <td>12</td>\n",
       "    </tr>\n",
       "    <tr>\n",
       "      <th>12</th>\n",
       "      <td>{'n_estimators': 500, 'min_samples_split': 12,...</td>\n",
       "      <td>0.8635</td>\n",
       "      <td>0.981750</td>\n",
       "      <td>19</td>\n",
       "    </tr>\n",
       "    <tr>\n",
       "      <th>13</th>\n",
       "      <td>{'n_estimators': 300, 'min_samples_split': 12,...</td>\n",
       "      <td>0.8800</td>\n",
       "      <td>0.990000</td>\n",
       "      <td>2</td>\n",
       "    </tr>\n",
       "    <tr>\n",
       "      <th>14</th>\n",
       "      <td>{'n_estimators': 500, 'min_samples_split': 8, ...</td>\n",
       "      <td>0.8650</td>\n",
       "      <td>0.982125</td>\n",
       "      <td>15</td>\n",
       "    </tr>\n",
       "    <tr>\n",
       "      <th>15</th>\n",
       "      <td>{'n_estimators': 400, 'min_samples_split': 8, ...</td>\n",
       "      <td>0.8705</td>\n",
       "      <td>0.986375</td>\n",
       "      <td>8</td>\n",
       "    </tr>\n",
       "    <tr>\n",
       "      <th>16</th>\n",
       "      <td>{'n_estimators': 400, 'min_samples_split': 8, ...</td>\n",
       "      <td>0.8645</td>\n",
       "      <td>0.982250</td>\n",
       "      <td>16</td>\n",
       "    </tr>\n",
       "    <tr>\n",
       "      <th>17</th>\n",
       "      <td>{'n_estimators': 400, 'min_samples_split': 12,...</td>\n",
       "      <td>0.8710</td>\n",
       "      <td>0.984875</td>\n",
       "      <td>6</td>\n",
       "    </tr>\n",
       "    <tr>\n",
       "      <th>18</th>\n",
       "      <td>{'n_estimators': 300, 'min_samples_split': 10,...</td>\n",
       "      <td>0.8680</td>\n",
       "      <td>0.982000</td>\n",
       "      <td>12</td>\n",
       "    </tr>\n",
       "    <tr>\n",
       "      <th>19</th>\n",
       "      <td>{'n_estimators': 500, 'min_samples_split': 12,...</td>\n",
       "      <td>0.8700</td>\n",
       "      <td>0.985500</td>\n",
       "      <td>9</td>\n",
       "    </tr>\n",
       "  </tbody>\n",
       "</table>\n",
       "</div>\n",
       "      <button class=\"colab-df-convert\" onclick=\"convertToInteractive('df-2af6d1d5-7b3b-418c-b1bd-00e629bf5f55')\"\n",
       "              title=\"Convert this dataframe to an interactive table.\"\n",
       "              style=\"display:none;\">\n",
       "        \n",
       "  <svg xmlns=\"http://www.w3.org/2000/svg\" height=\"24px\"viewBox=\"0 0 24 24\"\n",
       "       width=\"24px\">\n",
       "    <path d=\"M0 0h24v24H0V0z\" fill=\"none\"/>\n",
       "    <path d=\"M18.56 5.44l.94 2.06.94-2.06 2.06-.94-2.06-.94-.94-2.06-.94 2.06-2.06.94zm-11 1L8.5 8.5l.94-2.06 2.06-.94-2.06-.94L8.5 2.5l-.94 2.06-2.06.94zm10 10l.94 2.06.94-2.06 2.06-.94-2.06-.94-.94-2.06-.94 2.06-2.06.94z\"/><path d=\"M17.41 7.96l-1.37-1.37c-.4-.4-.92-.59-1.43-.59-.52 0-1.04.2-1.43.59L10.3 9.45l-7.72 7.72c-.78.78-.78 2.05 0 2.83L4 21.41c.39.39.9.59 1.41.59.51 0 1.02-.2 1.41-.59l7.78-7.78 2.81-2.81c.8-.78.8-2.07 0-2.86zM5.41 20L4 18.59l7.72-7.72 1.47 1.35L5.41 20z\"/>\n",
       "  </svg>\n",
       "      </button>\n",
       "      \n",
       "  <style>\n",
       "    .colab-df-container {\n",
       "      display:flex;\n",
       "      flex-wrap:wrap;\n",
       "      gap: 12px;\n",
       "    }\n",
       "\n",
       "    .colab-df-convert {\n",
       "      background-color: #E8F0FE;\n",
       "      border: none;\n",
       "      border-radius: 50%;\n",
       "      cursor: pointer;\n",
       "      display: none;\n",
       "      fill: #1967D2;\n",
       "      height: 32px;\n",
       "      padding: 0 0 0 0;\n",
       "      width: 32px;\n",
       "    }\n",
       "\n",
       "    .colab-df-convert:hover {\n",
       "      background-color: #E2EBFA;\n",
       "      box-shadow: 0px 1px 2px rgba(60, 64, 67, 0.3), 0px 1px 3px 1px rgba(60, 64, 67, 0.15);\n",
       "      fill: #174EA6;\n",
       "    }\n",
       "\n",
       "    [theme=dark] .colab-df-convert {\n",
       "      background-color: #3B4455;\n",
       "      fill: #D2E3FC;\n",
       "    }\n",
       "\n",
       "    [theme=dark] .colab-df-convert:hover {\n",
       "      background-color: #434B5C;\n",
       "      box-shadow: 0px 1px 3px 1px rgba(0, 0, 0, 0.15);\n",
       "      filter: drop-shadow(0px 1px 2px rgba(0, 0, 0, 0.3));\n",
       "      fill: #FFFFFF;\n",
       "    }\n",
       "  </style>\n",
       "\n",
       "      <script>\n",
       "        const buttonEl =\n",
       "          document.querySelector('#df-2af6d1d5-7b3b-418c-b1bd-00e629bf5f55 button.colab-df-convert');\n",
       "        buttonEl.style.display =\n",
       "          google.colab.kernel.accessAllowed ? 'block' : 'none';\n",
       "\n",
       "        async function convertToInteractive(key) {\n",
       "          const element = document.querySelector('#df-2af6d1d5-7b3b-418c-b1bd-00e629bf5f55');\n",
       "          const dataTable =\n",
       "            await google.colab.kernel.invokeFunction('convertToInteractive',\n",
       "                                                     [key], {});\n",
       "          if (!dataTable) return;\n",
       "\n",
       "          const docLinkHtml = 'Like what you see? Visit the ' +\n",
       "            '<a target=\"_blank\" href=https://colab.research.google.com/notebooks/data_table.ipynb>data table notebook</a>'\n",
       "            + ' to learn more about interactive tables.';\n",
       "          element.innerHTML = '';\n",
       "          dataTable['output_type'] = 'display_data';\n",
       "          await google.colab.output.renderOutput(dataTable, element);\n",
       "          const docLink = document.createElement('div');\n",
       "          docLink.innerHTML = docLinkHtml;\n",
       "          element.appendChild(docLink);\n",
       "        }\n",
       "      </script>\n",
       "    </div>\n",
       "  </div>\n",
       "  "
      ],
      "text/plain": [
       "                                           parameters  validation_score  \\\n",
       "0   {'n_estimators': 400, 'min_samples_split': 10,...            0.8805   \n",
       "1   {'n_estimators': 400, 'min_samples_split': 12,...            0.8705   \n",
       "2   {'n_estimators': 500, 'min_samples_split': 12,...            0.8760   \n",
       "3   {'n_estimators': 400, 'min_samples_split': 10,...            0.8690   \n",
       "4   {'n_estimators': 300, 'min_samples_split': 10,...            0.8635   \n",
       "5   {'n_estimators': 400, 'min_samples_split': 12,...            0.8725   \n",
       "6   {'n_estimators': 500, 'min_samples_split': 12,...            0.8640   \n",
       "7   {'n_estimators': 500, 'min_samples_split': 10,...            0.8695   \n",
       "8   {'n_estimators': 500, 'min_samples_split': 10,...            0.8730   \n",
       "9   {'n_estimators': 400, 'min_samples_split': 12,...            0.8645   \n",
       "10  {'n_estimators': 300, 'min_samples_split': 10,...            0.8680   \n",
       "11  {'n_estimators': 500, 'min_samples_split': 12,...            0.8680   \n",
       "12  {'n_estimators': 500, 'min_samples_split': 12,...            0.8635   \n",
       "13  {'n_estimators': 300, 'min_samples_split': 12,...            0.8800   \n",
       "14  {'n_estimators': 500, 'min_samples_split': 8, ...            0.8650   \n",
       "15  {'n_estimators': 400, 'min_samples_split': 8, ...            0.8705   \n",
       "16  {'n_estimators': 400, 'min_samples_split': 8, ...            0.8645   \n",
       "17  {'n_estimators': 400, 'min_samples_split': 12,...            0.8710   \n",
       "18  {'n_estimators': 300, 'min_samples_split': 10,...            0.8680   \n",
       "19  {'n_estimators': 500, 'min_samples_split': 12,...            0.8700   \n",
       "\n",
       "    train_score  rank  \n",
       "0      0.992500     1  \n",
       "1      0.979000     7  \n",
       "2      0.991125     3  \n",
       "3      0.981125    11  \n",
       "4      0.981500    20  \n",
       "5      0.984375     5  \n",
       "6      0.982125    18  \n",
       "7      0.987125    10  \n",
       "8      0.986625     4  \n",
       "9      0.981250    17  \n",
       "10     0.981000    12  \n",
       "11     0.983375    12  \n",
       "12     0.981750    19  \n",
       "13     0.990000     2  \n",
       "14     0.982125    15  \n",
       "15     0.986375     8  \n",
       "16     0.982250    16  \n",
       "17     0.984875     6  \n",
       "18     0.982000    12  \n",
       "19     0.985500     9  "
      ]
     },
     "execution_count": 17,
     "metadata": {},
     "output_type": "execute_result"
    }
   ],
   "source": [
    "\n",
    "param_grid = {\n",
    "    'max_depth': [20, 30, 40, 50, 60, 80],\n",
    "    'min_samples_leaf': [3, 4, 5, 6],\n",
    "    'min_samples_split': [8, 10, 12],\n",
    "    'n_estimators': [300, 400, 500],\n",
    "    'max_features': [200,400,600,800,1000]\n",
    "}\n",
    "\n",
    "rf2 = RandomForestClassifier()\n",
    "\n",
    "clf2 = RandomizedSearchCV(estimator = rf2, param_distributions = param_grid,\n",
    "                         cv = 5, scoring='accuracy', n_iter=20, n_jobs = -1,\n",
    "                   verbose=2, random_state=0,return_train_score=True)\n",
    "clf2.fit(X_spec_train_scale, y_train)\n",
    "pd.DataFrame({'parameters': clf2.cv_results_[\"params\"],\n",
    "              'validation_score': clf2.cv_results_[\"mean_test_score\"],\n",
    "              'train_score': clf2.cv_results_[\"mean_train_score\"],\n",
    "              'rank': clf2.cv_results_[\"rank_test_score\"]})"
   ]
  },
  {
   "cell_type": "code",
   "execution_count": 19,
   "metadata": {
    "id": "JCWkQP5QpniB"
   },
   "outputs": [],
   "source": [
    "df = pd.DataFrame({'parameters': clf2.cv_results_[\"params\"],\n",
    "              'validation_score': clf2.cv_results_[\"mean_test_score\"],\n",
    "              'train_score': clf2.cv_results_[\"mean_train_score\"],\n",
    "              'rank': clf2.cv_results_[\"rank_test_score\"]})\n",
    "df_path = os.path.join(phase2b_path,'cv_result_phase2b_4096_RandomForest.csv')\n",
    "df.to_csv(df_path, index=False)"
   ]
  },
  {
   "cell_type": "code",
   "execution_count": 20,
   "metadata": {
    "colab": {
     "base_uri": "https://localhost:8080/"
    },
    "id": "pIilSRNDrSXB",
    "outputId": "8ac6326e-b2ff-4ece-9ab4-e77f6b5e461a"
   },
   "outputs": [
    {
     "name": "stdout",
     "output_type": "stream",
     "text": [
      "{'n_estimators': 400, 'min_samples_split': 10, 'min_samples_leaf': 3, 'max_features': 200, 'max_depth': 80}\n",
      "0.87\n",
      "              precision    recall  f1-score   support\n",
      "\n",
      "           0       0.91      0.98      0.94        50\n",
      "           1       0.82      0.82      0.82        50\n",
      "           2       0.87      0.90      0.88        50\n",
      "           3       0.89      0.84      0.87        50\n",
      "           4       0.93      0.84      0.88        50\n",
      "           5       0.82      0.82      0.82        50\n",
      "           6       0.80      0.90      0.85        50\n",
      "           7       0.88      0.86      0.87        50\n",
      "           8       0.90      0.86      0.88        50\n",
      "           9       0.90      0.88      0.89        50\n",
      "\n",
      "    accuracy                           0.87       500\n",
      "   macro avg       0.87      0.87      0.87       500\n",
      "weighted avg       0.87      0.87      0.87       500\n",
      "\n"
     ]
    }
   ],
   "source": [
    "print(clf2.best_params_)\n",
    "y_pred = clf2.predict(X_spec_test_scale)\n",
    "print(accuracy_score(y_test,y_pred))\n",
    "print(classification_report(y_test, y_pred))"
   ]
  },
  {
   "cell_type": "code",
   "execution_count": 21,
   "metadata": {
    "colab": {
     "base_uri": "https://localhost:8080/",
     "height": 279
    },
    "id": "RroL_9gvsRwX",
    "outputId": "28a45cc6-7ab5-4ebb-94dc-46f40ad2f12a"
   },
   "outputs": [
    {
     "data": {
      "image/png": "[encoded data removed]",
      "text/plain": [
       "<Figure size 432x288 with 2 Axes>"
      ]
     },
     "metadata": {
      "needs_background": "light"
     },
     "output_type": "display_data"
    }
   ],
   "source": [
    "cm = confusion_matrix(y_test, y_pred, labels=clf2.classes_)\n",
    "disp = ConfusionMatrixDisplay(confusion_matrix=cm,\n",
    "                             display_labels=clf2.classes_)\n",
    "disp.plot()\n",
    "plt.show()"
   ]
  },
  {
   "cell_type": "markdown",
   "metadata": {
    "id": "6f7eJulttioW"
   },
   "source": [
    "## Hyperparameter tuning for SVM"
   ]
  },
  {
   "cell_type": "code",
   "execution_count": 6,
   "metadata": {
    "colab": {
     "base_uri": "https://localhost:8080/",
     "height": 833
    },
    "id": "r24_1WLEtnqP",
    "outputId": "e18f0980-bb0d-41b3-aa08-9209f2fe9262"
   },
   "outputs": [
    {
     "data": {
      "text/html": [
       "\n",
       "  <div id=\"df-deaa6104-049b-4f21-871c-341e720c0eb3\">\n",
       "    <div class=\"colab-df-container\">\n",
       "      <div>\n",
       "<style scoped>\n",
       "    .dataframe tbody tr th:only-of-type {\n",
       "        vertical-align: middle;\n",
       "    }\n",
       "\n",
       "    .dataframe tbody tr th {\n",
       "        vertical-align: top;\n",
       "    }\n",
       "\n",
       "    .dataframe thead th {\n",
       "        text-align: right;\n",
       "    }\n",
       "</style>\n",
       "<table border=\"1\" class=\"dataframe\">\n",
       "  <thead>\n",
       "    <tr style=\"text-align: right;\">\n",
       "      <th></th>\n",
       "      <th>parameters</th>\n",
       "      <th>validation_score</th>\n",
       "      <th>train_score</th>\n",
       "      <th>rank</th>\n",
       "    </tr>\n",
       "  </thead>\n",
       "  <tbody>\n",
       "    <tr>\n",
       "      <th>0</th>\n",
       "      <td>{'C': 1, 'gamma': 0.1}</td>\n",
       "      <td>0.1350</td>\n",
       "      <td>1.000000</td>\n",
       "      <td>25</td>\n",
       "    </tr>\n",
       "    <tr>\n",
       "      <th>1</th>\n",
       "      <td>{'C': 1, 'gamma': 0.01}</td>\n",
       "      <td>0.4000</td>\n",
       "      <td>1.000000</td>\n",
       "      <td>20</td>\n",
       "    </tr>\n",
       "    <tr>\n",
       "      <th>2</th>\n",
       "      <td>{'C': 1, 'gamma': 0.001}</td>\n",
       "      <td>0.8205</td>\n",
       "      <td>0.979375</td>\n",
       "      <td>12</td>\n",
       "    </tr>\n",
       "    <tr>\n",
       "      <th>3</th>\n",
       "      <td>{'C': 1, 'gamma': 0.0001}</td>\n",
       "      <td>0.8075</td>\n",
       "      <td>0.857125</td>\n",
       "      <td>14</td>\n",
       "    </tr>\n",
       "    <tr>\n",
       "      <th>4</th>\n",
       "      <td>{'C': 1, 'gamma': 1e-05}</td>\n",
       "      <td>0.5450</td>\n",
       "      <td>0.568375</td>\n",
       "      <td>15</td>\n",
       "    </tr>\n",
       "    <tr>\n",
       "      <th>5</th>\n",
       "      <td>{'C': 10, 'gamma': 0.1}</td>\n",
       "      <td>0.1455</td>\n",
       "      <td>1.000000</td>\n",
       "      <td>21</td>\n",
       "    </tr>\n",
       "    <tr>\n",
       "      <th>6</th>\n",
       "      <td>{'C': 10, 'gamma': 0.01}</td>\n",
       "      <td>0.4285</td>\n",
       "      <td>1.000000</td>\n",
       "      <td>16</td>\n",
       "    </tr>\n",
       "    <tr>\n",
       "      <th>7</th>\n",
       "      <td>{'C': 10, 'gamma': 0.001}</td>\n",
       "      <td>0.8480</td>\n",
       "      <td>1.000000</td>\n",
       "      <td>8</td>\n",
       "    </tr>\n",
       "    <tr>\n",
       "      <th>8</th>\n",
       "      <td>{'C': 10, 'gamma': 0.0001}</td>\n",
       "      <td>0.9010</td>\n",
       "      <td>0.976375</td>\n",
       "      <td>6</td>\n",
       "    </tr>\n",
       "    <tr>\n",
       "      <th>9</th>\n",
       "      <td>{'C': 10, 'gamma': 1e-05}</td>\n",
       "      <td>0.8165</td>\n",
       "      <td>0.857625</td>\n",
       "      <td>13</td>\n",
       "    </tr>\n",
       "    <tr>\n",
       "      <th>10</th>\n",
       "      <td>{'C': 100, 'gamma': 0.1}</td>\n",
       "      <td>0.1455</td>\n",
       "      <td>1.000000</td>\n",
       "      <td>21</td>\n",
       "    </tr>\n",
       "    <tr>\n",
       "      <th>11</th>\n",
       "      <td>{'C': 100, 'gamma': 0.01}</td>\n",
       "      <td>0.4285</td>\n",
       "      <td>1.000000</td>\n",
       "      <td>16</td>\n",
       "    </tr>\n",
       "    <tr>\n",
       "      <th>12</th>\n",
       "      <td>{'C': 100, 'gamma': 0.001}</td>\n",
       "      <td>0.8480</td>\n",
       "      <td>1.000000</td>\n",
       "      <td>8</td>\n",
       "    </tr>\n",
       "    <tr>\n",
       "      <th>13</th>\n",
       "      <td>{'C': 100, 'gamma': 0.0001}</td>\n",
       "      <td>0.9130</td>\n",
       "      <td>0.999375</td>\n",
       "      <td>1</td>\n",
       "    </tr>\n",
       "    <tr>\n",
       "      <th>14</th>\n",
       "      <td>{'C': 100, 'gamma': 1e-05}</td>\n",
       "      <td>0.8950</td>\n",
       "      <td>0.968875</td>\n",
       "      <td>7</td>\n",
       "    </tr>\n",
       "    <tr>\n",
       "      <th>15</th>\n",
       "      <td>{'C': 500, 'gamma': 0.1}</td>\n",
       "      <td>0.1455</td>\n",
       "      <td>1.000000</td>\n",
       "      <td>21</td>\n",
       "    </tr>\n",
       "    <tr>\n",
       "      <th>16</th>\n",
       "      <td>{'C': 500, 'gamma': 0.01}</td>\n",
       "      <td>0.4285</td>\n",
       "      <td>1.000000</td>\n",
       "      <td>16</td>\n",
       "    </tr>\n",
       "    <tr>\n",
       "      <th>17</th>\n",
       "      <td>{'C': 500, 'gamma': 0.001}</td>\n",
       "      <td>0.8480</td>\n",
       "      <td>1.000000</td>\n",
       "      <td>8</td>\n",
       "    </tr>\n",
       "    <tr>\n",
       "      <th>18</th>\n",
       "      <td>{'C': 500, 'gamma': 0.0001}</td>\n",
       "      <td>0.9110</td>\n",
       "      <td>1.000000</td>\n",
       "      <td>3</td>\n",
       "    </tr>\n",
       "    <tr>\n",
       "      <th>19</th>\n",
       "      <td>{'C': 500, 'gamma': 1e-05}</td>\n",
       "      <td>0.9125</td>\n",
       "      <td>0.997750</td>\n",
       "      <td>2</td>\n",
       "    </tr>\n",
       "    <tr>\n",
       "      <th>20</th>\n",
       "      <td>{'C': 1000, 'gamma': 0.1}</td>\n",
       "      <td>0.1455</td>\n",
       "      <td>1.000000</td>\n",
       "      <td>21</td>\n",
       "    </tr>\n",
       "    <tr>\n",
       "      <th>21</th>\n",
       "      <td>{'C': 1000, 'gamma': 0.01}</td>\n",
       "      <td>0.4285</td>\n",
       "      <td>1.000000</td>\n",
       "      <td>16</td>\n",
       "    </tr>\n",
       "    <tr>\n",
       "      <th>22</th>\n",
       "      <td>{'C': 1000, 'gamma': 0.001}</td>\n",
       "      <td>0.8480</td>\n",
       "      <td>1.000000</td>\n",
       "      <td>8</td>\n",
       "    </tr>\n",
       "    <tr>\n",
       "      <th>23</th>\n",
       "      <td>{'C': 1000, 'gamma': 0.0001}</td>\n",
       "      <td>0.9110</td>\n",
       "      <td>1.000000</td>\n",
       "      <td>3</td>\n",
       "    </tr>\n",
       "    <tr>\n",
       "      <th>24</th>\n",
       "      <td>{'C': 1000, 'gamma': 1e-05}</td>\n",
       "      <td>0.9110</td>\n",
       "      <td>0.999125</td>\n",
       "      <td>3</td>\n",
       "    </tr>\n",
       "  </tbody>\n",
       "</table>\n",
       "</div>\n",
       "      <button class=\"colab-df-convert\" onclick=\"convertToInteractive('df-deaa6104-049b-4f21-871c-341e720c0eb3')\"\n",
       "              title=\"Convert this dataframe to an interactive table.\"\n",
       "              style=\"display:none;\">\n",
       "        \n",
       "  <svg xmlns=\"http://www.w3.org/2000/svg\" height=\"24px\"viewBox=\"0 0 24 24\"\n",
       "       width=\"24px\">\n",
       "    <path d=\"M0 0h24v24H0V0z\" fill=\"none\"/>\n",
       "    <path d=\"M18.56 5.44l.94 2.06.94-2.06 2.06-.94-2.06-.94-.94-2.06-.94 2.06-2.06.94zm-11 1L8.5 8.5l.94-2.06 2.06-.94-2.06-.94L8.5 2.5l-.94 2.06-2.06.94zm10 10l.94 2.06.94-2.06 2.06-.94-2.06-.94-.94-2.06-.94 2.06-2.06.94z\"/><path d=\"M17.41 7.96l-1.37-1.37c-.4-.4-.92-.59-1.43-.59-.52 0-1.04.2-1.43.59L10.3 9.45l-7.72 7.72c-.78.78-.78 2.05 0 2.83L4 21.41c.39.39.9.59 1.41.59.51 0 1.02-.2 1.41-.59l7.78-7.78 2.81-2.81c.8-.78.8-2.07 0-2.86zM5.41 20L4 18.59l7.72-7.72 1.47 1.35L5.41 20z\"/>\n",
       "  </svg>\n",
       "      </button>\n",
       "      \n",
       "  <style>\n",
       "    .colab-df-container {\n",
       "      display:flex;\n",
       "      flex-wrap:wrap;\n",
       "      gap: 12px;\n",
       "    }\n",
       "\n",
       "    .colab-df-convert {\n",
       "      background-color: #E8F0FE;\n",
       "      border: none;\n",
       "      border-radius: 50%;\n",
       "      cursor: pointer;\n",
       "      display: none;\n",
       "      fill: #1967D2;\n",
       "      height: 32px;\n",
       "      padding: 0 0 0 0;\n",
       "      width: 32px;\n",
       "    }\n",
       "\n",
       "    .colab-df-convert:hover {\n",
       "      background-color: #E2EBFA;\n",
       "      box-shadow: 0px 1px 2px rgba(60, 64, 67, 0.3), 0px 1px 3px 1px rgba(60, 64, 67, 0.15);\n",
       "      fill: #174EA6;\n",
       "    }\n",
       "\n",
       "    [theme=dark] .colab-df-convert {\n",
       "      background-color: #3B4455;\n",
       "      fill: #D2E3FC;\n",
       "    }\n",
       "\n",
       "    [theme=dark] .colab-df-convert:hover {\n",
       "      background-color: #434B5C;\n",
       "      box-shadow: 0px 1px 3px 1px rgba(0, 0, 0, 0.15);\n",
       "      filter: drop-shadow(0px 1px 2px rgba(0, 0, 0, 0.3));\n",
       "      fill: #FFFFFF;\n",
       "    }\n",
       "  </style>\n",
       "\n",
       "      <script>\n",
       "        const buttonEl =\n",
       "          document.querySelector('#df-deaa6104-049b-4f21-871c-341e720c0eb3 button.colab-df-convert');\n",
       "        buttonEl.style.display =\n",
       "          google.colab.kernel.accessAllowed ? 'block' : 'none';\n",
       "\n",
       "        async function convertToInteractive(key) {\n",
       "          const element = document.querySelector('#df-deaa6104-049b-4f21-871c-341e720c0eb3');\n",
       "          const dataTable =\n",
       "            await google.colab.kernel.invokeFunction('convertToInteractive',\n",
       "                                                     [key], {});\n",
       "          if (!dataTable) return;\n",
       "\n",
       "          const docLinkHtml = 'Like what you see? Visit the ' +\n",
       "            '<a target=\"_blank\" href=https://colab.research.google.com/notebooks/data_table.ipynb>data table notebook</a>'\n",
       "            + ' to learn more about interactive tables.';\n",
       "          element.innerHTML = '';\n",
       "          dataTable['output_type'] = 'display_data';\n",
       "          await google.colab.output.renderOutput(dataTable, element);\n",
       "          const docLink = document.createElement('div');\n",
       "          docLink.innerHTML = docLinkHtml;\n",
       "          element.appendChild(docLink);\n",
       "        }\n",
       "      </script>\n",
       "    </div>\n",
       "  </div>\n",
       "  "
      ],
      "text/plain": [
       "                      parameters  validation_score  train_score  rank\n",
       "0         {'C': 1, 'gamma': 0.1}            0.1350     1.000000    25\n",
       "1        {'C': 1, 'gamma': 0.01}            0.4000     1.000000    20\n",
       "2       {'C': 1, 'gamma': 0.001}            0.8205     0.979375    12\n",
       "3      {'C': 1, 'gamma': 0.0001}            0.8075     0.857125    14\n",
       "4       {'C': 1, 'gamma': 1e-05}            0.5450     0.568375    15\n",
       "5        {'C': 10, 'gamma': 0.1}            0.1455     1.000000    21\n",
       "6       {'C': 10, 'gamma': 0.01}            0.4285     1.000000    16\n",
       "7      {'C': 10, 'gamma': 0.001}            0.8480     1.000000     8\n",
       "8     {'C': 10, 'gamma': 0.0001}            0.9010     0.976375     6\n",
       "9      {'C': 10, 'gamma': 1e-05}            0.8165     0.857625    13\n",
       "10      {'C': 100, 'gamma': 0.1}            0.1455     1.000000    21\n",
       "11     {'C': 100, 'gamma': 0.01}            0.4285     1.000000    16\n",
       "12    {'C': 100, 'gamma': 0.001}            0.8480     1.000000     8\n",
       "13   {'C': 100, 'gamma': 0.0001}            0.9130     0.999375     1\n",
       "14    {'C': 100, 'gamma': 1e-05}            0.8950     0.968875     7\n",
       "15      {'C': 500, 'gamma': 0.1}            0.1455     1.000000    21\n",
       "16     {'C': 500, 'gamma': 0.01}            0.4285     1.000000    16\n",
       "17    {'C': 500, 'gamma': 0.001}            0.8480     1.000000     8\n",
       "18   {'C': 500, 'gamma': 0.0001}            0.9110     1.000000     3\n",
       "19    {'C': 500, 'gamma': 1e-05}            0.9125     0.997750     2\n",
       "20     {'C': 1000, 'gamma': 0.1}            0.1455     1.000000    21\n",
       "21    {'C': 1000, 'gamma': 0.01}            0.4285     1.000000    16\n",
       "22   {'C': 1000, 'gamma': 0.001}            0.8480     1.000000     8\n",
       "23  {'C': 1000, 'gamma': 0.0001}            0.9110     1.000000     3\n",
       "24   {'C': 1000, 'gamma': 1e-05}            0.9110     0.999125     3"
      ]
     },
     "execution_count": 6,
     "metadata": {},
     "output_type": "execute_result"
    }
   ],
   "source": [
    "param_grid = {\n",
    "    'C': [1, 10, 100, 500, 1000],\n",
    "    'gamma': [1e-1, 1e-2, 1e-3, 1e-4, 1e-5]\n",
    "}\n",
    "\n",
    "clf3 = GridSearchCV(estimator=SVC(), param_grid=param_grid,cv = 5, \n",
    "                    scoring='accuracy', n_jobs = -1,return_train_score=True)\n",
    "clf3.fit(X_spec_train_scale, y_train)\n",
    "pd.DataFrame({'parameters': clf3.cv_results_[\"params\"],\n",
    "              'validation_score': clf3.cv_results_[\"mean_test_score\"],\n",
    "              'train_score': clf3.cv_results_[\"mean_train_score\"],\n",
    "              'rank': clf3.cv_results_[\"rank_test_score\"]})"
   ]
  },
  {
   "cell_type": "code",
   "execution_count": 7,
   "metadata": {
    "id": "IPFzhLCsu1Ux"
   },
   "outputs": [],
   "source": [
    "df = pd.DataFrame({'parameters': clf3.cv_results_[\"params\"],\n",
    "              'validation_score': clf3.cv_results_[\"mean_test_score\"],\n",
    "              'train_score': clf3.cv_results_[\"mean_train_score\"],\n",
    "              'rank': clf3.cv_results_[\"rank_test_score\"]})\n",
    "df_path = os.path.join(phase2b_path,'cv_result_phase2b_4096_SVM.csv')\n",
    "df.to_csv(df_path, index=False)"
   ]
  },
  {
   "cell_type": "code",
   "execution_count": 8,
   "metadata": {
    "colab": {
     "base_uri": "https://localhost:8080/"
    },
    "id": "p3t5iqwlvxZE",
    "outputId": "981863b4-bdc8-4ce7-b845-784d5e571d66"
   },
   "outputs": [
    {
     "name": "stdout",
     "output_type": "stream",
     "text": [
      "{'C': 100, 'gamma': 0.0001}\n",
      "0.926\n",
      "              precision    recall  f1-score   support\n",
      "\n",
      "           0       0.96      0.92      0.94        50\n",
      "           1       0.96      0.92      0.94        50\n",
      "           2       0.96      0.96      0.96        50\n",
      "           3       0.85      0.94      0.90        50\n",
      "           4       0.96      0.94      0.95        50\n",
      "           5       0.94      0.90      0.92        50\n",
      "           6       0.88      0.88      0.88        50\n",
      "           7       0.94      0.96      0.95        50\n",
      "           8       0.96      0.90      0.93        50\n",
      "           9       0.87      0.94      0.90        50\n",
      "\n",
      "    accuracy                           0.93       500\n",
      "   macro avg       0.93      0.93      0.93       500\n",
      "weighted avg       0.93      0.93      0.93       500\n",
      "\n"
     ]
    }
   ],
   "source": [
    "print(clf3.best_params_)\n",
    "y_pred = clf3.predict(X_spec_test_scale)\n",
    "print(accuracy_score(y_test,y_pred))\n",
    "print(classification_report(y_test, y_pred))"
   ]
  },
  {
   "cell_type": "code",
   "execution_count": 9,
   "metadata": {
    "colab": {
     "base_uri": "https://localhost:8080/",
     "height": 279
    },
    "id": "Epdm-_iowD7d",
    "outputId": "cad3d663-df01-4fcf-8a93-49272bef1486"
   },
   "outputs": [
    {
     "data": {
      "image/png": "[encoded data removed]",
      "text/plain": [
       "<Figure size 432x288 with 2 Axes>"
      ]
     },
     "metadata": {
      "needs_background": "light"
     },
     "output_type": "display_data"
    }
   ],
   "source": [
    "cm = confusion_matrix(y_test, y_pred, labels=clf3.classes_)\n",
    "disp = ConfusionMatrixDisplay(confusion_matrix=cm,\n",
    "                             display_labels=clf3.classes_)\n",
    "disp.plot()\n",
    "plt.show()"
   ]
  },
  {
   "cell_type": "code",
   "execution_count": 10,
   "metadata": {
    "id": "xaKJRAz-8MEO"
   },
   "outputs": [],
   "source": [
    "model_path = os.path.join(phase2b_path,'Model_Phase2b.pkl')\n",
    "with open(model_path, 'wb') as f:\n",
    "    pickle.dump(clf3, f)"
   ]
  },
  {
   "cell_type": "markdown",
   "metadata": {
    "id": "cP19Tfr8Z0wl"
   },
   "source": [
    "# ث)"
   ]
  },
  {
   "cell_type": "code",
   "execution_count": 16,
   "metadata": {
    "colab": {
     "base_uri": "https://localhost:8080/"
    },
    "id": "oIygK0MYaGWk",
    "outputId": "9e662c64-02b7-4da7-e427-71aa40a19c22"
   },
   "outputs": [
    {
     "name": "stdout",
     "output_type": "stream",
     "text": [
      "4783\n",
      "\n",
      "(500, 64, 64)\n",
      "(500, 4096)\n",
      "accuracy on test data:  0.926\n"
     ]
    }
   ],
   "source": [
    "def predict_phase2b(test_path, phase1_path, phase2b_path, len_train):\n",
    "  #load train data spectrogram and labels \n",
    "  X_spec_train = np.load(os.path.join(phase2b_path,'phase2b_Xtrain_spec.npy'))\n",
    "  y_train = np.load(os.path.join(phase1_path,'phase1_ytrain.npy'))\n",
    "  #read test data from directory and preprocess\n",
    "  X_test,y_test,len_test = preprocess(test_path,len_train)\n",
    "  #calculate STFT test data in dBs\n",
    "  X_spec_test = np.zeros([X_test.shape[0],64,64])\n",
    "  print(X_spec_test.shape)\n",
    "  for i in range(X_test.shape[0]):\n",
    "    S = np.abs(librosa.stft(X_test[i], n_fft=127, hop_length=(X_test.shape[1]//64)+1))\n",
    "    stft = librosa.amplitude_to_db(S, ref=np.max)\n",
    "    X_spec_test[i] = stft\n",
    "  #reshape STFT data from 2D to 1D\n",
    "  X_spec_test = X_spec_test.reshape(X_test.shape[0],-1,order='F')\n",
    "  print(X_spec_test.shape)\n",
    "  #normalize train data and transform test data\n",
    "  scalar = StandardScaler()\n",
    "  X_spec_train_scale = scalar.fit_transform(X_spec_train)\n",
    "  X_spec_test_scale = scalar.transform(X_spec_test)\n",
    "\n",
    "  #load model\n",
    "  model_path = os.path.join(phase2b_path,'Model_Phase2b.pkl')\n",
    "  with open(model_path, 'rb') as f: \n",
    "    clf = pickle.load(f)\n",
    "  #predic test data labels\n",
    "  y_pred = clf.predict(X_spec_test_scale)\n",
    "  #save predicted labels\n",
    "  np.save(os.path.join(phase2b_path,'phase2b_predicted.npy'),y_pred)\n",
    "\n",
    "  #return accuracy\n",
    "  return accuracy_score(y_test,y_pred)\n",
    "\n",
    "\n",
    "root = os.getcwd()\n",
    "phase1_path = os.path.join(root,'Phase_1')\n",
    "phase2b_path = os.path.join(root,'Phase_2b')\n",
    "test_path = os.path.join(dataset_path,'test')\n",
    "\n",
    "length = 4783\n",
    "\n",
    "\n",
    "acc = predict_phase2b(test_path,phase1_path, phase2b_path, length)\n",
    "print(\"accuracy on test data: \", acc)"
   ]
  },
  {
   "cell_type": "markdown",
   "metadata": {
    "id": "0N6ue31sfogM"
   },
   "source": [
    "# PHASE 3"
   ]
  },
  {
   "cell_type": "markdown",
   "metadata": {
    "id": "s8IVt6rcfu2l"
   },
   "source": [
    "#  الف)"
   ]
  },
  {
   "cell_type": "code",
   "execution_count": 17,
   "metadata": {
    "id": "YypLPcIYfp4r"
   },
   "outputs": [],
   "source": [
    "X_spec_train = np.load(os.path.join(phase2b_path,'phase2b_Xtrain_spec.npy'))\n",
    "X_spec_test = np.load(os.path.join(phase2b_path,'phase2b_Xtest_spec.npy'))\n",
    "y_train = np.load(os.path.join(phase1_path,'phase1_ytrain.npy'))\n",
    "y_test = np.load(os.path.join(phase1_path,'phase1_ytest.npy'))"
   ]
  },
  {
   "cell_type": "code",
   "execution_count": 27,
   "metadata": {
    "colab": {
     "base_uri": "https://localhost:8080/"
    },
    "id": "zGfaNsOHiWwh",
    "outputId": "d93379da-e7e0-4a24-f493-c3906c1bc349"
   },
   "outputs": [
    {
     "name": "stdout",
     "output_type": "stream",
     "text": [
      "[124, 89, 193, 51, 164]\n",
      "[271, 373, 363, 344, 232]\n",
      "[422, 468, 474, 550, 477]\n",
      "[765, 722, 750, 629, 603]\n",
      "[859, 968, 913, 935, 820]\n",
      "[1167, 1035, 1122, 1154, 1120]\n",
      "[1388, 1269, 1337, 1341, 1296]\n",
      "[1520, 1491, 1552, 1430, 1420]\n",
      "[1600, 1617, 1727, 1713, 1630]\n",
      "[1848, 1875, 1976, 1838, 1984]\n"
     ]
    }
   ],
   "source": [
    "X_spec_train50 = np.zeros([50,4096])\n",
    "y_train50 = np.zeros(50)\n",
    "\n",
    "for i in range(10):\n",
    "  #choose 5 random numbers\n",
    "  rd = random.sample(range(i*200, (i+1)*200), 5)\n",
    "  print(rd)\n",
    "  for j in range(5):\n",
    "    X_spec_train50[i*5+j] = X_spec_train[int(rd[j])]\n",
    "    y_train50[i*5+j] = i\n",
    "\n",
    "\n"
   ]
  },
  {
   "cell_type": "code",
   "execution_count": 28,
   "metadata": {
    "id": "axJzkCh42sBV"
   },
   "outputs": [],
   "source": [
    "sc = StandardScaler()\n",
    "X_spec_train50_scale = sc.fit_transform(X_spec_train50)\n",
    "X_spec_test_scale = sc.transform(X_spec_test)"
   ]
  },
  {
   "cell_type": "markdown",
   "metadata": {
    "id": "RyYVX27Ic_7b"
   },
   "source": [
    "## Hyperparameter tuning without PCA"
   ]
  },
  {
   "cell_type": "code",
   "execution_count": 37,
   "metadata": {
    "colab": {
     "base_uri": "https://localhost:8080/",
     "height": 423
    },
    "id": "iuEN1v-cgNbw",
    "outputId": "c332762c-6fc4-46f7-c7e9-d45c2965d0d3"
   },
   "outputs": [
    {
     "data": {
      "text/html": [
       "\n",
       "  <div id=\"df-78c4fe3c-c243-4aa6-9c8d-b70569ab615b\">\n",
       "    <div class=\"colab-df-container\">\n",
       "      <div>\n",
       "<style scoped>\n",
       "    .dataframe tbody tr th:only-of-type {\n",
       "        vertical-align: middle;\n",
       "    }\n",
       "\n",
       "    .dataframe tbody tr th {\n",
       "        vertical-align: top;\n",
       "    }\n",
       "\n",
       "    .dataframe thead th {\n",
       "        text-align: right;\n",
       "    }\n",
       "</style>\n",
       "<table border=\"1\" class=\"dataframe\">\n",
       "  <thead>\n",
       "    <tr style=\"text-align: right;\">\n",
       "      <th></th>\n",
       "      <th>parameters</th>\n",
       "      <th>validation_score</th>\n",
       "      <th>train_score</th>\n",
       "      <th>rank</th>\n",
       "    </tr>\n",
       "  </thead>\n",
       "  <tbody>\n",
       "    <tr>\n",
       "      <th>0</th>\n",
       "      <td>{'estimator': SVC(), 'estimator__C': 10, 'esti...</td>\n",
       "      <td>0.46</td>\n",
       "      <td>1.00</td>\n",
       "      <td>154</td>\n",
       "    </tr>\n",
       "    <tr>\n",
       "      <th>1</th>\n",
       "      <td>{'estimator': SVC(), 'estimator__C': 10, 'esti...</td>\n",
       "      <td>0.44</td>\n",
       "      <td>1.00</td>\n",
       "      <td>168</td>\n",
       "    </tr>\n",
       "    <tr>\n",
       "      <th>2</th>\n",
       "      <td>{'estimator': SVC(), 'estimator__C': 10, 'esti...</td>\n",
       "      <td>0.46</td>\n",
       "      <td>1.00</td>\n",
       "      <td>154</td>\n",
       "    </tr>\n",
       "    <tr>\n",
       "      <th>3</th>\n",
       "      <td>{'estimator': SVC(), 'estimator__C': 10, 'esti...</td>\n",
       "      <td>0.46</td>\n",
       "      <td>0.98</td>\n",
       "      <td>154</td>\n",
       "    </tr>\n",
       "    <tr>\n",
       "      <th>4</th>\n",
       "      <td>{'estimator': SVC(), 'estimator__C': 10, 'esti...</td>\n",
       "      <td>0.46</td>\n",
       "      <td>1.00</td>\n",
       "      <td>154</td>\n",
       "    </tr>\n",
       "    <tr>\n",
       "      <th>...</th>\n",
       "      <td>...</td>\n",
       "      <td>...</td>\n",
       "      <td>...</td>\n",
       "      <td>...</td>\n",
       "    </tr>\n",
       "    <tr>\n",
       "      <th>173</th>\n",
       "      <td>{'estimator': LogisticRegression(), 'estimator...</td>\n",
       "      <td>0.48</td>\n",
       "      <td>1.00</td>\n",
       "      <td>142</td>\n",
       "    </tr>\n",
       "    <tr>\n",
       "      <th>174</th>\n",
       "      <td>{'estimator': LogisticRegression(), 'estimator...</td>\n",
       "      <td>0.48</td>\n",
       "      <td>1.00</td>\n",
       "      <td>142</td>\n",
       "    </tr>\n",
       "    <tr>\n",
       "      <th>175</th>\n",
       "      <td>{'estimator': LogisticRegression(), 'estimator...</td>\n",
       "      <td>0.48</td>\n",
       "      <td>1.00</td>\n",
       "      <td>142</td>\n",
       "    </tr>\n",
       "    <tr>\n",
       "      <th>176</th>\n",
       "      <td>{'estimator': LogisticRegression(), 'estimator...</td>\n",
       "      <td>0.48</td>\n",
       "      <td>1.00</td>\n",
       "      <td>142</td>\n",
       "    </tr>\n",
       "    <tr>\n",
       "      <th>177</th>\n",
       "      <td>{'estimator': GaussianNB()}</td>\n",
       "      <td>0.10</td>\n",
       "      <td>0.88</td>\n",
       "      <td>178</td>\n",
       "    </tr>\n",
       "  </tbody>\n",
       "</table>\n",
       "<p>178 rows × 4 columns</p>\n",
       "</div>\n",
       "      <button class=\"colab-df-convert\" onclick=\"convertToInteractive('df-78c4fe3c-c243-4aa6-9c8d-b70569ab615b')\"\n",
       "              title=\"Convert this dataframe to an interactive table.\"\n",
       "              style=\"display:none;\">\n",
       "        \n",
       "  <svg xmlns=\"http://www.w3.org/2000/svg\" height=\"24px\"viewBox=\"0 0 24 24\"\n",
       "       width=\"24px\">\n",
       "    <path d=\"M0 0h24v24H0V0z\" fill=\"none\"/>\n",
       "    <path d=\"M18.56 5.44l.94 2.06.94-2.06 2.06-.94-2.06-.94-.94-2.06-.94 2.06-2.06.94zm-11 1L8.5 8.5l.94-2.06 2.06-.94-2.06-.94L8.5 2.5l-.94 2.06-2.06.94zm10 10l.94 2.06.94-2.06 2.06-.94-2.06-.94-.94-2.06-.94 2.06-2.06.94z\"/><path d=\"M17.41 7.96l-1.37-1.37c-.4-.4-.92-.59-1.43-.59-.52 0-1.04.2-1.43.59L10.3 9.45l-7.72 7.72c-.78.78-.78 2.05 0 2.83L4 21.41c.39.39.9.59 1.41.59.51 0 1.02-.2 1.41-.59l7.78-7.78 2.81-2.81c.8-.78.8-2.07 0-2.86zM5.41 20L4 18.59l7.72-7.72 1.47 1.35L5.41 20z\"/>\n",
       "  </svg>\n",
       "      </button>\n",
       "      \n",
       "  <style>\n",
       "    .colab-df-container {\n",
       "      display:flex;\n",
       "      flex-wrap:wrap;\n",
       "      gap: 12px;\n",
       "    }\n",
       "\n",
       "    .colab-df-convert {\n",
       "      background-color: #E8F0FE;\n",
       "      border: none;\n",
       "      border-radius: 50%;\n",
       "      cursor: pointer;\n",
       "      display: none;\n",
       "      fill: #1967D2;\n",
       "      height: 32px;\n",
       "      padding: 0 0 0 0;\n",
       "      width: 32px;\n",
       "    }\n",
       "\n",
       "    .colab-df-convert:hover {\n",
       "      background-color: #E2EBFA;\n",
       "      box-shadow: 0px 1px 2px rgba(60, 64, 67, 0.3), 0px 1px 3px 1px rgba(60, 64, 67, 0.15);\n",
       "      fill: #174EA6;\n",
       "    }\n",
       "\n",
       "    [theme=dark] .colab-df-convert {\n",
       "      background-color: #3B4455;\n",
       "      fill: #D2E3FC;\n",
       "    }\n",
       "\n",
       "    [theme=dark] .colab-df-convert:hover {\n",
       "      background-color: #434B5C;\n",
       "      box-shadow: 0px 1px 3px 1px rgba(0, 0, 0, 0.15);\n",
       "      filter: drop-shadow(0px 1px 2px rgba(0, 0, 0, 0.3));\n",
       "      fill: #FFFFFF;\n",
       "    }\n",
       "  </style>\n",
       "\n",
       "      <script>\n",
       "        const buttonEl =\n",
       "          document.querySelector('#df-78c4fe3c-c243-4aa6-9c8d-b70569ab615b button.colab-df-convert');\n",
       "        buttonEl.style.display =\n",
       "          google.colab.kernel.accessAllowed ? 'block' : 'none';\n",
       "\n",
       "        async function convertToInteractive(key) {\n",
       "          const element = document.querySelector('#df-78c4fe3c-c243-4aa6-9c8d-b70569ab615b');\n",
       "          const dataTable =\n",
       "            await google.colab.kernel.invokeFunction('convertToInteractive',\n",
       "                                                     [key], {});\n",
       "          if (!dataTable) return;\n",
       "\n",
       "          const docLinkHtml = 'Like what you see? Visit the ' +\n",
       "            '<a target=\"_blank\" href=https://colab.research.google.com/notebooks/data_table.ipynb>data table notebook</a>'\n",
       "            + ' to learn more about interactive tables.';\n",
       "          element.innerHTML = '';\n",
       "          dataTable['output_type'] = 'display_data';\n",
       "          await google.colab.output.renderOutput(dataTable, element);\n",
       "          const docLink = document.createElement('div');\n",
       "          docLink.innerHTML = docLinkHtml;\n",
       "          element.appendChild(docLink);\n",
       "        }\n",
       "      </script>\n",
       "    </div>\n",
       "  </div>\n",
       "  "
      ],
      "text/plain": [
       "                                            parameters  validation_score  \\\n",
       "0    {'estimator': SVC(), 'estimator__C': 10, 'esti...              0.46   \n",
       "1    {'estimator': SVC(), 'estimator__C': 10, 'esti...              0.44   \n",
       "2    {'estimator': SVC(), 'estimator__C': 10, 'esti...              0.46   \n",
       "3    {'estimator': SVC(), 'estimator__C': 10, 'esti...              0.46   \n",
       "4    {'estimator': SVC(), 'estimator__C': 10, 'esti...              0.46   \n",
       "..                                                 ...               ...   \n",
       "173  {'estimator': LogisticRegression(), 'estimator...              0.48   \n",
       "174  {'estimator': LogisticRegression(), 'estimator...              0.48   \n",
       "175  {'estimator': LogisticRegression(), 'estimator...              0.48   \n",
       "176  {'estimator': LogisticRegression(), 'estimator...              0.48   \n",
       "177                        {'estimator': GaussianNB()}              0.10   \n",
       "\n",
       "     train_score  rank  \n",
       "0           1.00   154  \n",
       "1           1.00   168  \n",
       "2           1.00   154  \n",
       "3           0.98   154  \n",
       "4           1.00   154  \n",
       "..           ...   ...  \n",
       "173         1.00   142  \n",
       "174         1.00   142  \n",
       "175         1.00   142  \n",
       "176         1.00   142  \n",
       "177         0.88   178  \n",
       "\n",
       "[178 rows x 4 columns]"
      ]
     },
     "execution_count": 37,
     "metadata": {},
     "output_type": "execute_result"
    }
   ],
   "source": [
    "pipe = Pipeline(steps=[('estimator', SVC())])\n",
    "\n",
    "#a dict of estimator and estimator related parameters in this list\n",
    "params_grid = [{\n",
    "                'estimator':[SVC()],\n",
    "                'estimator__kernel': ['linear', 'rbf'],\n",
    "                'estimator__C': [10, 100, 1000],\n",
    "                'estimator__gamma': [1e-3, 1e-4, 1e-5]\n",
    "                },\n",
    "                {\n",
    "                'estimator': [RandomForestClassifier()],\n",
    "                'estimator__n_estimators' : [50,100,150,200],\n",
    "                'estimator__min_samples_leaf': [2,3,4],\n",
    "                'estimator__max_features': [50,200,1000,2000],\n",
    "                'estimator__min_samples_split' : [2,3,4],\n",
    "                'estimator__random_state': [0]\n",
    "                },\n",
    "                {\n",
    "                'estimator':[KNeighborsClassifier()],\n",
    "                'estimator__n_neighbors':[3,4,5],\n",
    "                'estimator__weights': ['uniform', 'distance']\n",
    "                },\n",
    "               {\n",
    "                'estimator': [LogisticRegression()],\n",
    "                'estimator__random_state': [0],\n",
    "                'estimator__penalty': ['elasticnet'],\n",
    "                'estimator__solver': ['saga'],\n",
    "                'estimator__l1_ratio': [0.3,0.4,0.5],\n",
    "                'estimator__C': [1,10,100]\n",
    "               },\n",
    "               {\n",
    "                'estimator': [GaussianNB()]\n",
    "               }\n",
    "\n",
    "              ]\n",
    "\n",
    "clf = GridSearchCV(pipe, params_grid, scoring='accuracy',\n",
    "                   n_jobs=-1,cv=5,\n",
    "                   return_train_score=True)\n",
    "\n",
    "clf.fit(X_spec_train50_scale, y_train50)\n",
    "pd.DataFrame({'parameters': clf.cv_results_[\"params\"],\n",
    "              'validation_score': clf.cv_results_[\"mean_test_score\"],\n",
    "              'train_score': clf.cv_results_[\"mean_train_score\"],\n",
    "              'rank': clf.cv_results_[\"rank_test_score\"]})"
   ]
  },
  {
   "cell_type": "code",
   "execution_count": 38,
   "metadata": {
    "id": "MBCPeP5bCmUQ"
   },
   "outputs": [],
   "source": [
    "df = pd.DataFrame({'parameters': clf.cv_results_[\"params\"],\n",
    "              'validation_score': clf.cv_results_[\"mean_test_score\"],\n",
    "              'train_score': clf.cv_results_[\"mean_train_score\"],\n",
    "              'rank': clf.cv_results_[\"rank_test_score\"]})\n",
    "df_path = os.path.join(phase3_path,'cv_result_phase3_4096.csv')\n",
    "df.to_csv(df_path, index=False)"
   ]
  },
  {
   "cell_type": "code",
   "execution_count": 39,
   "metadata": {
    "colab": {
     "base_uri": "https://localhost:8080/"
    },
    "id": "FThg6zSeFYeP",
    "outputId": "67c5c731-a1ed-4f81-f8fe-5ebb1ba4a55e"
   },
   "outputs": [
    {
     "name": "stdout",
     "output_type": "stream",
     "text": [
      "{'estimator': RandomForestClassifier(max_features=200, min_samples_leaf=4, random_state=0), 'estimator__max_features': 200, 'estimator__min_samples_leaf': 4, 'estimator__min_samples_split': 2, 'estimator__n_estimators': 100, 'estimator__random_state': 0}\n",
      "0.518\n",
      "              precision    recall  f1-score   support\n",
      "\n",
      "           0       0.88      0.58      0.70        50\n",
      "           1       0.54      0.28      0.37        50\n",
      "           2       0.46      0.48      0.47        50\n",
      "           3       0.35      0.34      0.35        50\n",
      "           4       0.54      0.74      0.63        50\n",
      "           5       0.60      0.68      0.64        50\n",
      "           6       0.48      0.50      0.49        50\n",
      "           7       0.40      0.34      0.37        50\n",
      "           8       0.42      0.68      0.52        50\n",
      "           9       0.67      0.56      0.61        50\n",
      "\n",
      "    accuracy                           0.52       500\n",
      "   macro avg       0.54      0.52      0.51       500\n",
      "weighted avg       0.54      0.52      0.51       500\n",
      "\n"
     ]
    }
   ],
   "source": [
    "print(clf.best_params_)\n",
    "y_pred = clf.predict(X_spec_test_scale)\n",
    "print(accuracy_score(y_test,y_pred))\n",
    "print(classification_report(y_test, y_pred))"
   ]
  },
  {
   "cell_type": "code",
   "execution_count": 40,
   "metadata": {
    "colab": {
     "base_uri": "https://localhost:8080/",
     "height": 279
    },
    "id": "SxZrLHhHT7gP",
    "outputId": "ca225511-2f74-42f8-a0e1-65519228614e"
   },
   "outputs": [
    {
     "data": {
      "image/png": "[encoded data removed]",
      "text/plain": [
       "<Figure size 432x288 with 2 Axes>"
      ]
     },
     "metadata": {
      "needs_background": "light"
     },
     "output_type": "display_data"
    }
   ],
   "source": [
    "cm = confusion_matrix(y_test, y_pred, labels=clf.classes_)\n",
    "disp = ConfusionMatrixDisplay(confusion_matrix=cm,\n",
    "                             display_labels=clf.classes_)\n",
    "disp.plot()\n",
    "plt.show()"
   ]
  },
  {
   "cell_type": "markdown",
   "metadata": {
    "id": "-6Q5azlQc36c"
   },
   "source": [
    "## Hyperparameter tuning with PCA"
   ]
  },
  {
   "cell_type": "code",
   "execution_count": 41,
   "metadata": {
    "colab": {
     "base_uri": "https://localhost:8080/"
    },
    "id": "ByeXEP8wUBq2",
    "outputId": "e0f8f0af-cb05-4151-b6c7-fb318719d0d3"
   },
   "outputs": [
    {
     "name": "stdout",
     "output_type": "stream",
     "text": [
      "(50, 50)\n"
     ]
    }
   ],
   "source": [
    "pca = PCA()\n",
    "X_spec_train50_pca = pca.fit_transform(X_spec_train50_scale)\n",
    "X_spec_test_pca = pca.transform(X_spec_test_scale)\n",
    "print(X_spec_train50_pca.shape)"
   ]
  },
  {
   "cell_type": "code",
   "execution_count": 42,
   "metadata": {
    "colab": {
     "base_uri": "https://localhost:8080/",
     "height": 478
    },
    "id": "QedYv76rddGu",
    "outputId": "a22b072d-50b5-46c3-a7cf-c9bb66643afb"
   },
   "outputs": [
    {
     "name": "stderr",
     "output_type": "stream",
     "text": [
      "/usr/local/lib/python3.7/dist-packages/sklearn/linear_model/_sag.py:354: ConvergenceWarning: The max_iter was reached which means the coef_ did not converge\n",
      "  ConvergenceWarning,\n"
     ]
    },
    {
     "data": {
      "text/html": [
       "\n",
       "  <div id=\"df-a3dc3aae-7a4b-4f70-aab6-8d5798dcfbe6\">\n",
       "    <div class=\"colab-df-container\">\n",
       "      <div>\n",
       "<style scoped>\n",
       "    .dataframe tbody tr th:only-of-type {\n",
       "        vertical-align: middle;\n",
       "    }\n",
       "\n",
       "    .dataframe tbody tr th {\n",
       "        vertical-align: top;\n",
       "    }\n",
       "\n",
       "    .dataframe thead th {\n",
       "        text-align: right;\n",
       "    }\n",
       "</style>\n",
       "<table border=\"1\" class=\"dataframe\">\n",
       "  <thead>\n",
       "    <tr style=\"text-align: right;\">\n",
       "      <th></th>\n",
       "      <th>parameters</th>\n",
       "      <th>validation_score</th>\n",
       "      <th>train_score</th>\n",
       "      <th>rank</th>\n",
       "    </tr>\n",
       "  </thead>\n",
       "  <tbody>\n",
       "    <tr>\n",
       "      <th>0</th>\n",
       "      <td>{'estimator': SVC(), 'estimator__C': 10, 'esti...</td>\n",
       "      <td>0.46</td>\n",
       "      <td>1.00</td>\n",
       "      <td>9</td>\n",
       "    </tr>\n",
       "    <tr>\n",
       "      <th>1</th>\n",
       "      <td>{'estimator': SVC(), 'estimator__C': 10, 'esti...</td>\n",
       "      <td>0.44</td>\n",
       "      <td>1.00</td>\n",
       "      <td>24</td>\n",
       "    </tr>\n",
       "    <tr>\n",
       "      <th>2</th>\n",
       "      <td>{'estimator': SVC(), 'estimator__C': 10, 'esti...</td>\n",
       "      <td>0.46</td>\n",
       "      <td>1.00</td>\n",
       "      <td>9</td>\n",
       "    </tr>\n",
       "    <tr>\n",
       "      <th>3</th>\n",
       "      <td>{'estimator': SVC(), 'estimator__C': 10, 'esti...</td>\n",
       "      <td>0.46</td>\n",
       "      <td>0.98</td>\n",
       "      <td>9</td>\n",
       "    </tr>\n",
       "    <tr>\n",
       "      <th>4</th>\n",
       "      <td>{'estimator': SVC(), 'estimator__C': 10, 'esti...</td>\n",
       "      <td>0.46</td>\n",
       "      <td>1.00</td>\n",
       "      <td>9</td>\n",
       "    </tr>\n",
       "    <tr>\n",
       "      <th>...</th>\n",
       "      <td>...</td>\n",
       "      <td>...</td>\n",
       "      <td>...</td>\n",
       "      <td>...</td>\n",
       "    </tr>\n",
       "    <tr>\n",
       "      <th>110</th>\n",
       "      <td>{'estimator': LogisticRegression(C=1, l1_ratio...</td>\n",
       "      <td>0.48</td>\n",
       "      <td>1.00</td>\n",
       "      <td>1</td>\n",
       "    </tr>\n",
       "    <tr>\n",
       "      <th>111</th>\n",
       "      <td>{'estimator': LogisticRegression(C=1, l1_ratio...</td>\n",
       "      <td>0.48</td>\n",
       "      <td>1.00</td>\n",
       "      <td>1</td>\n",
       "    </tr>\n",
       "    <tr>\n",
       "      <th>112</th>\n",
       "      <td>{'estimator': LogisticRegression(C=1, l1_ratio...</td>\n",
       "      <td>0.48</td>\n",
       "      <td>1.00</td>\n",
       "      <td>1</td>\n",
       "    </tr>\n",
       "    <tr>\n",
       "      <th>113</th>\n",
       "      <td>{'estimator': LogisticRegression(C=1, l1_ratio...</td>\n",
       "      <td>0.48</td>\n",
       "      <td>1.00</td>\n",
       "      <td>1</td>\n",
       "    </tr>\n",
       "    <tr>\n",
       "      <th>114</th>\n",
       "      <td>{'estimator': GaussianNB()}</td>\n",
       "      <td>0.22</td>\n",
       "      <td>1.00</td>\n",
       "      <td>109</td>\n",
       "    </tr>\n",
       "  </tbody>\n",
       "</table>\n",
       "<p>115 rows × 4 columns</p>\n",
       "</div>\n",
       "      <button class=\"colab-df-convert\" onclick=\"convertToInteractive('df-a3dc3aae-7a4b-4f70-aab6-8d5798dcfbe6')\"\n",
       "              title=\"Convert this dataframe to an interactive table.\"\n",
       "              style=\"display:none;\">\n",
       "        \n",
       "  <svg xmlns=\"http://www.w3.org/2000/svg\" height=\"24px\"viewBox=\"0 0 24 24\"\n",
       "       width=\"24px\">\n",
       "    <path d=\"M0 0h24v24H0V0z\" fill=\"none\"/>\n",
       "    <path d=\"M18.56 5.44l.94 2.06.94-2.06 2.06-.94-2.06-.94-.94-2.06-.94 2.06-2.06.94zm-11 1L8.5 8.5l.94-2.06 2.06-.94-2.06-.94L8.5 2.5l-.94 2.06-2.06.94zm10 10l.94 2.06.94-2.06 2.06-.94-2.06-.94-.94-2.06-.94 2.06-2.06.94z\"/><path d=\"M17.41 7.96l-1.37-1.37c-.4-.4-.92-.59-1.43-.59-.52 0-1.04.2-1.43.59L10.3 9.45l-7.72 7.72c-.78.78-.78 2.05 0 2.83L4 21.41c.39.39.9.59 1.41.59.51 0 1.02-.2 1.41-.59l7.78-7.78 2.81-2.81c.8-.78.8-2.07 0-2.86zM5.41 20L4 18.59l7.72-7.72 1.47 1.35L5.41 20z\"/>\n",
       "  </svg>\n",
       "      </button>\n",
       "      \n",
       "  <style>\n",
       "    .colab-df-container {\n",
       "      display:flex;\n",
       "      flex-wrap:wrap;\n",
       "      gap: 12px;\n",
       "    }\n",
       "\n",
       "    .colab-df-convert {\n",
       "      background-color: #E8F0FE;\n",
       "      border: none;\n",
       "      border-radius: 50%;\n",
       "      cursor: pointer;\n",
       "      display: none;\n",
       "      fill: #1967D2;\n",
       "      height: 32px;\n",
       "      padding: 0 0 0 0;\n",
       "      width: 32px;\n",
       "    }\n",
       "\n",
       "    .colab-df-convert:hover {\n",
       "      background-color: #E2EBFA;\n",
       "      box-shadow: 0px 1px 2px rgba(60, 64, 67, 0.3), 0px 1px 3px 1px rgba(60, 64, 67, 0.15);\n",
       "      fill: #174EA6;\n",
       "    }\n",
       "\n",
       "    [theme=dark] .colab-df-convert {\n",
       "      background-color: #3B4455;\n",
       "      fill: #D2E3FC;\n",
       "    }\n",
       "\n",
       "    [theme=dark] .colab-df-convert:hover {\n",
       "      background-color: #434B5C;\n",
       "      box-shadow: 0px 1px 3px 1px rgba(0, 0, 0, 0.15);\n",
       "      filter: drop-shadow(0px 1px 2px rgba(0, 0, 0, 0.3));\n",
       "      fill: #FFFFFF;\n",
       "    }\n",
       "  </style>\n",
       "\n",
       "      <script>\n",
       "        const buttonEl =\n",
       "          document.querySelector('#df-a3dc3aae-7a4b-4f70-aab6-8d5798dcfbe6 button.colab-df-convert');\n",
       "        buttonEl.style.display =\n",
       "          google.colab.kernel.accessAllowed ? 'block' : 'none';\n",
       "\n",
       "        async function convertToInteractive(key) {\n",
       "          const element = document.querySelector('#df-a3dc3aae-7a4b-4f70-aab6-8d5798dcfbe6');\n",
       "          const dataTable =\n",
       "            await google.colab.kernel.invokeFunction('convertToInteractive',\n",
       "                                                     [key], {});\n",
       "          if (!dataTable) return;\n",
       "\n",
       "          const docLinkHtml = 'Like what you see? Visit the ' +\n",
       "            '<a target=\"_blank\" href=https://colab.research.google.com/notebooks/data_table.ipynb>data table notebook</a>'\n",
       "            + ' to learn more about interactive tables.';\n",
       "          element.innerHTML = '';\n",
       "          dataTable['output_type'] = 'display_data';\n",
       "          await google.colab.output.renderOutput(dataTable, element);\n",
       "          const docLink = document.createElement('div');\n",
       "          docLink.innerHTML = docLinkHtml;\n",
       "          element.appendChild(docLink);\n",
       "        }\n",
       "      </script>\n",
       "    </div>\n",
       "  </div>\n",
       "  "
      ],
      "text/plain": [
       "                                            parameters  validation_score  \\\n",
       "0    {'estimator': SVC(), 'estimator__C': 10, 'esti...              0.46   \n",
       "1    {'estimator': SVC(), 'estimator__C': 10, 'esti...              0.44   \n",
       "2    {'estimator': SVC(), 'estimator__C': 10, 'esti...              0.46   \n",
       "3    {'estimator': SVC(), 'estimator__C': 10, 'esti...              0.46   \n",
       "4    {'estimator': SVC(), 'estimator__C': 10, 'esti...              0.46   \n",
       "..                                                 ...               ...   \n",
       "110  {'estimator': LogisticRegression(C=1, l1_ratio...              0.48   \n",
       "111  {'estimator': LogisticRegression(C=1, l1_ratio...              0.48   \n",
       "112  {'estimator': LogisticRegression(C=1, l1_ratio...              0.48   \n",
       "113  {'estimator': LogisticRegression(C=1, l1_ratio...              0.48   \n",
       "114                        {'estimator': GaussianNB()}              0.22   \n",
       "\n",
       "     train_score  rank  \n",
       "0           1.00     9  \n",
       "1           1.00    24  \n",
       "2           1.00     9  \n",
       "3           0.98     9  \n",
       "4           1.00     9  \n",
       "..           ...   ...  \n",
       "110         1.00     1  \n",
       "111         1.00     1  \n",
       "112         1.00     1  \n",
       "113         1.00     1  \n",
       "114         1.00   109  \n",
       "\n",
       "[115 rows x 4 columns]"
      ]
     },
     "execution_count": 42,
     "metadata": {},
     "output_type": "execute_result"
    }
   ],
   "source": [
    "pipe2 = Pipeline(steps=[('estimator', SVC())])\n",
    "\n",
    "# Add a dict of estimator and estimator related parameters in this list\n",
    "params_grid2 = [{\n",
    "                'estimator':[SVC()],\n",
    "                'estimator__kernel': ['linear', 'rbf'],\n",
    "                'estimator__C': [10, 100, 1000],\n",
    "                'estimator__gamma': [1e-3, 1e-4, 1e-5]\n",
    "                },\n",
    "                {\n",
    "                'estimator': [RandomForestClassifier()],\n",
    "                'estimator__n_estimators' : [50,100,150],\n",
    "                'estimator__min_samples_leaf': [2,3,4],\n",
    "                'estimator__max_features': [10,20,30],\n",
    "                'estimator__min_samples_split' : [2,3,4],\n",
    "                'estimator__random_state': [0]\n",
    "                },\n",
    "                {\n",
    "                'estimator':[KNeighborsClassifier()],\n",
    "                'estimator__n_neighbors':[3,4,5],\n",
    "                'estimator__weights': ['uniform', 'distance']\n",
    "                },\n",
    "               {\n",
    "                'estimator': [LogisticRegression()],\n",
    "                'estimator__random_state': [0],\n",
    "                'estimator__penalty': ['elasticnet'],\n",
    "                'estimator__solver': ['saga'],\n",
    "                'estimator__l1_ratio': [0,0.2,0.4],\n",
    "                'estimator__C': [1,10,100]\n",
    "               },\n",
    "               {\n",
    "                'estimator': [GaussianNB()]\n",
    "               }\n",
    "\n",
    "              ]\n",
    "\n",
    "clf2 = GridSearchCV(pipe2, params_grid2, scoring='accuracy',\n",
    "                   n_jobs=-1,cv=5,\n",
    "                   return_train_score=True)\n",
    "\n",
    "clf2.fit(X_spec_train50_pca, y_train50)\n",
    "pd.DataFrame({'parameters': clf2.cv_results_[\"params\"],\n",
    "              'validation_score': clf2.cv_results_[\"mean_test_score\"],\n",
    "              'train_score': clf2.cv_results_[\"mean_train_score\"],\n",
    "              'rank': clf2.cv_results_[\"rank_test_score\"]})"
   ]
  },
  {
   "cell_type": "markdown",
   "metadata": {
    "id": "TJrpJAX2tPrL"
   },
   "source": [
    "# ب,پ,ث)"
   ]
  },
  {
   "cell_type": "markdown",
   "metadata": {
    "id": "9C8_zuuxfM6q"
   },
   "source": [
    "## با توجه به اینکه این 3 قسمت به هم مرتبط بودند، با هم انجام و بررسی شدند."
   ]
  },
  {
   "cell_type": "code",
   "execution_count": 47,
   "metadata": {
    "id": "zm1a7DvC4wpC"
   },
   "outputs": [],
   "source": [
    "scalar = StandardScaler()\n",
    "X_spec_train_scale = scalar.fit_transform(X_spec_train)\n",
    "X_spec_test_scale = scalar.transform(X_spec_test)"
   ]
  },
  {
   "cell_type": "markdown",
   "metadata": {
    "id": "UOQZHeGxKm53"
   },
   "source": [
    "## Without PCA"
   ]
  },
  {
   "cell_type": "markdown",
   "metadata": {
    "id": "W8Z0Ax4kfZw8"
   },
   "source": [
    "# ب)"
   ]
  },
  {
   "cell_type": "code",
   "execution_count": 74,
   "metadata": {
    "id": "weBVhKiCoA4y"
   },
   "outputs": [],
   "source": [
    "\n",
    "km = KMeans(n_clusters=50,max_iter=300,n_init=1000,random_state=0).fit(X_spec_train_scale)"
   ]
  },
  {
   "cell_type": "code",
   "execution_count": 75,
   "metadata": {
    "colab": {
     "base_uri": "https://localhost:8080/"
    },
    "id": "tggBhnUN7KKj",
    "outputId": "ab9efcab-0193-4290-957c-3b87b4a88659"
   },
   "outputs": [
    {
     "name": "stdout",
     "output_type": "stream",
     "text": [
      "(2000, 50)\n"
     ]
    }
   ],
   "source": [
    "#distance of each sample to cluster centers\n",
    "dist = km.transform(X_spec_train_scale)\n",
    "print(dist.shape)"
   ]
  },
  {
   "cell_type": "code",
   "execution_count": 76,
   "metadata": {
    "id": "Pl2mBMNd8rav"
   },
   "outputs": [],
   "source": [
    "#cluster label for each sample\n",
    "labels = km.predict(X_spec_train_scale)"
   ]
  },
  {
   "cell_type": "code",
   "execution_count": 92,
   "metadata": {
    "colab": {
     "base_uri": "https://localhost:8080/"
    },
    "id": "-QAxzRyfZX2u",
    "outputId": "f392eae9-b580-4244-d51b-a32f8febe69f"
   },
   "outputs": [
    {
     "data": {
      "text/plain": [
       "array([138.,  70.,  65.,   1., 123., 101.,  23.,   3.,   1.,  34.,   1.,\n",
       "         1.,  28.,   9.,   1.,   1.,   1.,  16.,   1., 132.,  10.,  57.,\n",
       "        86.,   4.,  87.,  71.,   1.,   4.,  56.,  78.,  65.,   1., 123.,\n",
       "       127.,  27.,   1.,   4.,  19.,   1., 114., 106.,  40.,  18.,   5.,\n",
       "         1.,  60.,  70.,   4.,   6.,   4.])"
      ]
     },
     "execution_count": 92,
     "metadata": {},
     "output_type": "execute_result"
    }
   ],
   "source": [
    "#count of samples in each cluster\n",
    "cluster_count = np.zeros(50)\n",
    "for i in range(2000):\n",
    "  cluster_count[labels[i]] +=1\n",
    "cluster_count"
   ]
  },
  {
   "cell_type": "code",
   "execution_count": 153,
   "metadata": {
    "colab": {
     "base_uri": "https://localhost:8080/"
    },
    "id": "LUvFOMMB5GKI",
    "outputId": "bbeec359-1804-42b2-efdc-349559b3c536"
   },
   "outputs": [
    {
     "name": "stdout",
     "output_type": "stream",
     "text": [
      "cluster label: 0 index:  1480 real label: 7\n",
      "cluster label: 1 index:  1897 real label: 9\n",
      "cluster label: 2 index:  28 real label: 0\n",
      "cluster label: 3 index:  30 real label: 0\n",
      "cluster label: 4 index:  1125 real label: 5\n",
      "cluster label: 5 index:  1669 real label: 8\n",
      "cluster label: 6 index:  59 real label: 0\n",
      "cluster label: 7 index:  1171 real label: 5\n",
      "cluster label: 8 index:  517 real label: 2\n",
      "cluster label: 9 index:  943 real label: 4\n",
      "cluster label: 10 index:  1973 real label: 9\n",
      "cluster label: 11 index:  1922 real label: 9\n",
      "cluster label: 12 index:  126 real label: 0\n",
      "cluster label: 13 index:  65 real label: 0\n",
      "cluster label: 14 index:  1983 real label: 9\n",
      "cluster label: 15 index:  841 real label: 4\n",
      "cluster label: 16 index:  1869 real label: 9\n",
      "cluster label: 17 index:  1048 real label: 5\n",
      "cluster label: 18 index:  451 real label: 2\n",
      "cluster label: 19 index:  1451 real label: 7\n",
      "cluster label: 20 index:  862 real label: 4\n",
      "cluster label: 21 index:  146 real label: 0\n",
      "cluster label: 22 index:  1304 real label: 6\n",
      "cluster label: 23 index:  1972 real label: 9\n",
      "cluster label: 24 index:  1173 real label: 5\n",
      "cluster label: 25 index:  338 real label: 1\n",
      "cluster label: 26 index:  1903 real label: 9\n",
      "cluster label: 27 index:  188 real label: 0\n",
      "cluster label: 28 index:  192 real label: 0\n",
      "cluster label: 29 index:  1144 real label: 5\n",
      "cluster label: 30 index:  1743 real label: 8\n",
      "cluster label: 31 index:  22 real label: 0\n",
      "cluster label: 32 index:  1384 real label: 6\n",
      "cluster label: 33 index:  1313 real label: 6\n",
      "cluster label: 34 index:  587 real label: 2\n",
      "cluster label: 35 index:  77 real label: 0\n",
      "cluster label: 36 index:  1823 real label: 9\n",
      "cluster label: 37 index:  687 real label: 3\n",
      "cluster label: 38 index:  1843 real label: 9\n",
      "cluster label: 39 index:  334 real label: 1\n",
      "cluster label: 40 index:  538 real label: 2\n",
      "cluster label: 41 index:  1990 real label: 9\n",
      "cluster label: 42 index:  937 real label: 4\n",
      "cluster label: 43 index:  157 real label: 0\n",
      "cluster label: 44 index:  461 real label: 2\n",
      "cluster label: 45 index:  803 real label: 4\n",
      "cluster label: 46 index:  1363 real label: 6\n",
      "cluster label: 47 index:  1689 real label: 8\n",
      "cluster label: 48 index:  96 real label: 0\n",
      "cluster label: 49 index:  111 real label: 0\n"
     ]
    }
   ],
   "source": [
    "X_spec_tain50_KM = np.zeros([50,4096])\n",
    "y_train50_KM = np.zeros(50,dtype=int)\n",
    "label_train50 = np.zeros(50,dtype=int)\n",
    "for i in range(50):\n",
    "  d = dist[:, i] #distance of all samples to cluster 0 center\n",
    "  index = np.argsort(d)[::][0] #least distance : nearest sample to cluster\n",
    "  X_spec_tain50_KM[i] = X_spec_train[index]\n",
    "  #0: 0-199, 1: 200:399, 2: 400:599 ...\n",
    "  y_train50_KM[i] = index//200\n",
    "  label_train50[i] = labels[index]\n",
    "\n",
    "  print('cluster label:',label_train50[i],\n",
    "        'index: ',index,\n",
    "        'real label:',y_train50_KM[i])\n"
   ]
  },
  {
   "cell_type": "code",
   "execution_count": 154,
   "metadata": {
    "id": "qchVJbVP0m0N"
   },
   "outputs": [],
   "source": [
    "np.save(os.path.join(phase3_path,'phase3_Xtrain50_spec_KM.npy'),X_spec_tain50_KM)\n",
    "np.save(os.path.join(phase3_path,'phase3_ytrain50_KM.npy'),y_train50_KM)"
   ]
  },
  {
   "cell_type": "code",
   "execution_count": 147,
   "metadata": {
    "colab": {
     "base_uri": "https://localhost:8080/"
    },
    "id": "LQlz9i5n6ezq",
    "outputId": "d25a0f0c-6d66-47b6-beb6-bc7891462472"
   },
   "outputs": [
    {
     "data": {
      "text/plain": [
       "array([13.,  2.,  5.,  1.,  5.,  5.,  4.,  2.,  3., 10.])"
      ]
     },
     "execution_count": 147,
     "metadata": {},
     "output_type": "execute_result"
    }
   ],
   "source": [
    "#count of each class samples in the 50 samples taken from clustering\n",
    "count_train50 = np.zeros(10)\n",
    "for i in range(50):\n",
    "  count_train50[y_train50_KM[i]] +=1\n",
    "count_train50"
   ]
  },
  {
   "cell_type": "markdown",
   "metadata": {
    "id": "Ul_3Q-AzlDqF"
   },
   "source": [
    "# ث)"
   ]
  },
  {
   "cell_type": "code",
   "execution_count": 152,
   "metadata": {
    "colab": {
     "base_uri": "https://localhost:8080/"
    },
    "id": "CJF0u6IoRaE2",
    "outputId": "aa101048-f320-4ba0-f24a-e16e8efe69db"
   },
   "outputs": [
    {
     "name": "stdout",
     "output_type": "stream",
     "text": [
      "accuracy of labeling: 0.41900000000000004\n",
      "accuracy of labeling in each class:\n",
      "[0.82  0.425 0.405 0.06  0.365 0.45  0.655 0.3   0.435 0.275]\n"
     ]
    }
   ],
   "source": [
    "#labels given according to KMeans\n",
    "y_train_KM = np.zeros(2000,dtype=int)\n",
    "err = 0\n",
    "class_err = np.zeros(10)\n",
    "for i in range(50):\n",
    "  #indices of all cluster i samples\n",
    "  idx = np.where(km.labels_ == i)[0] \n",
    "  for j in range(idx.shape[0]) :\n",
    "    if idx[j]//200 != y_train50_KM[i] : #predicted label is no correct\n",
    "      err +=1\n",
    "      class_err[idx[j]//200] +=1\n",
    "  #set the labels according the label of the representative sample\n",
    "  y_train_KM[idx] = y_train50_KM[i] \n",
    "\n",
    "print('accuracy of labeling:', 1-(err/2000))\n",
    "print('accuracy of labeling in each class:')\n",
    "print(1-class_err/200)"
   ]
  },
  {
   "cell_type": "code",
   "execution_count": 80,
   "metadata": {
    "colab": {
     "base_uri": "https://localhost:8080/"
    },
    "id": "4DYeVYlaR48o",
    "outputId": "9cbf30a5-fe67-4d4d-9e26-9c6b04d3acb0"
   },
   "outputs": [
    {
     "data": {
      "text/plain": [
       "array([260., 185., 136.,  19., 123., 307., 406., 270., 170., 124.])"
      ]
     },
     "execution_count": 80,
     "metadata": {},
     "output_type": "execute_result"
    }
   ],
   "source": [
    "#count of each class samples after labeling with KMeans\n",
    "count_train = np.zeros(10)\n",
    "for i in range(2000):\n",
    "  count_train[int(y_train_KM[i])] +=1\n",
    "count_train"
   ]
  },
  {
   "cell_type": "markdown",
   "metadata": {
    "id": "TgBGtdPaKfcR"
   },
   "source": [
    "## With PCA"
   ]
  },
  {
   "cell_type": "markdown",
   "metadata": {
    "id": "I8eLm3ayzu9I"
   },
   "source": [
    "# ب)"
   ]
  },
  {
   "cell_type": "code",
   "execution_count": 138,
   "metadata": {
    "id": "P7qxK6-o7AFd"
   },
   "outputs": [],
   "source": [
    "pca = PCA(n_components=200)\n",
    "X_spec_train_pca = pca.fit_transform(X_spec_train_scale)"
   ]
  },
  {
   "cell_type": "code",
   "execution_count": 139,
   "metadata": {
    "colab": {
     "base_uri": "https://localhost:8080/"
    },
    "id": "e_Cim_PTJQW-",
    "outputId": "5bec0730-8422-4d91-bffa-2b854af70561"
   },
   "outputs": [
    {
     "name": "stdout",
     "output_type": "stream",
     "text": [
      "(2000, 50)\n"
     ]
    }
   ],
   "source": [
    "km2 = KMeans(n_clusters=50,max_iter=500,n_init=1000,random_state=0).fit(X_spec_train_pca)\n",
    "dist2 = km2.transform(X_spec_train_pca)\n",
    "print(dist2.shape)"
   ]
  },
  {
   "cell_type": "code",
   "execution_count": 140,
   "metadata": {
    "id": "SeSIwjxKJiH1"
   },
   "outputs": [],
   "source": [
    "labels2 = km2.predict(X_spec_train_pca)"
   ]
  },
  {
   "cell_type": "code",
   "execution_count": 141,
   "metadata": {
    "colab": {
     "base_uri": "https://localhost:8080/"
    },
    "id": "SkWb67GknD4K",
    "outputId": "35ad4889-7a3d-4b1b-9b2a-27b425a6ccb7"
   },
   "outputs": [
    {
     "data": {
      "text/plain": [
       "array([ 91.,  31.,   1.,   1.,   1.,  10.,  75.,  94.,  69.,   1.,  26.,\n",
       "       130.,   3., 120.,   1.,   1.,  11.,  24.,   1.,  48., 126.,  27.,\n",
       "        95.,   1.,   1., 110., 100.,   1.,   2.,   3.,  43.,  29.,   1.,\n",
       "       117.,   1.,  23.,   4.,  54.,   1.,  74., 162.,   4.,   1.,  16.,\n",
       "         3., 107.,   3.,   8.,  10., 134.])"
      ]
     },
     "execution_count": 141,
     "metadata": {},
     "output_type": "execute_result"
    }
   ],
   "source": [
    "#count of samples in each cluster\n",
    "cluster_count = np.zeros(50)\n",
    "for i in range(2000):\n",
    "  cluster_count[labels2[i]] +=1\n",
    "cluster_count"
   ]
  },
  {
   "cell_type": "markdown",
   "metadata": {
    "id": "0SDK91GSzyJL"
   },
   "source": [
    "# پ)"
   ]
  },
  {
   "cell_type": "code",
   "execution_count": 142,
   "metadata": {
    "colab": {
     "base_uri": "https://localhost:8080/"
    },
    "id": "kEoRpgGqNTGh",
    "outputId": "cff55189-bfb9-43d7-a3ca-ee1304160e5b"
   },
   "outputs": [
    {
     "name": "stdout",
     "output_type": "stream",
     "text": [
      "cluster label: 0  index:  1409  real label: 7.0\n",
      "cluster label: 1  index:  943  real label: 4.0\n",
      "cluster label: 2  index:  1973  real label: 9.0\n",
      "cluster label: 3  index:  30  real label: 0.0\n",
      "cluster label: 4  index:  517  real label: 2.0\n",
      "cluster label: 5  index:  922  real label: 4.0\n",
      "cluster label: 6  index:  79  real label: 0.0\n",
      "cluster label: 7  index:  1125  real label: 5.0\n",
      "cluster label: 8  index:  263  real label: 1.0\n",
      "cluster label: 9  index:  841  real label: 4.0\n",
      "cluster label: 10  index:  38  real label: 0.0\n",
      "cluster label: 11  index:  1564  real label: 7.0\n",
      "cluster label: 12  index:  1171  real label: 5.0\n",
      "cluster label: 13  index:  1311  real label: 6.0\n",
      "cluster label: 14  index:  451  real label: 2.0\n",
      "cluster label: 15  index:  77  real label: 0.0\n",
      "cluster label: 16  index:  172  real label: 0.0\n",
      "cluster label: 17  index:  1989  real label: 9.0\n",
      "cluster label: 18  index:  22  real label: 0.0\n",
      "cluster label: 19  index:  360  real label: 1.0\n",
      "cluster label: 20  index:  1604  real label: 8.0\n",
      "cluster label: 21  index:  409  real label: 2.0\n",
      "cluster label: 22  index:  1878  real label: 9.0\n",
      "cluster label: 23  index:  1869  real label: 9.0\n",
      "cluster label: 24  index:  1922  real label: 9.0\n",
      "cluster label: 25  index:  383  real label: 1.0\n",
      "cluster label: 26  index:  762  real label: 3.0\n",
      "cluster label: 27  index:  1843  real label: 9.0\n",
      "cluster label: 28  index:  1972  real label: 9.0\n",
      "cluster label: 29  index:  42  real label: 0.0\n",
      "cluster label: 30  index:  146  real label: 0.0\n",
      "cluster label: 31  index:  1815  real label: 9.0\n",
      "cluster label: 32  index:  1983  real label: 9.0\n",
      "cluster label: 33  index:  1753  real label: 8.0\n",
      "cluster label: 34  index:  1903  real label: 9.0\n",
      "cluster label: 35  index:  1438  real label: 7.0\n",
      "cluster label: 36  index:  1852  real label: 9.0\n",
      "cluster label: 37  index:  1085  real label: 5.0\n",
      "cluster label: 38  index:  461  real label: 2.0\n",
      "cluster label: 39  index:  60  real label: 0.0\n",
      "cluster label: 40  index:  1571  real label: 7.0\n",
      "cluster label: 41  index:  1823  real label: 9.0\n",
      "cluster label: 42  index:  1880  real label: 9.0\n",
      "cluster label: 43  index:  1905  real label: 9.0\n",
      "cluster label: 44  index:  1653  real label: 8.0\n",
      "cluster label: 45  index:  320  real label: 1.0\n",
      "cluster label: 46  index:  111  real label: 0.0\n",
      "cluster label: 47  index:  941  real label: 4.0\n",
      "cluster label: 48  index:  523  real label: 2.0\n",
      "cluster label: 49  index:  1557  real label: 7.0\n"
     ]
    }
   ],
   "source": [
    "X_spec_tain50_KM = np.zeros([50,4096])\n",
    "y_train50_KM = np.zeros(50)\n",
    "label_train50 = np.zeros(50,dtype=int)\n",
    "for i in range(50):\n",
    "  d = dist2[:, i] #distance of all samples to cluster 0 center\n",
    "  index = np.argsort(d)[::][0] #least distance : nearest sample to cluster\n",
    "  X_spec_tain50_KM[i] = X_spec_train[index]\n",
    "  y_train50_KM[i] = index//200\n",
    "  label_train50[i] = labels2[index]\n",
    "\n",
    "  print('cluster label:',label_train50[i],' index: ',index,' real label:',y_train50_KM[i])"
   ]
  },
  {
   "cell_type": "code",
   "execution_count": 143,
   "metadata": {
    "colab": {
     "base_uri": "https://localhost:8080/"
    },
    "id": "8Q-TjLqxNqTo",
    "outputId": "4640bd70-0f5d-42c6-d18b-4ecd305cbeeb"
   },
   "outputs": [
    {
     "data": {
      "text/plain": [
       "array([10.,  4.,  5.,  1.,  4.,  3.,  1.,  5.,  3., 14.])"
      ]
     },
     "execution_count": 143,
     "metadata": {},
     "output_type": "execute_result"
    }
   ],
   "source": [
    "count = np.zeros(10)\n",
    "for i in range(50):\n",
    "  count[int(y_train50_KM[i])] +=1\n",
    "count"
   ]
  },
  {
   "cell_type": "markdown",
   "metadata": {
    "id": "9j2cnYda0BA_"
   },
   "source": [
    "# ث)"
   ]
  },
  {
   "cell_type": "code",
   "execution_count": 144,
   "metadata": {
    "colab": {
     "base_uri": "https://localhost:8080/"
    },
    "id": "XxPGnjJ6N7Df",
    "outputId": "ee29513f-8b40-487d-b070-8b7ac7d36d55"
   },
   "outputs": [
    {
     "name": "stdout",
     "output_type": "stream",
     "text": [
      "accuracy of labeling: 0.372\n"
     ]
    }
   ],
   "source": [
    "#labels given according to KMeans\n",
    "y_train_KM = np.zeros(2000)\n",
    "err = 0\n",
    "for i in range(50):\n",
    "  #indices of all cluster i samples\n",
    "  idx = np.where(km2.labels_ == i)[0] \n",
    "  for j in range(idx.shape[0]) :\n",
    "    if idx[j]//200 != int(y_train50_KM[i]) : #predicted label is no correct\n",
    "      err +=1\n",
    "  #set the labels according the label of the representative sample\n",
    "  y_train_KM[idx] = y_train50_KM[i] \n",
    "\n",
    "print('accuracy of labeling:', 1-(err/2000))"
   ]
  },
  {
   "cell_type": "code",
   "execution_count": 145,
   "metadata": {
    "colab": {
     "base_uri": "https://localhost:8080/"
    },
    "id": "qWJRri7SXNKT",
    "outputId": "630ebde3-ebfd-4fe6-9166-0950ba9ac2b0"
   },
   "outputs": [
    {
     "data": {
      "text/plain": [
       "array([238., 334.,  40., 100.,  50., 151., 120., 540., 246., 181.])"
      ]
     },
     "execution_count": 145,
     "metadata": {},
     "output_type": "execute_result"
    }
   ],
   "source": [
    "#count of each class samples after labeling with KMeans\n",
    "count_train = np.zeros(10)\n",
    "for i in range(2000):\n",
    "  count_train[int(y_train_KM[i])] +=1\n",
    "count_train"
   ]
  },
  {
   "cell_type": "markdown",
   "metadata": {
    "id": "KcYb1yCP1I8H"
   },
   "source": [
    "# ج)"
   ]
  },
  {
   "cell_type": "code",
   "execution_count": null,
   "metadata": {
    "id": "He5UvEKkXVqN"
   },
   "outputs": [],
   "source": [
    "param_grid = {\n",
    "    'C': [1, 10, 100, 500, 1000],\n",
    "    'gamma': [1e-1, 1e-2, 1e-3, 1e-4, 1e-5]\n",
    "}\n",
    "\n",
    "clf = GridSearchCV(estimator=SVC(), param_grid=param_grid,cv = 5, \n",
    "                    scoring='accuracy', n_jobs = -1,return_train_score=True)\n",
    "clf.fit(X_spec_train_scale, y_train_KM)\n"
   ]
  },
  {
   "cell_type": "code",
   "execution_count": 157,
   "metadata": {
    "colab": {
     "base_uri": "https://localhost:8080/",
     "height": 833
    },
    "id": "WGZ4rqTi__wF",
    "outputId": "3e5dbf24-68aa-4ff9-dd62-025c79a9f4b9"
   },
   "outputs": [
    {
     "data": {
      "text/html": [
       "\n",
       "  <div id=\"df-20c1bd5f-c2b3-4d88-9338-736341f77a16\">\n",
       "    <div class=\"colab-df-container\">\n",
       "      <div>\n",
       "<style scoped>\n",
       "    .dataframe tbody tr th:only-of-type {\n",
       "        vertical-align: middle;\n",
       "    }\n",
       "\n",
       "    .dataframe tbody tr th {\n",
       "        vertical-align: top;\n",
       "    }\n",
       "\n",
       "    .dataframe thead th {\n",
       "        text-align: right;\n",
       "    }\n",
       "</style>\n",
       "<table border=\"1\" class=\"dataframe\">\n",
       "  <thead>\n",
       "    <tr style=\"text-align: right;\">\n",
       "      <th></th>\n",
       "      <th>parameters</th>\n",
       "      <th>validation_score</th>\n",
       "      <th>train_score</th>\n",
       "      <th>rank</th>\n",
       "    </tr>\n",
       "  </thead>\n",
       "  <tbody>\n",
       "    <tr>\n",
       "      <th>0</th>\n",
       "      <td>{'C': 1, 'gamma': 0.1}</td>\n",
       "      <td>0.2030</td>\n",
       "      <td>1.000000</td>\n",
       "      <td>21</td>\n",
       "    </tr>\n",
       "    <tr>\n",
       "      <th>1</th>\n",
       "      <td>{'C': 1, 'gamma': 0.01}</td>\n",
       "      <td>0.2410</td>\n",
       "      <td>1.000000</td>\n",
       "      <td>20</td>\n",
       "    </tr>\n",
       "    <tr>\n",
       "      <th>2</th>\n",
       "      <td>{'C': 1, 'gamma': 0.001}</td>\n",
       "      <td>0.8360</td>\n",
       "      <td>0.993750</td>\n",
       "      <td>11</td>\n",
       "    </tr>\n",
       "    <tr>\n",
       "      <th>3</th>\n",
       "      <td>{'C': 1, 'gamma': 0.0001}</td>\n",
       "      <td>0.8255</td>\n",
       "      <td>0.929375</td>\n",
       "      <td>13</td>\n",
       "    </tr>\n",
       "    <tr>\n",
       "      <th>4</th>\n",
       "      <td>{'C': 1, 'gamma': 1e-05}</td>\n",
       "      <td>0.6935</td>\n",
       "      <td>0.750500</td>\n",
       "      <td>15</td>\n",
       "    </tr>\n",
       "    <tr>\n",
       "      <th>5</th>\n",
       "      <td>{'C': 10, 'gamma': 0.1}</td>\n",
       "      <td>0.2030</td>\n",
       "      <td>1.000000</td>\n",
       "      <td>21</td>\n",
       "    </tr>\n",
       "    <tr>\n",
       "      <th>6</th>\n",
       "      <td>{'C': 10, 'gamma': 0.01}</td>\n",
       "      <td>0.2510</td>\n",
       "      <td>1.000000</td>\n",
       "      <td>16</td>\n",
       "    </tr>\n",
       "    <tr>\n",
       "      <th>7</th>\n",
       "      <td>{'C': 10, 'gamma': 0.001}</td>\n",
       "      <td>0.8490</td>\n",
       "      <td>1.000000</td>\n",
       "      <td>5</td>\n",
       "    </tr>\n",
       "    <tr>\n",
       "      <th>8</th>\n",
       "      <td>{'C': 10, 'gamma': 0.0001}</td>\n",
       "      <td>0.8550</td>\n",
       "      <td>0.983000</td>\n",
       "      <td>4</td>\n",
       "    </tr>\n",
       "    <tr>\n",
       "      <th>9</th>\n",
       "      <td>{'C': 10, 'gamma': 1e-05}</td>\n",
       "      <td>0.8235</td>\n",
       "      <td>0.917875</td>\n",
       "      <td>14</td>\n",
       "    </tr>\n",
       "    <tr>\n",
       "      <th>10</th>\n",
       "      <td>{'C': 100, 'gamma': 0.1}</td>\n",
       "      <td>0.2030</td>\n",
       "      <td>1.000000</td>\n",
       "      <td>21</td>\n",
       "    </tr>\n",
       "    <tr>\n",
       "      <th>11</th>\n",
       "      <td>{'C': 100, 'gamma': 0.01}</td>\n",
       "      <td>0.2510</td>\n",
       "      <td>1.000000</td>\n",
       "      <td>16</td>\n",
       "    </tr>\n",
       "    <tr>\n",
       "      <th>12</th>\n",
       "      <td>{'C': 100, 'gamma': 0.001}</td>\n",
       "      <td>0.8490</td>\n",
       "      <td>1.000000</td>\n",
       "      <td>5</td>\n",
       "    </tr>\n",
       "    <tr>\n",
       "      <th>13</th>\n",
       "      <td>{'C': 100, 'gamma': 0.0001}</td>\n",
       "      <td>0.8715</td>\n",
       "      <td>1.000000</td>\n",
       "      <td>3</td>\n",
       "    </tr>\n",
       "    <tr>\n",
       "      <th>14</th>\n",
       "      <td>{'C': 100, 'gamma': 1e-05}</td>\n",
       "      <td>0.8380</td>\n",
       "      <td>0.974375</td>\n",
       "      <td>10</td>\n",
       "    </tr>\n",
       "    <tr>\n",
       "      <th>15</th>\n",
       "      <td>{'C': 500, 'gamma': 0.1}</td>\n",
       "      <td>0.2030</td>\n",
       "      <td>1.000000</td>\n",
       "      <td>21</td>\n",
       "    </tr>\n",
       "    <tr>\n",
       "      <th>16</th>\n",
       "      <td>{'C': 500, 'gamma': 0.01}</td>\n",
       "      <td>0.2510</td>\n",
       "      <td>1.000000</td>\n",
       "      <td>16</td>\n",
       "    </tr>\n",
       "    <tr>\n",
       "      <th>17</th>\n",
       "      <td>{'C': 500, 'gamma': 0.001}</td>\n",
       "      <td>0.8490</td>\n",
       "      <td>1.000000</td>\n",
       "      <td>5</td>\n",
       "    </tr>\n",
       "    <tr>\n",
       "      <th>18</th>\n",
       "      <td>{'C': 500, 'gamma': 0.0001}</td>\n",
       "      <td>0.8730</td>\n",
       "      <td>1.000000</td>\n",
       "      <td>1</td>\n",
       "    </tr>\n",
       "    <tr>\n",
       "      <th>19</th>\n",
       "      <td>{'C': 500, 'gamma': 1e-05}</td>\n",
       "      <td>0.8360</td>\n",
       "      <td>0.993250</td>\n",
       "      <td>12</td>\n",
       "    </tr>\n",
       "    <tr>\n",
       "      <th>20</th>\n",
       "      <td>{'C': 1000, 'gamma': 0.1}</td>\n",
       "      <td>0.2030</td>\n",
       "      <td>1.000000</td>\n",
       "      <td>21</td>\n",
       "    </tr>\n",
       "    <tr>\n",
       "      <th>21</th>\n",
       "      <td>{'C': 1000, 'gamma': 0.01}</td>\n",
       "      <td>0.2510</td>\n",
       "      <td>1.000000</td>\n",
       "      <td>16</td>\n",
       "    </tr>\n",
       "    <tr>\n",
       "      <th>22</th>\n",
       "      <td>{'C': 1000, 'gamma': 0.001}</td>\n",
       "      <td>0.8490</td>\n",
       "      <td>1.000000</td>\n",
       "      <td>5</td>\n",
       "    </tr>\n",
       "    <tr>\n",
       "      <th>23</th>\n",
       "      <td>{'C': 1000, 'gamma': 0.0001}</td>\n",
       "      <td>0.8730</td>\n",
       "      <td>1.000000</td>\n",
       "      <td>1</td>\n",
       "    </tr>\n",
       "    <tr>\n",
       "      <th>24</th>\n",
       "      <td>{'C': 1000, 'gamma': 1e-05}</td>\n",
       "      <td>0.8385</td>\n",
       "      <td>0.997875</td>\n",
       "      <td>9</td>\n",
       "    </tr>\n",
       "  </tbody>\n",
       "</table>\n",
       "</div>\n",
       "      <button class=\"colab-df-convert\" onclick=\"convertToInteractive('df-20c1bd5f-c2b3-4d88-9338-736341f77a16')\"\n",
       "              title=\"Convert this dataframe to an interactive table.\"\n",
       "              style=\"display:none;\">\n",
       "        \n",
       "  <svg xmlns=\"http://www.w3.org/2000/svg\" height=\"24px\"viewBox=\"0 0 24 24\"\n",
       "       width=\"24px\">\n",
       "    <path d=\"M0 0h24v24H0V0z\" fill=\"none\"/>\n",
       "    <path d=\"M18.56 5.44l.94 2.06.94-2.06 2.06-.94-2.06-.94-.94-2.06-.94 2.06-2.06.94zm-11 1L8.5 8.5l.94-2.06 2.06-.94-2.06-.94L8.5 2.5l-.94 2.06-2.06.94zm10 10l.94 2.06.94-2.06 2.06-.94-2.06-.94-.94-2.06-.94 2.06-2.06.94z\"/><path d=\"M17.41 7.96l-1.37-1.37c-.4-.4-.92-.59-1.43-.59-.52 0-1.04.2-1.43.59L10.3 9.45l-7.72 7.72c-.78.78-.78 2.05 0 2.83L4 21.41c.39.39.9.59 1.41.59.51 0 1.02-.2 1.41-.59l7.78-7.78 2.81-2.81c.8-.78.8-2.07 0-2.86zM5.41 20L4 18.59l7.72-7.72 1.47 1.35L5.41 20z\"/>\n",
       "  </svg>\n",
       "      </button>\n",
       "      \n",
       "  <style>\n",
       "    .colab-df-container {\n",
       "      display:flex;\n",
       "      flex-wrap:wrap;\n",
       "      gap: 12px;\n",
       "    }\n",
       "\n",
       "    .colab-df-convert {\n",
       "      background-color: #E8F0FE;\n",
       "      border: none;\n",
       "      border-radius: 50%;\n",
       "      cursor: pointer;\n",
       "      display: none;\n",
       "      fill: #1967D2;\n",
       "      height: 32px;\n",
       "      padding: 0 0 0 0;\n",
       "      width: 32px;\n",
       "    }\n",
       "\n",
       "    .colab-df-convert:hover {\n",
       "      background-color: #E2EBFA;\n",
       "      box-shadow: 0px 1px 2px rgba(60, 64, 67, 0.3), 0px 1px 3px 1px rgba(60, 64, 67, 0.15);\n",
       "      fill: #174EA6;\n",
       "    }\n",
       "\n",
       "    [theme=dark] .colab-df-convert {\n",
       "      background-color: #3B4455;\n",
       "      fill: #D2E3FC;\n",
       "    }\n",
       "\n",
       "    [theme=dark] .colab-df-convert:hover {\n",
       "      background-color: #434B5C;\n",
       "      box-shadow: 0px 1px 3px 1px rgba(0, 0, 0, 0.15);\n",
       "      filter: drop-shadow(0px 1px 2px rgba(0, 0, 0, 0.3));\n",
       "      fill: #FFFFFF;\n",
       "    }\n",
       "  </style>\n",
       "\n",
       "      <script>\n",
       "        const buttonEl =\n",
       "          document.querySelector('#df-20c1bd5f-c2b3-4d88-9338-736341f77a16 button.colab-df-convert');\n",
       "        buttonEl.style.display =\n",
       "          google.colab.kernel.accessAllowed ? 'block' : 'none';\n",
       "\n",
       "        async function convertToInteractive(key) {\n",
       "          const element = document.querySelector('#df-20c1bd5f-c2b3-4d88-9338-736341f77a16');\n",
       "          const dataTable =\n",
       "            await google.colab.kernel.invokeFunction('convertToInteractive',\n",
       "                                                     [key], {});\n",
       "          if (!dataTable) return;\n",
       "\n",
       "          const docLinkHtml = 'Like what you see? Visit the ' +\n",
       "            '<a target=\"_blank\" href=https://colab.research.google.com/notebooks/data_table.ipynb>data table notebook</a>'\n",
       "            + ' to learn more about interactive tables.';\n",
       "          element.innerHTML = '';\n",
       "          dataTable['output_type'] = 'display_data';\n",
       "          await google.colab.output.renderOutput(dataTable, element);\n",
       "          const docLink = document.createElement('div');\n",
       "          docLink.innerHTML = docLinkHtml;\n",
       "          element.appendChild(docLink);\n",
       "        }\n",
       "      </script>\n",
       "    </div>\n",
       "  </div>\n",
       "  "
      ],
      "text/plain": [
       "                      parameters  validation_score  train_score  rank\n",
       "0         {'C': 1, 'gamma': 0.1}            0.2030     1.000000    21\n",
       "1        {'C': 1, 'gamma': 0.01}            0.2410     1.000000    20\n",
       "2       {'C': 1, 'gamma': 0.001}            0.8360     0.993750    11\n",
       "3      {'C': 1, 'gamma': 0.0001}            0.8255     0.929375    13\n",
       "4       {'C': 1, 'gamma': 1e-05}            0.6935     0.750500    15\n",
       "5        {'C': 10, 'gamma': 0.1}            0.2030     1.000000    21\n",
       "6       {'C': 10, 'gamma': 0.01}            0.2510     1.000000    16\n",
       "7      {'C': 10, 'gamma': 0.001}            0.8490     1.000000     5\n",
       "8     {'C': 10, 'gamma': 0.0001}            0.8550     0.983000     4\n",
       "9      {'C': 10, 'gamma': 1e-05}            0.8235     0.917875    14\n",
       "10      {'C': 100, 'gamma': 0.1}            0.2030     1.000000    21\n",
       "11     {'C': 100, 'gamma': 0.01}            0.2510     1.000000    16\n",
       "12    {'C': 100, 'gamma': 0.001}            0.8490     1.000000     5\n",
       "13   {'C': 100, 'gamma': 0.0001}            0.8715     1.000000     3\n",
       "14    {'C': 100, 'gamma': 1e-05}            0.8380     0.974375    10\n",
       "15      {'C': 500, 'gamma': 0.1}            0.2030     1.000000    21\n",
       "16     {'C': 500, 'gamma': 0.01}            0.2510     1.000000    16\n",
       "17    {'C': 500, 'gamma': 0.001}            0.8490     1.000000     5\n",
       "18   {'C': 500, 'gamma': 0.0001}            0.8730     1.000000     1\n",
       "19    {'C': 500, 'gamma': 1e-05}            0.8360     0.993250    12\n",
       "20     {'C': 1000, 'gamma': 0.1}            0.2030     1.000000    21\n",
       "21    {'C': 1000, 'gamma': 0.01}            0.2510     1.000000    16\n",
       "22   {'C': 1000, 'gamma': 0.001}            0.8490     1.000000     5\n",
       "23  {'C': 1000, 'gamma': 0.0001}            0.8730     1.000000     1\n",
       "24   {'C': 1000, 'gamma': 1e-05}            0.8385     0.997875     9"
      ]
     },
     "execution_count": 157,
     "metadata": {},
     "output_type": "execute_result"
    }
   ],
   "source": [
    "pd.DataFrame({'parameters': clf.cv_results_[\"params\"],\n",
    "              'validation_score': clf.cv_results_[\"mean_test_score\"],\n",
    "              'train_score': clf.cv_results_[\"mean_train_score\"],\n",
    "              'rank': clf.cv_results_[\"rank_test_score\"]})"
   ]
  },
  {
   "cell_type": "code",
   "execution_count": 156,
   "metadata": {
    "colab": {
     "base_uri": "https://localhost:8080/"
    },
    "id": "e4-EChhL13Tg",
    "outputId": "4b3fc008-04d0-42a3-991c-dd45ca51fe88"
   },
   "outputs": [
    {
     "name": "stdout",
     "output_type": "stream",
     "text": [
      "{'C': 500, 'gamma': 0.0001}\n",
      "0.376\n",
      "              precision    recall  f1-score   support\n",
      "\n",
      "           0       0.58      0.88      0.70        50\n",
      "           1       0.42      0.32      0.36        50\n",
      "           2       0.61      0.38      0.47        50\n",
      "           3       0.20      0.02      0.04        50\n",
      "           4       0.44      0.22      0.29        50\n",
      "           5       0.24      0.42      0.30        50\n",
      "           6       0.35      0.70      0.47        50\n",
      "           7       0.11      0.12      0.12        50\n",
      "           8       0.44      0.40      0.42        50\n",
      "           9       0.38      0.30      0.34        50\n",
      "\n",
      "    accuracy                           0.38       500\n",
      "   macro avg       0.38      0.38      0.35       500\n",
      "weighted avg       0.38      0.38      0.35       500\n",
      "\n"
     ]
    }
   ],
   "source": [
    "print(clf.best_params_)\n",
    "y_pred = clf.predict(X_spec_test_scale)\n",
    "print(accuracy_score(y_test,y_pred))\n",
    "print(classification_report(y_test, y_pred))"
   ]
  },
  {
   "cell_type": "code",
   "execution_count": 158,
   "metadata": {
    "colab": {
     "base_uri": "https://localhost:8080/",
     "height": 279
    },
    "id": "yxogkgXG_JkN",
    "outputId": "736c4955-5d58-438b-bd93-5b94c21bb8d6"
   },
   "outputs": [
    {
     "data": {
      "image/png": "[encoded data removed]",
      "text/plain": [
       "<Figure size 432x288 with 2 Axes>"
      ]
     },
     "metadata": {
      "needs_background": "light"
     },
     "output_type": "display_data"
    }
   ],
   "source": [
    "cm = confusion_matrix(y_test, y_pred, labels=clf.classes_)\n",
    "disp = ConfusionMatrixDisplay(confusion_matrix=cm,\n",
    "                             display_labels=clf.classes_)\n",
    "disp.plot()\n",
    "plt.show()"
   ]
  },
  {
   "cell_type": "code",
   "execution_count": null,
   "metadata": {
    "id": "mZC9nvAeAN9x"
   },
   "outputs": [],
   "source": []
  }
 ],
 "metadata": {
  "colab": {
   "collapsed_sections": [],
   "name": "Project.ipynb",
   "provenance": []
  },
  "kernelspec": {
   "display_name": "Python 3 (ipykernel)",
   "language": "python",
   "name": "python3"
  },
  "language_info": {
   "codemirror_mode": {
    "name": "ipython",
    "version": 3
   },
   "file_extension": ".py",
   "mimetype": "text/x-python",
   "name": "python",
   "nbconvert_exporter": "python",
   "pygments_lexer": "ipython3",
   "version": "3.7.5"
  }
 },
 "nbformat": 4,
 "nbformat_minor": 1
}
